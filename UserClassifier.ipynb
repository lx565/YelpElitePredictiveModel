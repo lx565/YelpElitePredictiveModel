{
 "cells": [
  {
   "cell_type": "code",
   "execution_count": 1,
   "metadata": {
    "collapsed": false
   },
   "outputs": [
    {
     "data": {
      "text/plain": [
       "<pyspark.context.SparkContext at 0x105bfe610>"
      ]
     },
     "execution_count": 1,
     "metadata": {},
     "output_type": "execute_result"
    }
   ],
   "source": [
    "sc"
   ]
  },
  {
   "cell_type": "code",
   "execution_count": 151,
   "metadata": {
    "collapsed": false
   },
   "outputs": [
    {
     "ename": "ImportError",
     "evalue": "No module named udf",
     "output_type": "error",
     "traceback": [
      "\u001b[0;31m---------------------------------------------------------------------------\u001b[0m",
      "\u001b[0;31mImportError\u001b[0m                               Traceback (most recent call last)",
      "\u001b[0;32m<ipython-input-151-ac532b4afbd1>\u001b[0m in \u001b[0;36m<module>\u001b[0;34m()\u001b[0m\n\u001b[1;32m      2\u001b[0m \u001b[0;32mimport\u001b[0m \u001b[0mpandas\u001b[0m \u001b[0;32mas\u001b[0m \u001b[0mpd\u001b[0m\u001b[0;34m\u001b[0m\u001b[0m\n\u001b[1;32m      3\u001b[0m \u001b[0;32mimport\u001b[0m \u001b[0mos\u001b[0m\u001b[0;34m\u001b[0m\u001b[0m\n\u001b[0;32m----> 4\u001b[0;31m \u001b[0;32mimport\u001b[0m \u001b[0mpyspark\u001b[0m\u001b[0;34m.\u001b[0m\u001b[0msql\u001b[0m\u001b[0;34m.\u001b[0m\u001b[0mfunctions\u001b[0m \u001b[0;32mas\u001b[0m \u001b[0msf\u001b[0m\u001b[0;34m,\u001b[0m \u001b[0mudf\u001b[0m\u001b[0;34m\u001b[0m\u001b[0m\n\u001b[0m\u001b[1;32m      5\u001b[0m \u001b[0;32mfrom\u001b[0m \u001b[0mpyspark\u001b[0m\u001b[0;34m.\u001b[0m\u001b[0msql\u001b[0m \u001b[0;32mimport\u001b[0m \u001b[0mRow\u001b[0m\u001b[0;34m\u001b[0m\u001b[0m\n\u001b[1;32m      6\u001b[0m \u001b[0;32mfrom\u001b[0m \u001b[0mnltk\u001b[0m\u001b[0;34m.\u001b[0m\u001b[0mcorpus\u001b[0m \u001b[0;32mimport\u001b[0m \u001b[0mstopwords\u001b[0m\u001b[0;34m\u001b[0m\u001b[0m\n",
      "\u001b[0;31mImportError\u001b[0m: No module named udf"
     ]
    }
   ],
   "source": [
    "import numpy as np\n",
    "import pandas as pd\n",
    "import os\n",
    "import pyspark.sql.functions as sf\n",
    "from pyspark.sql import Row\n",
    "from nltk.corpus import stopwords\n",
    "from textstat.textstat import textstat\n",
    "from pyspark.sql.types import StructType, StructField, IntegerType, StringType, FloatType"
   ]
  },
  {
   "cell_type": "markdown",
   "metadata": {},
   "source": [
    "---\n",
    "# Yelp Datasets"
   ]
  },
  {
   "cell_type": "code",
   "execution_count": 10,
   "metadata": {
    "collapsed": false
   },
   "outputs": [
    {
     "data": {
      "text/plain": [
       "['.ipynb_checkpoints',\n",
       " 'Pittsburgh',\n",
       " 'Yelp Shapefile',\n",
       " 'Yelp.xls',\n",
       " 'yelp_academic_dataset_business.json',\n",
       " 'yelp_academic_dataset_checkin.json',\n",
       " 'yelp_academic_dataset_review.json',\n",
       " 'yelp_academic_dataset_tip.json',\n",
       " 'yelp_academic_dataset_user.json']"
      ]
     },
     "execution_count": 10,
     "metadata": {},
     "output_type": "execute_result"
    }
   ],
   "source": [
    "path = '/Users/nnhoucheng/Dropbox/Yelp Project/Data/'\n",
    "os.listdir(path)"
   ]
  },
  {
   "cell_type": "markdown",
   "metadata": {},
   "source": [
    "## User profile"
   ]
  },
  {
   "cell_type": "code",
   "execution_count": 11,
   "metadata": {
    "collapsed": false
   },
   "outputs": [],
   "source": [
    "user = sqlContext.read.load(path + 'yelp_academic_dataset_user.json', format='json')"
   ]
  },
  {
   "cell_type": "code",
   "execution_count": 15,
   "metadata": {
    "collapsed": false
   },
   "outputs": [
    {
     "name": "stdout",
     "output_type": "stream",
     "text": [
      "root\n",
      " |-- average_stars: double (nullable = true)\n",
      " |-- compliments: struct (nullable = true)\n",
      " |    |-- cool: long (nullable = true)\n",
      " |    |-- cute: long (nullable = true)\n",
      " |    |-- funny: long (nullable = true)\n",
      " |    |-- hot: long (nullable = true)\n",
      " |    |-- list: long (nullable = true)\n",
      " |    |-- more: long (nullable = true)\n",
      " |    |-- note: long (nullable = true)\n",
      " |    |-- photos: long (nullable = true)\n",
      " |    |-- plain: long (nullable = true)\n",
      " |    |-- profile: long (nullable = true)\n",
      " |    |-- writer: long (nullable = true)\n",
      " |-- elite: array (nullable = true)\n",
      " |    |-- element: long (containsNull = true)\n",
      " |-- fans: long (nullable = true)\n",
      " |-- friends: array (nullable = true)\n",
      " |    |-- element: string (containsNull = true)\n",
      " |-- name: string (nullable = true)\n",
      " |-- review_count: long (nullable = true)\n",
      " |-- type: string (nullable = true)\n",
      " |-- user_id: string (nullable = true)\n",
      " |-- votes: struct (nullable = true)\n",
      " |    |-- cool: long (nullable = true)\n",
      " |    |-- funny: long (nullable = true)\n",
      " |    |-- useful: long (nullable = true)\n",
      " |-- yelping_since: string (nullable = true)\n",
      "\n"
     ]
    }
   ],
   "source": [
    "user.printSchema()"
   ]
  },
  {
   "cell_type": "markdown",
   "metadata": {},
   "source": [
    "### Filter review_count < 50"
   ]
  },
  {
   "cell_type": "code",
   "execution_count": 30,
   "metadata": {
    "collapsed": false
   },
   "outputs": [],
   "source": [
    "activeuser = user.filter(user.review_count >= 50).select('user_id').collect()"
   ]
  },
  {
   "cell_type": "code",
   "execution_count": 33,
   "metadata": {
    "collapsed": true
   },
   "outputs": [],
   "source": [
    "activeuser = map(lambda x: x['user_id'], activeuser)"
   ]
  },
  {
   "cell_type": "code",
   "execution_count": 34,
   "metadata": {
    "collapsed": false
   },
   "outputs": [
    {
     "data": {
      "text/plain": [
       "72273"
      ]
     },
     "execution_count": 34,
     "metadata": {},
     "output_type": "execute_result"
    }
   ],
   "source": [
    "len(activeuser)"
   ]
  },
  {
   "cell_type": "markdown",
   "metadata": {},
   "source": [
    "## Review text"
   ]
  },
  {
   "cell_type": "code",
   "execution_count": 24,
   "metadata": {
    "collapsed": true
   },
   "outputs": [],
   "source": [
    "review =sqlContext.read.load(path + 'yelp_academic_dataset_review.json', format='json')"
   ]
  },
  {
   "cell_type": "code",
   "execution_count": 26,
   "metadata": {
    "collapsed": false
   },
   "outputs": [
    {
     "name": "stdout",
     "output_type": "stream",
     "text": [
      "root\n",
      " |-- business_id: string (nullable = true)\n",
      " |-- date: string (nullable = true)\n",
      " |-- review_id: string (nullable = true)\n",
      " |-- stars: long (nullable = true)\n",
      " |-- text: string (nullable = true)\n",
      " |-- type: string (nullable = true)\n",
      " |-- user_id: string (nullable = true)\n",
      " |-- votes: struct (nullable = true)\n",
      " |    |-- cool: long (nullable = true)\n",
      " |    |-- funny: long (nullable = true)\n",
      " |    |-- useful: long (nullable = true)\n",
      "\n"
     ]
    }
   ],
   "source": [
    "review.printSchema()"
   ]
  },
  {
   "cell_type": "markdown",
   "metadata": {},
   "source": [
    "### Merge"
   ]
  },
  {
   "cell_type": "code",
   "execution_count": 41,
   "metadata": {
    "collapsed": false
   },
   "outputs": [
    {
     "data": {
      "text/html": [
       "<div>\n",
       "<table border=\"1\" class=\"dataframe\">\n",
       "  <thead>\n",
       "    <tr style=\"text-align: right;\">\n",
       "      <th></th>\n",
       "      <th>user_id</th>\n",
       "      <th>cool</th>\n",
       "      <th>funny</th>\n",
       "      <th>useful</th>\n",
       "      <th>stars</th>\n",
       "    </tr>\n",
       "  </thead>\n",
       "  <tbody>\n",
       "    <tr>\n",
       "      <th>0</th>\n",
       "      <td>JPPhyFE-UE453zA6K0TVgw</td>\n",
       "      <td>0</td>\n",
       "      <td>0</td>\n",
       "      <td>0</td>\n",
       "      <td>4</td>\n",
       "    </tr>\n",
       "    <tr>\n",
       "      <th>1</th>\n",
       "      <td>fhNxoMwwTipzjO8A9LFe8Q</td>\n",
       "      <td>0</td>\n",
       "      <td>0</td>\n",
       "      <td>1</td>\n",
       "      <td>3</td>\n",
       "    </tr>\n",
       "    <tr>\n",
       "      <th>2</th>\n",
       "      <td>tAKjY3bQXH51msJbOHYPmQ</td>\n",
       "      <td>2</td>\n",
       "      <td>0</td>\n",
       "      <td>3</td>\n",
       "      <td>5</td>\n",
       "    </tr>\n",
       "    <tr>\n",
       "      <th>3</th>\n",
       "      <td>Sjb5e5-gKoLXueFDMc2R8Q</td>\n",
       "      <td>0</td>\n",
       "      <td>0</td>\n",
       "      <td>0</td>\n",
       "      <td>4</td>\n",
       "    </tr>\n",
       "    <tr>\n",
       "      <th>4</th>\n",
       "      <td>2rSeth60_CuWN3ZJ4k41lg</td>\n",
       "      <td>19</td>\n",
       "      <td>11</td>\n",
       "      <td>22</td>\n",
       "      <td>3</td>\n",
       "    </tr>\n",
       "  </tbody>\n",
       "</table>\n",
       "</div>"
      ],
      "text/plain": [
       "                  user_id  cool  funny  useful  stars\n",
       "0  JPPhyFE-UE453zA6K0TVgw     0      0       0      4\n",
       "1  fhNxoMwwTipzjO8A9LFe8Q     0      0       1      3\n",
       "2  tAKjY3bQXH51msJbOHYPmQ     2      0       3      5\n",
       "3  Sjb5e5-gKoLXueFDMc2R8Q     0      0       0      4\n",
       "4  2rSeth60_CuWN3ZJ4k41lg    19     11      22      3"
      ]
     },
     "execution_count": 41,
     "metadata": {},
     "output_type": "execute_result"
    }
   ],
   "source": [
    "url = 'https://raw.githubusercontent.com/lx565/YelpFakeReviews/master/yelp.csv'\n",
    "df_review = pd.read_csv(url, header=None)\n",
    "df_review.columns = ['user_id', 'cool', 'funny', 'useful', 'stars']\n",
    "df_review.head()"
   ]
  },
  {
   "cell_type": "code",
   "execution_count": 81,
   "metadata": {
    "collapsed": false
   },
   "outputs": [],
   "source": [
    "df_review_u = df_review.groupby('user_id').mean().reset_index()\n",
    "df_review_u = df_review_u.merge(df_review.groupby('user_id').count()['cool']\\\n",
    "                                .reset_index().rename(columns={'cool':'review_count'}),\n",
    "                                on='user_id')"
   ]
  },
  {
   "cell_type": "code",
   "execution_count": 82,
   "metadata": {
    "collapsed": false
   },
   "outputs": [
    {
     "data": {
      "text/html": [
       "<div>\n",
       "<table border=\"1\" class=\"dataframe\">\n",
       "  <thead>\n",
       "    <tr style=\"text-align: right;\">\n",
       "      <th></th>\n",
       "      <th>user_id</th>\n",
       "      <th>cool</th>\n",
       "      <th>funny</th>\n",
       "      <th>useful</th>\n",
       "      <th>stars</th>\n",
       "      <th>review_count</th>\n",
       "    </tr>\n",
       "  </thead>\n",
       "  <tbody>\n",
       "    <tr>\n",
       "      <th>0</th>\n",
       "      <td>--65q1FpAL_UQtVZ2PTGew</td>\n",
       "      <td>2.695364</td>\n",
       "      <td>1.907285</td>\n",
       "      <td>3.807947</td>\n",
       "      <td>4.046358</td>\n",
       "      <td>151</td>\n",
       "    </tr>\n",
       "    <tr>\n",
       "      <th>1</th>\n",
       "      <td>-0itF0VWVBe3k2AdfUReGA</td>\n",
       "      <td>1.734043</td>\n",
       "      <td>1.500000</td>\n",
       "      <td>2.393617</td>\n",
       "      <td>3.670213</td>\n",
       "      <td>94</td>\n",
       "    </tr>\n",
       "    <tr>\n",
       "      <th>2</th>\n",
       "      <td>-2PFmYGWB6rQhZtRh6PlPA</td>\n",
       "      <td>0.183333</td>\n",
       "      <td>0.166667</td>\n",
       "      <td>0.675000</td>\n",
       "      <td>3.283333</td>\n",
       "      <td>120</td>\n",
       "    </tr>\n",
       "    <tr>\n",
       "      <th>3</th>\n",
       "      <td>-3akdU5UTDn6dwiTCO2cAw</td>\n",
       "      <td>0.736842</td>\n",
       "      <td>0.631579</td>\n",
       "      <td>1.447368</td>\n",
       "      <td>3.934211</td>\n",
       "      <td>76</td>\n",
       "    </tr>\n",
       "    <tr>\n",
       "      <th>4</th>\n",
       "      <td>-4AMRN-7RtozD9s8ZsH04g</td>\n",
       "      <td>1.644068</td>\n",
       "      <td>2.745763</td>\n",
       "      <td>2.644068</td>\n",
       "      <td>3.593220</td>\n",
       "      <td>59</td>\n",
       "    </tr>\n",
       "  </tbody>\n",
       "</table>\n",
       "</div>"
      ],
      "text/plain": [
       "                  user_id      cool     funny    useful     stars  \\\n",
       "0  --65q1FpAL_UQtVZ2PTGew  2.695364  1.907285  3.807947  4.046358   \n",
       "1  -0itF0VWVBe3k2AdfUReGA  1.734043  1.500000  2.393617  3.670213   \n",
       "2  -2PFmYGWB6rQhZtRh6PlPA  0.183333  0.166667  0.675000  3.283333   \n",
       "3  -3akdU5UTDn6dwiTCO2cAw  0.736842  0.631579  1.447368  3.934211   \n",
       "4  -4AMRN-7RtozD9s8ZsH04g  1.644068  2.745763  2.644068  3.593220   \n",
       "\n",
       "   review_count  \n",
       "0           151  \n",
       "1            94  \n",
       "2           120  \n",
       "3            76  \n",
       "4            59  "
      ]
     },
     "execution_count": 82,
     "metadata": {},
     "output_type": "execute_result"
    }
   ],
   "source": [
    "df_review_u.head()"
   ]
  },
  {
   "cell_type": "code",
   "execution_count": 49,
   "metadata": {
    "collapsed": true
   },
   "outputs": [],
   "source": [
    "df_users = list(df_review.user_id.unique())"
   ]
  },
  {
   "cell_type": "code",
   "execution_count": 74,
   "metadata": {
    "collapsed": false
   },
   "outputs": [],
   "source": [
    "user_p = user.filter(user.user_id.isin(df_users))"
   ]
  },
  {
   "cell_type": "code",
   "execution_count": 85,
   "metadata": {
    "collapsed": false
   },
   "outputs": [],
   "source": [
    "user_p = user_p.select('user_id',\n",
    "                       'name',\n",
    "                       'yelping_since',\n",
    "                       'fans',\n",
    "                       sf.size(user_p['friends']).alias('friends'),\n",
    "                       user_p['votes']['cool'].alias('vote_cool'),\n",
    "                       user_p['votes']['funny'].alias('vote_funny'),\n",
    "                       user_p['votes']['useful'].alias('vote_useful'),\n",
    "                       )"
   ]
  },
  {
   "cell_type": "code",
   "execution_count": 86,
   "metadata": {
    "collapsed": true
   },
   "outputs": [],
   "source": [
    "df_user_p = user_p.toPandas()"
   ]
  },
  {
   "cell_type": "code",
   "execution_count": 103,
   "metadata": {
    "collapsed": false
   },
   "outputs": [],
   "source": [
    "def convert2months(yelping_since, now='2017-04'):\n",
    "    [yy, ym] = yelping_since.split('-')\n",
    "    [ny, nm] = now.split('-')\n",
    "    return 12 * (int(ny) - int(yy)) + int(nm) - int(ym)"
   ]
  },
  {
   "cell_type": "code",
   "execution_count": 104,
   "metadata": {
    "collapsed": true
   },
   "outputs": [],
   "source": [
    "df_user_p['yelp_age'] = df_user_p.loc[:,'yelping_since'].apply(convert2months)"
   ]
  },
  {
   "cell_type": "code",
   "execution_count": 105,
   "metadata": {
    "collapsed": false
   },
   "outputs": [
    {
     "data": {
      "text/html": [
       "<div>\n",
       "<table border=\"1\" class=\"dataframe\">\n",
       "  <thead>\n",
       "    <tr style=\"text-align: right;\">\n",
       "      <th></th>\n",
       "      <th>user_id</th>\n",
       "      <th>name</th>\n",
       "      <th>yelping_since</th>\n",
       "      <th>fans</th>\n",
       "      <th>friends</th>\n",
       "      <th>vote_cool</th>\n",
       "      <th>vote_funny</th>\n",
       "      <th>vote_useful</th>\n",
       "      <th>yelp_age</th>\n",
       "    </tr>\n",
       "  </thead>\n",
       "  <tbody>\n",
       "    <tr>\n",
       "      <th>0</th>\n",
       "      <td>7cIc52lToGmKu7Hpp6rPdg</td>\n",
       "      <td>Fred</td>\n",
       "      <td>2012-04</td>\n",
       "      <td>3</td>\n",
       "      <td>65</td>\n",
       "      <td>17</td>\n",
       "      <td>8</td>\n",
       "      <td>57</td>\n",
       "      <td>60</td>\n",
       "    </tr>\n",
       "    <tr>\n",
       "      <th>1</th>\n",
       "      <td>tCVQyYHcmOrx2i81C47Tew</td>\n",
       "      <td>Melissa</td>\n",
       "      <td>2012-04</td>\n",
       "      <td>2</td>\n",
       "      <td>3</td>\n",
       "      <td>16</td>\n",
       "      <td>11</td>\n",
       "      <td>53</td>\n",
       "      <td>60</td>\n",
       "    </tr>\n",
       "    <tr>\n",
       "      <th>2</th>\n",
       "      <td>NPGgfQS-nMI1tEF1OrwzNw</td>\n",
       "      <td>Chazz</td>\n",
       "      <td>2011-05</td>\n",
       "      <td>1</td>\n",
       "      <td>7</td>\n",
       "      <td>21</td>\n",
       "      <td>80</td>\n",
       "      <td>71</td>\n",
       "      <td>71</td>\n",
       "    </tr>\n",
       "    <tr>\n",
       "      <th>3</th>\n",
       "      <td>FDG85sQMtHuI2a0ix9ZBcw</td>\n",
       "      <td>Mike</td>\n",
       "      <td>2011-09</td>\n",
       "      <td>10</td>\n",
       "      <td>57</td>\n",
       "      <td>171</td>\n",
       "      <td>349</td>\n",
       "      <td>414</td>\n",
       "      <td>67</td>\n",
       "    </tr>\n",
       "    <tr>\n",
       "      <th>4</th>\n",
       "      <td>Kf77TWS2HOJCRFl-fLiueg</td>\n",
       "      <td>Christina</td>\n",
       "      <td>2010-07</td>\n",
       "      <td>9</td>\n",
       "      <td>171</td>\n",
       "      <td>252</td>\n",
       "      <td>186</td>\n",
       "      <td>529</td>\n",
       "      <td>81</td>\n",
       "    </tr>\n",
       "  </tbody>\n",
       "</table>\n",
       "</div>"
      ],
      "text/plain": [
       "                  user_id       name yelping_since  fans  friends  vote_cool  \\\n",
       "0  7cIc52lToGmKu7Hpp6rPdg       Fred       2012-04     3       65         17   \n",
       "1  tCVQyYHcmOrx2i81C47Tew    Melissa       2012-04     2        3         16   \n",
       "2  NPGgfQS-nMI1tEF1OrwzNw      Chazz       2011-05     1        7         21   \n",
       "3  FDG85sQMtHuI2a0ix9ZBcw       Mike       2011-09    10       57        171   \n",
       "4  Kf77TWS2HOJCRFl-fLiueg  Christina       2010-07     9      171        252   \n",
       "\n",
       "   vote_funny  vote_useful  yelp_age  \n",
       "0           8           57        60  \n",
       "1          11           53        60  \n",
       "2          80           71        71  \n",
       "3         349          414        67  \n",
       "4         186          529        81  "
      ]
     },
     "execution_count": 105,
     "metadata": {},
     "output_type": "execute_result"
    }
   ],
   "source": [
    "df_user_p.head()"
   ]
  },
  {
   "cell_type": "code",
   "execution_count": 107,
   "metadata": {
    "collapsed": false
   },
   "outputs": [
    {
     "data": {
      "text/html": [
       "<div>\n",
       "<table border=\"1\" class=\"dataframe\">\n",
       "  <thead>\n",
       "    <tr style=\"text-align: right;\">\n",
       "      <th></th>\n",
       "      <th>user_id</th>\n",
       "      <th>cool</th>\n",
       "      <th>funny</th>\n",
       "      <th>useful</th>\n",
       "      <th>stars</th>\n",
       "      <th>review_count</th>\n",
       "      <th>name</th>\n",
       "      <th>fans</th>\n",
       "      <th>friends</th>\n",
       "      <th>vote_cool</th>\n",
       "      <th>vote_funny</th>\n",
       "      <th>vote_useful</th>\n",
       "      <th>yelp_age</th>\n",
       "    </tr>\n",
       "  </thead>\n",
       "  <tbody>\n",
       "    <tr>\n",
       "      <th>0</th>\n",
       "      <td>--65q1FpAL_UQtVZ2PTGew</td>\n",
       "      <td>2.695364</td>\n",
       "      <td>1.907285</td>\n",
       "      <td>3.807947</td>\n",
       "      <td>4.046358</td>\n",
       "      <td>151</td>\n",
       "      <td>Nader</td>\n",
       "      <td>28</td>\n",
       "      <td>263</td>\n",
       "      <td>656</td>\n",
       "      <td>484</td>\n",
       "      <td>883</td>\n",
       "      <td>93</td>\n",
       "    </tr>\n",
       "    <tr>\n",
       "      <th>1</th>\n",
       "      <td>-0itF0VWVBe3k2AdfUReGA</td>\n",
       "      <td>1.734043</td>\n",
       "      <td>1.500000</td>\n",
       "      <td>2.393617</td>\n",
       "      <td>3.670213</td>\n",
       "      <td>94</td>\n",
       "      <td>Joseph</td>\n",
       "      <td>2</td>\n",
       "      <td>54</td>\n",
       "      <td>251</td>\n",
       "      <td>189</td>\n",
       "      <td>361</td>\n",
       "      <td>77</td>\n",
       "    </tr>\n",
       "    <tr>\n",
       "      <th>2</th>\n",
       "      <td>-2PFmYGWB6rQhZtRh6PlPA</td>\n",
       "      <td>0.183333</td>\n",
       "      <td>0.166667</td>\n",
       "      <td>0.675000</td>\n",
       "      <td>3.283333</td>\n",
       "      <td>120</td>\n",
       "      <td>M</td>\n",
       "      <td>0</td>\n",
       "      <td>10</td>\n",
       "      <td>41</td>\n",
       "      <td>91</td>\n",
       "      <td>177</td>\n",
       "      <td>85</td>\n",
       "    </tr>\n",
       "    <tr>\n",
       "      <th>3</th>\n",
       "      <td>-3akdU5UTDn6dwiTCO2cAw</td>\n",
       "      <td>0.736842</td>\n",
       "      <td>0.631579</td>\n",
       "      <td>1.447368</td>\n",
       "      <td>3.934211</td>\n",
       "      <td>76</td>\n",
       "      <td>April</td>\n",
       "      <td>7</td>\n",
       "      <td>133</td>\n",
       "      <td>83</td>\n",
       "      <td>62</td>\n",
       "      <td>165</td>\n",
       "      <td>82</td>\n",
       "    </tr>\n",
       "    <tr>\n",
       "      <th>4</th>\n",
       "      <td>-4AMRN-7RtozD9s8ZsH04g</td>\n",
       "      <td>1.644068</td>\n",
       "      <td>2.745763</td>\n",
       "      <td>2.644068</td>\n",
       "      <td>3.593220</td>\n",
       "      <td>59</td>\n",
       "      <td>Hion</td>\n",
       "      <td>33</td>\n",
       "      <td>219</td>\n",
       "      <td>1325</td>\n",
       "      <td>1674</td>\n",
       "      <td>2067</td>\n",
       "      <td>81</td>\n",
       "    </tr>\n",
       "  </tbody>\n",
       "</table>\n",
       "</div>"
      ],
      "text/plain": [
       "                  user_id      cool     funny    useful     stars  \\\n",
       "0  --65q1FpAL_UQtVZ2PTGew  2.695364  1.907285  3.807947  4.046358   \n",
       "1  -0itF0VWVBe3k2AdfUReGA  1.734043  1.500000  2.393617  3.670213   \n",
       "2  -2PFmYGWB6rQhZtRh6PlPA  0.183333  0.166667  0.675000  3.283333   \n",
       "3  -3akdU5UTDn6dwiTCO2cAw  0.736842  0.631579  1.447368  3.934211   \n",
       "4  -4AMRN-7RtozD9s8ZsH04g  1.644068  2.745763  2.644068  3.593220   \n",
       "\n",
       "   review_count    name  fans  friends  vote_cool  vote_funny  vote_useful  \\\n",
       "0           151   Nader    28      263        656         484          883   \n",
       "1            94  Joseph     2       54        251         189          361   \n",
       "2           120       M     0       10         41          91          177   \n",
       "3            76   April     7      133         83          62          165   \n",
       "4            59    Hion    33      219       1325        1674         2067   \n",
       "\n",
       "   yelp_age  \n",
       "0        93  \n",
       "1        77  \n",
       "2        85  \n",
       "3        82  \n",
       "4        81  "
      ]
     },
     "execution_count": 107,
     "metadata": {},
     "output_type": "execute_result"
    }
   ],
   "source": [
    "df = pd.merge(df_review_u, df_user_p.drop('yelping_since', axis=1), on='user_id')\n",
    "df.head()"
   ]
  },
  {
   "cell_type": "code",
   "execution_count": 159,
   "metadata": {
    "collapsed": false
   },
   "outputs": [],
   "source": [
    "df.to_excel('yelp_user.xlsx')"
   ]
  },
  {
   "cell_type": "markdown",
   "metadata": {},
   "source": [
    "## Text Processing\n",
    "### Keep only df_users"
   ]
  },
  {
   "cell_type": "code",
   "execution_count": 109,
   "metadata": {
    "collapsed": false
   },
   "outputs": [],
   "source": [
    "review_p = review.filter(review.user_id.isin(df_users)) \\\n",
    "                 .select('user_id', 'text')"
   ]
  },
  {
   "cell_type": "code",
   "execution_count": 155,
   "metadata": {
    "collapsed": true
   },
   "outputs": [],
   "source": [
    "def FRE(list_of_records):\n",
    "    \n",
    "    for row in list_of_records:\n",
    "        try:\n",
    "            score = textstat.flesch_reading_ease(row['text'])\n",
    "        except TypeError:\n",
    "            continue\n",
    "        \n",
    "        yield (row['user_id'], score)"
   ]
  },
  {
   "cell_type": "code",
   "execution_count": 154,
   "metadata": {
    "collapsed": false
   },
   "outputs": [
    {
     "data": {
      "text/plain": [
       "129.68"
      ]
     },
     "execution_count": 154,
     "metadata": {},
     "output_type": "execute_result"
    }
   ],
   "source": [
    "textstat.flesch_reading_ease('ss')"
   ]
  },
  {
   "cell_type": "code",
   "execution_count": 148,
   "metadata": {
    "collapsed": false
   },
   "outputs": [],
   "source": [
    "schema = StructType([StructField('user_id', StringType()),\n",
    "                    StructField('FRE', FloatType())])"
   ]
  },
  {
   "cell_type": "code",
   "execution_count": 156,
   "metadata": {
    "collapsed": true
   },
   "outputs": [],
   "source": [
    "Fs = review_p.rdd.mapPartitions(FRE).collect()"
   ]
  },
  {
   "cell_type": "code",
   "execution_count": 161,
   "metadata": {
    "collapsed": false
   },
   "outputs": [],
   "source": [
    "df_FRE = sqlContext.createDataFrame(Fs, schema).toPandas()"
   ]
  },
  {
   "cell_type": "code",
   "execution_count": 162,
   "metadata": {
    "collapsed": false
   },
   "outputs": [
    {
     "data": {
      "text/html": [
       "<div>\n",
       "<table border=\"1\" class=\"dataframe\">\n",
       "  <thead>\n",
       "    <tr style=\"text-align: right;\">\n",
       "      <th></th>\n",
       "      <th>user_id</th>\n",
       "      <th>FRE</th>\n",
       "    </tr>\n",
       "  </thead>\n",
       "  <tbody>\n",
       "    <tr>\n",
       "      <th>0</th>\n",
       "      <td>JPPhyFE-UE453zA6K0TVgw</td>\n",
       "      <td>96.180000</td>\n",
       "    </tr>\n",
       "    <tr>\n",
       "      <th>1</th>\n",
       "      <td>fhNxoMwwTipzjO8A9LFe8Q</td>\n",
       "      <td>74.190002</td>\n",
       "    </tr>\n",
       "    <tr>\n",
       "      <th>2</th>\n",
       "      <td>tAKjY3bQXH51msJbOHYPmQ</td>\n",
       "      <td>83.660004</td>\n",
       "    </tr>\n",
       "    <tr>\n",
       "      <th>3</th>\n",
       "      <td>Sjb5e5-gKoLXueFDMc2R8Q</td>\n",
       "      <td>87.720001</td>\n",
       "    </tr>\n",
       "    <tr>\n",
       "      <th>4</th>\n",
       "      <td>2rSeth60_CuWN3ZJ4k41lg</td>\n",
       "      <td>84.680000</td>\n",
       "    </tr>\n",
       "  </tbody>\n",
       "</table>\n",
       "</div>"
      ],
      "text/plain": [
       "                  user_id        FRE\n",
       "0  JPPhyFE-UE453zA6K0TVgw  96.180000\n",
       "1  fhNxoMwwTipzjO8A9LFe8Q  74.190002\n",
       "2  tAKjY3bQXH51msJbOHYPmQ  83.660004\n",
       "3  Sjb5e5-gKoLXueFDMc2R8Q  87.720001\n",
       "4  2rSeth60_CuWN3ZJ4k41lg  84.680000"
      ]
     },
     "execution_count": 162,
     "metadata": {},
     "output_type": "execute_result"
    }
   ],
   "source": [
    "df_FRE.head()"
   ]
  },
  {
   "cell_type": "code",
   "execution_count": 163,
   "metadata": {
    "collapsed": true
   },
   "outputs": [],
   "source": [
    "df_FRE.to_excel('Review_p_FRE.xlsx')"
   ]
  },
  {
   "cell_type": "code",
   "execution_count": 165,
   "metadata": {
    "collapsed": false
   },
   "outputs": [],
   "source": [
    "df_FRE_u = df_FRE.groupby('user_id').mean().reset_index()"
   ]
  },
  {
   "cell_type": "code",
   "execution_count": 167,
   "metadata": {
    "collapsed": false
   },
   "outputs": [
    {
     "data": {
      "text/html": [
       "<div>\n",
       "<table border=\"1\" class=\"dataframe\">\n",
       "  <thead>\n",
       "    <tr style=\"text-align: right;\">\n",
       "      <th></th>\n",
       "      <th>user_id</th>\n",
       "      <th>cool</th>\n",
       "      <th>funny</th>\n",
       "      <th>useful</th>\n",
       "      <th>stars</th>\n",
       "      <th>review_count</th>\n",
       "      <th>name</th>\n",
       "      <th>fans</th>\n",
       "      <th>friends</th>\n",
       "      <th>vote_cool</th>\n",
       "      <th>vote_funny</th>\n",
       "      <th>vote_useful</th>\n",
       "      <th>yelp_age</th>\n",
       "      <th>FRE</th>\n",
       "    </tr>\n",
       "  </thead>\n",
       "  <tbody>\n",
       "    <tr>\n",
       "      <th>0</th>\n",
       "      <td>--65q1FpAL_UQtVZ2PTGew</td>\n",
       "      <td>2.695364</td>\n",
       "      <td>1.907285</td>\n",
       "      <td>3.807947</td>\n",
       "      <td>4.046358</td>\n",
       "      <td>151</td>\n",
       "      <td>Nader</td>\n",
       "      <td>28</td>\n",
       "      <td>263</td>\n",
       "      <td>656</td>\n",
       "      <td>484</td>\n",
       "      <td>883</td>\n",
       "      <td>93</td>\n",
       "      <td>78.259934</td>\n",
       "    </tr>\n",
       "    <tr>\n",
       "      <th>1</th>\n",
       "      <td>-0itF0VWVBe3k2AdfUReGA</td>\n",
       "      <td>1.734043</td>\n",
       "      <td>1.500000</td>\n",
       "      <td>2.393617</td>\n",
       "      <td>3.670213</td>\n",
       "      <td>94</td>\n",
       "      <td>Joseph</td>\n",
       "      <td>2</td>\n",
       "      <td>54</td>\n",
       "      <td>251</td>\n",
       "      <td>189</td>\n",
       "      <td>361</td>\n",
       "      <td>77</td>\n",
       "      <td>69.490000</td>\n",
       "    </tr>\n",
       "    <tr>\n",
       "      <th>2</th>\n",
       "      <td>-2PFmYGWB6rQhZtRh6PlPA</td>\n",
       "      <td>0.183333</td>\n",
       "      <td>0.166667</td>\n",
       "      <td>0.675000</td>\n",
       "      <td>3.283333</td>\n",
       "      <td>120</td>\n",
       "      <td>M</td>\n",
       "      <td>0</td>\n",
       "      <td>10</td>\n",
       "      <td>41</td>\n",
       "      <td>91</td>\n",
       "      <td>177</td>\n",
       "      <td>85</td>\n",
       "      <td>79.785834</td>\n",
       "    </tr>\n",
       "    <tr>\n",
       "      <th>3</th>\n",
       "      <td>-3akdU5UTDn6dwiTCO2cAw</td>\n",
       "      <td>0.736842</td>\n",
       "      <td>0.631579</td>\n",
       "      <td>1.447368</td>\n",
       "      <td>3.934211</td>\n",
       "      <td>76</td>\n",
       "      <td>April</td>\n",
       "      <td>7</td>\n",
       "      <td>133</td>\n",
       "      <td>83</td>\n",
       "      <td>62</td>\n",
       "      <td>165</td>\n",
       "      <td>82</td>\n",
       "      <td>77.291579</td>\n",
       "    </tr>\n",
       "    <tr>\n",
       "      <th>4</th>\n",
       "      <td>-4AMRN-7RtozD9s8ZsH04g</td>\n",
       "      <td>1.644068</td>\n",
       "      <td>2.745763</td>\n",
       "      <td>2.644068</td>\n",
       "      <td>3.593220</td>\n",
       "      <td>59</td>\n",
       "      <td>Hion</td>\n",
       "      <td>33</td>\n",
       "      <td>219</td>\n",
       "      <td>1325</td>\n",
       "      <td>1674</td>\n",
       "      <td>2067</td>\n",
       "      <td>81</td>\n",
       "      <td>75.822373</td>\n",
       "    </tr>\n",
       "  </tbody>\n",
       "</table>\n",
       "</div>"
      ],
      "text/plain": [
       "                  user_id      cool     funny    useful     stars  \\\n",
       "0  --65q1FpAL_UQtVZ2PTGew  2.695364  1.907285  3.807947  4.046358   \n",
       "1  -0itF0VWVBe3k2AdfUReGA  1.734043  1.500000  2.393617  3.670213   \n",
       "2  -2PFmYGWB6rQhZtRh6PlPA  0.183333  0.166667  0.675000  3.283333   \n",
       "3  -3akdU5UTDn6dwiTCO2cAw  0.736842  0.631579  1.447368  3.934211   \n",
       "4  -4AMRN-7RtozD9s8ZsH04g  1.644068  2.745763  2.644068  3.593220   \n",
       "\n",
       "   review_count    name  fans  friends  vote_cool  vote_funny  vote_useful  \\\n",
       "0           151   Nader    28      263        656         484          883   \n",
       "1            94  Joseph     2       54        251         189          361   \n",
       "2           120       M     0       10         41          91          177   \n",
       "3            76   April     7      133         83          62          165   \n",
       "4            59    Hion    33      219       1325        1674         2067   \n",
       "\n",
       "   yelp_age        FRE  \n",
       "0        93  78.259934  \n",
       "1        77  69.490000  \n",
       "2        85  79.785834  \n",
       "3        82  77.291579  \n",
       "4        81  75.822373  "
      ]
     },
     "execution_count": 167,
     "metadata": {},
     "output_type": "execute_result"
    }
   ],
   "source": [
    "df = df.merge(df_FRE_u, on='user_id')\n",
    "df.head()"
   ]
  },
  {
   "cell_type": "code",
   "execution_count": 168,
   "metadata": {
    "collapsed": true
   },
   "outputs": [],
   "source": [
    "df.to_excel('yelp_user.xlsx')"
   ]
  },
  {
   "cell_type": "code",
   "execution_count": 175,
   "metadata": {
    "collapsed": false
   },
   "outputs": [
    {
     "data": {
      "text/plain": [
       "3769    17.708368\n",
       "2392    22.675798\n",
       "532     23.509267\n",
       "393     40.380000\n",
       "4320    48.444259\n",
       "Name: FRE, dtype: float64"
      ]
     },
     "execution_count": 175,
     "metadata": {},
     "output_type": "execute_result"
    }
   ],
   "source": [
    "df.FRE.sort_values()[:5]"
   ]
  },
  {
   "cell_type": "code",
   "execution_count": 179,
   "metadata": {
    "collapsed": false
   },
   "outputs": [
    {
     "data": {
      "text/plain": [
       "2304    100.673637\n",
       "4104     99.406225\n",
       "122      97.917571\n",
       "4656     97.396849\n",
       "637      96.144085\n",
       "Name: FRE, dtype: float64"
      ]
     },
     "execution_count": 179,
     "metadata": {},
     "output_type": "execute_result"
    }
   ],
   "source": [
    "df.FRE.sort_values(ascending=False)[:5]"
   ]
  },
  {
   "cell_type": "code",
   "execution_count": 181,
   "metadata": {
    "collapsed": false
   },
   "outputs": [
    {
     "data": {
      "text/html": [
       "<div>\n",
       "<table border=\"1\" class=\"dataframe\">\n",
       "  <thead>\n",
       "    <tr style=\"text-align: right;\">\n",
       "      <th></th>\n",
       "      <th>user_id</th>\n",
       "      <th>cool</th>\n",
       "      <th>funny</th>\n",
       "      <th>useful</th>\n",
       "      <th>stars</th>\n",
       "      <th>review_count</th>\n",
       "      <th>name</th>\n",
       "      <th>fans</th>\n",
       "      <th>friends</th>\n",
       "      <th>vote_cool</th>\n",
       "      <th>vote_funny</th>\n",
       "      <th>vote_useful</th>\n",
       "      <th>yelp_age</th>\n",
       "      <th>FRE</th>\n",
       "    </tr>\n",
       "  </thead>\n",
       "  <tbody>\n",
       "    <tr>\n",
       "      <th>122</th>\n",
       "      <td>0grN-z7ah_vqotN24HClkA</td>\n",
       "      <td>0.171429</td>\n",
       "      <td>0.128571</td>\n",
       "      <td>0.185714</td>\n",
       "      <td>3.728571</td>\n",
       "      <td>70</td>\n",
       "      <td>Joe</td>\n",
       "      <td>7</td>\n",
       "      <td>20</td>\n",
       "      <td>95</td>\n",
       "      <td>99</td>\n",
       "      <td>319</td>\n",
       "      <td>50</td>\n",
       "      <td>97.917571</td>\n",
       "    </tr>\n",
       "    <tr>\n",
       "      <th>637</th>\n",
       "      <td>6wpEHXevnaIZp2kUTUfhxQ</td>\n",
       "      <td>0.253521</td>\n",
       "      <td>0.070423</td>\n",
       "      <td>0.535211</td>\n",
       "      <td>3.957746</td>\n",
       "      <td>71</td>\n",
       "      <td>Jeff</td>\n",
       "      <td>0</td>\n",
       "      <td>8</td>\n",
       "      <td>23</td>\n",
       "      <td>16</td>\n",
       "      <td>62</td>\n",
       "      <td>111</td>\n",
       "      <td>96.144085</td>\n",
       "    </tr>\n",
       "    <tr>\n",
       "      <th>2304</th>\n",
       "      <td>Ty2QGeDJsV9zp9GmlXrCrQ</td>\n",
       "      <td>0.072727</td>\n",
       "      <td>0.254545</td>\n",
       "      <td>0.163636</td>\n",
       "      <td>3.890909</td>\n",
       "      <td>55</td>\n",
       "      <td>bobby</td>\n",
       "      <td>3</td>\n",
       "      <td>12</td>\n",
       "      <td>92</td>\n",
       "      <td>142</td>\n",
       "      <td>201</td>\n",
       "      <td>97</td>\n",
       "      <td>100.673637</td>\n",
       "    </tr>\n",
       "    <tr>\n",
       "      <th>4104</th>\n",
       "      <td>qsyO7LAgVVFoLhxkdBwzGg</td>\n",
       "      <td>0.415094</td>\n",
       "      <td>0.245283</td>\n",
       "      <td>0.603774</td>\n",
       "      <td>4.320755</td>\n",
       "      <td>53</td>\n",
       "      <td>Scott</td>\n",
       "      <td>3</td>\n",
       "      <td>7</td>\n",
       "      <td>31</td>\n",
       "      <td>18</td>\n",
       "      <td>54</td>\n",
       "      <td>66</td>\n",
       "      <td>99.406225</td>\n",
       "    </tr>\n",
       "    <tr>\n",
       "      <th>4656</th>\n",
       "      <td>ylIgegaQaJOjL4_lH2EkFA</td>\n",
       "      <td>1.534247</td>\n",
       "      <td>0.958904</td>\n",
       "      <td>1.547945</td>\n",
       "      <td>4.000000</td>\n",
       "      <td>73</td>\n",
       "      <td>Sammy</td>\n",
       "      <td>12</td>\n",
       "      <td>154</td>\n",
       "      <td>195</td>\n",
       "      <td>113</td>\n",
       "      <td>200</td>\n",
       "      <td>66</td>\n",
       "      <td>97.396849</td>\n",
       "    </tr>\n",
       "  </tbody>\n",
       "</table>\n",
       "</div>"
      ],
      "text/plain": [
       "                     user_id      cool     funny    useful     stars  \\\n",
       "122   0grN-z7ah_vqotN24HClkA  0.171429  0.128571  0.185714  3.728571   \n",
       "637   6wpEHXevnaIZp2kUTUfhxQ  0.253521  0.070423  0.535211  3.957746   \n",
       "2304  Ty2QGeDJsV9zp9GmlXrCrQ  0.072727  0.254545  0.163636  3.890909   \n",
       "4104  qsyO7LAgVVFoLhxkdBwzGg  0.415094  0.245283  0.603774  4.320755   \n",
       "4656  ylIgegaQaJOjL4_lH2EkFA  1.534247  0.958904  1.547945  4.000000   \n",
       "\n",
       "      review_count   name  fans  friends  vote_cool  vote_funny  vote_useful  \\\n",
       "122             70    Joe     7       20         95          99          319   \n",
       "637             71   Jeff     0        8         23          16           62   \n",
       "2304            55  bobby     3       12         92         142          201   \n",
       "4104            53  Scott     3        7         31          18           54   \n",
       "4656            73  Sammy    12      154        195         113          200   \n",
       "\n",
       "      yelp_age         FRE  \n",
       "122         50   97.917571  \n",
       "637        111   96.144085  \n",
       "2304        97  100.673637  \n",
       "4104        66   99.406225  \n",
       "4656        66   97.396849  "
      ]
     },
     "execution_count": 181,
     "metadata": {},
     "output_type": "execute_result"
    }
   ],
   "source": [
    "df[df.FRE > 96]"
   ]
  },
  {
   "cell_type": "code",
   "execution_count": 177,
   "metadata": {
    "collapsed": false
   },
   "outputs": [
    {
     "data": {
      "text/html": [
       "<div>\n",
       "<table border=\"1\" class=\"dataframe\">\n",
       "  <thead>\n",
       "    <tr style=\"text-align: right;\">\n",
       "      <th></th>\n",
       "      <th>user_id</th>\n",
       "      <th>cool</th>\n",
       "      <th>funny</th>\n",
       "      <th>useful</th>\n",
       "      <th>stars</th>\n",
       "      <th>review_count</th>\n",
       "      <th>name</th>\n",
       "      <th>fans</th>\n",
       "      <th>friends</th>\n",
       "      <th>vote_cool</th>\n",
       "      <th>vote_funny</th>\n",
       "      <th>vote_useful</th>\n",
       "      <th>yelp_age</th>\n",
       "      <th>FRE</th>\n",
       "    </tr>\n",
       "  </thead>\n",
       "  <tbody>\n",
       "    <tr>\n",
       "      <th>393</th>\n",
       "      <td>46xrtwjJidLUkqd-XOYg7w</td>\n",
       "      <td>0.245283</td>\n",
       "      <td>1.245283</td>\n",
       "      <td>0.433962</td>\n",
       "      <td>4.660377</td>\n",
       "      <td>53</td>\n",
       "      <td>James</td>\n",
       "      <td>4</td>\n",
       "      <td>41</td>\n",
       "      <td>26</td>\n",
       "      <td>93</td>\n",
       "      <td>36</td>\n",
       "      <td>17</td>\n",
       "      <td>40.380000</td>\n",
       "    </tr>\n",
       "    <tr>\n",
       "      <th>532</th>\n",
       "      <td>5lq4LkrviYgQ4LJNsBYHcA</td>\n",
       "      <td>3.759884</td>\n",
       "      <td>2.580521</td>\n",
       "      <td>5.129219</td>\n",
       "      <td>3.773385</td>\n",
       "      <td>1037</td>\n",
       "      <td>Michael</td>\n",
       "      <td>413</td>\n",
       "      <td>930</td>\n",
       "      <td>9405</td>\n",
       "      <td>6332</td>\n",
       "      <td>12901</td>\n",
       "      <td>111</td>\n",
       "      <td>23.509267</td>\n",
       "    </tr>\n",
       "    <tr>\n",
       "      <th>2392</th>\n",
       "      <td>VD4E91XNSP8_B5fit__u8w</td>\n",
       "      <td>0.050420</td>\n",
       "      <td>0.100840</td>\n",
       "      <td>0.176471</td>\n",
       "      <td>3.823529</td>\n",
       "      <td>119</td>\n",
       "      <td>Slade</td>\n",
       "      <td>0</td>\n",
       "      <td>0</td>\n",
       "      <td>8</td>\n",
       "      <td>17</td>\n",
       "      <td>30</td>\n",
       "      <td>19</td>\n",
       "      <td>22.675798</td>\n",
       "    </tr>\n",
       "    <tr>\n",
       "      <th>3769</th>\n",
       "      <td>mPXLOWxmUwmN8HGDwE-i2A</td>\n",
       "      <td>0.234694</td>\n",
       "      <td>0.102041</td>\n",
       "      <td>0.295918</td>\n",
       "      <td>3.989796</td>\n",
       "      <td>98</td>\n",
       "      <td>Carlos</td>\n",
       "      <td>1</td>\n",
       "      <td>2</td>\n",
       "      <td>31</td>\n",
       "      <td>18</td>\n",
       "      <td>43</td>\n",
       "      <td>51</td>\n",
       "      <td>17.708368</td>\n",
       "    </tr>\n",
       "  </tbody>\n",
       "</table>\n",
       "</div>"
      ],
      "text/plain": [
       "                     user_id      cool     funny    useful     stars  \\\n",
       "393   46xrtwjJidLUkqd-XOYg7w  0.245283  1.245283  0.433962  4.660377   \n",
       "532   5lq4LkrviYgQ4LJNsBYHcA  3.759884  2.580521  5.129219  3.773385   \n",
       "2392  VD4E91XNSP8_B5fit__u8w  0.050420  0.100840  0.176471  3.823529   \n",
       "3769  mPXLOWxmUwmN8HGDwE-i2A  0.234694  0.102041  0.295918  3.989796   \n",
       "\n",
       "      review_count     name  fans  friends  vote_cool  vote_funny  \\\n",
       "393             53    James     4       41         26          93   \n",
       "532           1037  Michael   413      930       9405        6332   \n",
       "2392           119    Slade     0        0          8          17   \n",
       "3769            98   Carlos     1        2         31          18   \n",
       "\n",
       "      vote_useful  yelp_age        FRE  \n",
       "393            36        17  40.380000  \n",
       "532         12901       111  23.509267  \n",
       "2392           30        19  22.675798  \n",
       "3769           43        51  17.708368  "
      ]
     },
     "execution_count": 177,
     "metadata": {},
     "output_type": "execute_result"
    }
   ],
   "source": [
    "df[df.FRE < 41]"
   ]
  },
  {
   "cell_type": "code",
   "execution_count": 178,
   "metadata": {
    "collapsed": false
   },
   "outputs": [
    {
     "data": {
      "text/plain": [
       "[Row(user_id=u'5lq4LkrviYgQ4LJNsBYHcA', text=u\"Very modern, super friendly staff, classess offered to public and students alike.  Unfortunately they were between shows when we visited, but even then there was a lot to see and the instructor upstairs was quite comfortable working in front of the public.  I'd go back, especially if I lived in town.\"),\n",
       " Row(user_id=u'5lq4LkrviYgQ4LJNsBYHcA', text=u'For our last lunch in Pittsburgh we decided to return to the Big Burrito Group; Eleven was quite good and both Gayot and Pittsburgh Magazine compared the experience at Casbah favorably to that of Big Burrito\\'s crown jewel.  Citing a mix of Mediterranean and Northern African influences with a bargain Piccola Gusto Menu for lunch and the option for indoor or al fresco dining it seemed as if Casbah was a can\\'t miss option...well, sometimes things don\\'t turn out quite as you expect - almost everything that transpired from the moment we arrived until the moment we left was a failure.\\n\\nWhen our server, a young woman named Amanda L who would prove quite inept and inefficient from start to finish, finally did arrive our menus were delivered with a brief hello before she wandered away - another server later stopped by to fill our water and drinks were never even offered.  When Amanda finally did return she was capable of answering a couple questions about portion size and our orders were placed.  With my mom and sister opting for the two-course Gusto lunch and myself choosing two courses a la carte we sat and sipped our water.\\n\\nWaiting approximately 10 minutes another ancillary server arrived with bread and butter - a light and airy white bread with a hefty crust paired with a sweet and salted cow\\'s milk butter - decent, but nothing to write home about compared to the myriad bread options at Eleven.  After this point we would not see another staff member for 30 minutes...well, we would see them, they just wouldn\\'t be walking anywhere near our table - instead bussing tables and running around while the hostess flirted with a man at the bar...I\\'ll note that my water glass remained empty for greater than 15 minutes.\\n\\nFinished with our first courses approximately 10 minutes would pass - long enough for me to actively collect each and every plate and stack them at the empty seat of our four-top - before Amanda would finally return to collect the dirty plates...we\\'d not see her again until 15 minutes later when she filled our water glasses and told us our main courses would be \"right out.\"  While I guess she didn\\'t define \"right out,\" what this actually meant was \"in 25 minutes.\"  Starting first with my mother\\'s combo - Jumbo Lump Crab, pepper bacon, avocado, radish sprouts, on a paesano bun and Orecchiette Pasta with grilled chicken, dried cranberries, Riverview Farms goat cheese, sage cream. While the sandwich may not be memorable, the pasta was actually quite impressive.  Using a less salty cheese and mild cream to flavor the al dente little ears of pasta worked wonders while the sweet/savory m\\xe9lange of craisins and grilled chicken were a nice match.\\n\\nVastly less well done than my mother\\'s plate would be my sister\\'s option - the Grilled Vegetables, portobello, zucchini, eggplant, arugula, chickpea hummus, on baguette and Maccheretto pasta with wild mushrooms, white beans, sun-dried tomatoes, rapini pesto, fontina, walnuts.  Beginning with the sandwich, the bite I had was good in taste but rather mushy in consistency - too many similar vegetable textures and the hummus spread too thickly.  Moving on to the pasta - we all tasted it, but I\\'m still not sure what we were supposed to be tasting - it tasted like watery cheese...no spice, no salt, and certainly nothing resembling pesto or tomatoes.  For the first time in the meal Amanda actually opted to check on us approximately 10 minutes into our main courses and when told of the watery pasta she did apologize and offered to replace it with something else - more Orcchiette.\\n\\nFor my main course I received a simple side salad-fresh greens, crispy onion strings, and a pleasant vinaigrette.  The salad, of course, was served alongside Elysian Fields Lamb \"Mac and Cheese\", tubetti pasta, mascarpone, cheddar, Pecorino-Romano, and bread crumbs.  Piping hot and browned with crispy bread crumbs the dish was a decent Macaroni and Cheese, but honestly the lamb was so scarce and thinly cut that it added little.\\n\\nCompleting our mains approximately 110 minutes after entering Casbah we again waited nearly ten minutes before anyone would stop by to collect dirty plates-a different ancillary server this time.  With my mother and sister already deciding enough was enough they stood up to use the restroom before leaving-by the time Amanda would stop by to ask if anyone would care for dessert our two course meal had lasted 2:05 and I skipped on a menu entailing bread pudding, carrot cake, and panna cotta with \"just the bill.\"\\n\\nSettling the bill via credit card no tip was left because no tip was deserved - in reality Amanda may have actually be the worst server I\\'ve encountered at a fine dining establishment in the last 2 years.  I will note that when I wrote to Big Burrito was met by a (seemingly) sincere apology without excuses - the Manager stated things don\\'t\\' normally happen like that and he\\'d be sure the issue was addressed.  He closed with \"I hope you will join us again.\" I will not.'),\n",
       " Row(user_id=u'5lq4LkrviYgQ4LJNsBYHcA', text=u'Walking away from Pamela\\'s we realized there was still plenty of time left on the meter and that The Mattress Factory didn\\'t open for another 40 minutes.  Wandering up the strip we noticed a shop we\\'d seen closed the day prior was now open and decided to stop in to Mon Aimee Chocolat.  Greeted by owner Amy Rosenfield the moment we walked in the door I was a bit taken aback - she seemed frustrated...but her mood quickly changing as we entered the shop.  Jovial, pleasant, and ready/willing/able to discuss her collection of confections at length it turned out that her original frustration was due to a downed credit card machine and getting the runaround from the IT folks over the phone.\\n\\nBrowsing the shop while Amy dealt with the folks via phone we stood in awe of the diversity of the collection Aero bars from Canada, Amadei from Italy, and even Hershey from right up the road.  Vintage to current, house made to international, gums, cookies, caramels,  and...Capogiro gelato.  Already full of Pamela\\'s fantastic breakfast we debated (briefly) whether ice cream before 10am was a good idea - a unanimous yes.  Selecting two scoops at a somewhat pricey $4.25 our choices were Cappuccino and Cioccolato Scuro (\"Bitter.\")  Having heard great things about Capogiro but not yet making it to Philadelphia all I can say is that the rumors are true - the flavors were superb, the texture like silk, and the weight light and appealing...the Scuro literally tasted like brownie batter without the doughy texture.\\n\\nSelecting a few creamy salted caramels, a small bag of housemade chocolate covered blueberries, and a few gifts to take home to my aunt we settled the bill and bid Amy good luck with the tech support.  A fantastic store with a selection rivaled by few I\\'d place Mon Aimee on the \"must visit\" list for the Strip.'),\n",
       " Row(user_id=u'5lq4LkrviYgQ4LJNsBYHcA', text=u\"While it may look a little run down from the outside and the aisles aren't incredibly clean, the fantastic quality, huge selection, and great prices make this a destination - and a truly awesome store.\\n\\nDried pastas and fresh pastas, a cheese list topping 150, sauces both housemade, imported, and domestic....spices, tools, meats, vegetables....I really cannot think of an Italian cooking ingredient I didn't see during our visit.\\n\\nSuper helpful staff, friendly customers, and a very authentic feel....really, a must visit, even for tourists.\"),\n",
       " Row(user_id=u'5lq4LkrviYgQ4LJNsBYHcA', text=u'Arriving at the midpoint of the lunch hour we were surprised to find the restaurant less than 1/4 full.  With the bar empty and only one section being seated be claimed our reservation and were led quickly to a table near the large glass windows - an excellent view of the river would be our companion throughout the meal.  Meeting our waiter, a friendly man named Chendo we were given menus and a brief explanation of the daily special pastas for the Pasta Trio.  With the restaurant quite slow that day I will note we were very well taken care of throughout out meal - the service staff was excellent.\\n\\nBrowsing the high ceilinged room, randomly placed bottles and objects, and abundant brightly colored glass panels plus Chihuily influenced chandeliers I have to say Lidia\\'s is a very handsome restaurant - it has that \"wow\" factor of many New York City dining rooms.  While the white paper over white tablecloth aspect of the table setting struck me as odd, everything else felt \"fine dining\" without seeming forced.\\n\\nSitting and waiting for our meals to arrive we were first delivered one of the better bread baskets I\\'ve had in recent memory - Sea Salt Foccacia, Rustic Italian, and Cracked Wheat Sourdough served with two spreads, a Chick Pea Pesto and pureed White Beans with Black Olive, both resting in a pool of slightly sweet extra virgin olive oil.  Served warm the breads were tantalizing and given the size of the portions soon to be arriving it was definitely a chore not to overindulge (a chore I failed, miserably.)\\n\\nFor our main courses my mother opted for a salad and a contorti while Erika and I chose pastas.  For myselfthe choice was quite simple - my favorite pasta and my favorite protein on the same plate, Gnocchi with Duck Guazetto.  An Italian Stew not unlike Chicken Cacciatore, but featuring duck in white wine instead of Chicken in Red the thick reduction was hearty, meaty, smoky, and laden with vegetables.  Paired with a toothsome yet non-doughy potato gnocchi the dish was not only enormous, but incredibly filling.  While I will admit I ate a lot of bread and helped my mother and sister  with their plates I can say that this was one dish I couldn\\'t finish, it was just too large.\\n\\nFor Mother\\'s selection she opted for the Roasted Beet and Apple Salad with Frisee and Fresh Goat Cheese plus the Pan Seared Golden Polenta Fritters.  A competent salad with sweet apples balancing earthy beets and pungent goat cheese the dish was brought together by a splash of balsamic and olive oil, ample in size and flavor, very nicely done.  Not fairing quite as well as the Salad were the Fritters - nicely prepared and crispy on the outside with creamy polenta within, they simply lacked flavor.\\n\\nErika\\'s selection would be the signature Pasta Trio - three pastas plated tableside with unlimited refills.  Admittedly the concept sounds somewhat \"Olive Garden\" but that is before you realize two of the pastas are made in house and one is imported direct from Italy...and all the sauces are made daily in the kitchen, as well.  Served up onto a single large platter the daily selections  would be hand torn Tagliatelle and Pork Ragu, Imported Orchiette with Fennel Sausage and Thyme, and house folded Sweet Pea and Corn Ravioli with Cream Sauce.  Enormous in portion I cannot really fathom anyone requiring seconds of the trio and at a mere $14 the selections were excellent.  Smoky and Sweet the Pork Ragu complimented the al dente Tagliatelle nicely while the aromatic sausage was an equally balanced flavor for the Orchiette.  The most impressive of the group, the sweet pea and corn ravioli, was sweetened only by the vegetal components while the cream itself had notes of cinnamon and nutmeg.\\n\\nArriving simultaneously and thankfully smaller than the entrees was Torta di Mandorle e Mirtilli - Blueberry and almond cake, blueberry-lavender ice cream, almond crunch, blueberries. .  If a little is good a lot is better seemed to be the theme of this dessert and it worked nicely - the fresh blueberries lacing the buttery pound cake, the flowery accent to the blueberry ice cream, and the crunchy sugared almonds paired with even more blueberries - excellent.\\n\\nThe second dessert, larger in size but lighter in texture, would be Panna Cotta alla Fragola - Strawberry and ricotta panna cottas, lemon-strawberry sandwich cookies, fresh strawberries.  Served in a 12oz glass better suited for a milkshake the panna cotta was surprisingly springy and well blended with a more gelatin strawberry base topped by an ample creamy layer of whipped cream and ricotta.  Unnecessary but welcomed the lemony cookies were much akin to a shortbread in texture and Madeline in flavor.\\n\\nHaving heard \"upscale Olive Garden\" comparisons I personally find that assessment far from accurate and would actually go so far as to say that aside from the lack of seasoning the the experience was on par with many fine dining Italian establishments in other cities.')]"
      ]
     },
     "execution_count": 178,
     "metadata": {},
     "output_type": "execute_result"
    }
   ],
   "source": [
    "review_p.filter(review_p.user_id == '5lq4LkrviYgQ4LJNsBYHcA').take(5)"
   ]
  },
  {
   "cell_type": "code",
   "execution_count": 184,
   "metadata": {
    "collapsed": false
   },
   "outputs": [
    {
     "data": {
      "text/plain": [
       "[Row(user_id=u'46xrtwjJidLUkqd-XOYg7w', text=u\"Definite not consistent it's either hit or miss would like to give them 5 stars but I truly believe that they didn't earn it the food can be okay great place to eat if you just want something better than fast food\"),\n",
       " Row(user_id=u'46xrtwjJidLUkqd-XOYg7w', text=u'Out of all of the Lindo Michoacan and whatever locations they have Viva Zapata is the best love this place been here many many times always will have my business and the consistency from the staff to customer service is off the charts I wish I can give you 10 stars but the best I could do with this v definition this place out if you were on Pecos and Craig'),\n",
       " Row(user_id=u'46xrtwjJidLUkqd-XOYg7w', text=u\"I always thought the name of this place was extremely funny I always thought shouldn't be called for her long laugh out loud five stars did a good\"),\n",
       " Row(user_id=u'46xrtwjJidLUkqd-XOYg7w', text=u\"I choose you this place 3 stars because the following reasons, when I ask for help for a produce the guy looked at me and rolled his eyes and walked off, the staff had poor customer service only a couple of them were kind and finally the manager after telling them about the poor customer service did nothing about it. Once you get past all of this the carne asada Ranchero preparado is amazing also other items they have so if you are cool with the poor customer service come here because the meat chicken and poultry is a good for barbecuing so yes I'll come back here and yes I don't mind the poor service to be expected nowadays\"),\n",
       " Row(user_id=u'46xrtwjJidLUkqd-XOYg7w', text=u'If you ever want to put your kid in a private school this is the place to put them very well organized the staff is extremely intelligent all around best in town')]"
      ]
     },
     "execution_count": 184,
     "metadata": {},
     "output_type": "execute_result"
    }
   ],
   "source": [
    "review_p.filter(review_p.user_id == '46xrtwjJidLUkqd-XOYg7w').take(5)"
   ]
  },
  {
   "cell_type": "code",
   "execution_count": 185,
   "metadata": {
    "collapsed": false
   },
   "outputs": [
    {
     "data": {
      "text/plain": [
       "[Row(business_id=u'3_Imz6IarFowUFjQOoibrg', date=u'2015-12-29', review_id=u'N4exWf1VhA99zgGzdV8hZQ', stars=4, text=u\"Definite not consistent it's either hit or miss would like to give them 5 stars but I truly believe that they didn't earn it the food can be okay great place to eat if you just want something better than fast food\", type=u'review', user_id=u'46xrtwjJidLUkqd-XOYg7w', votes=Row(cool=0, funny=0, useful=0)),\n",
       " Row(business_id=u'rG_8t33D2ADcbBqcXqwV0Q', date=u'2015-12-23', review_id=u'Utl4UtvMTJopeFRjfNMx4A', stars=5, text=u'Out of all of the Lindo Michoacan and whatever locations they have Viva Zapata is the best love this place been here many many times always will have my business and the consistency from the staff to customer service is off the charts I wish I can give you 10 stars but the best I could do with this v definition this place out if you were on Pecos and Craig', type=u'review', user_id=u'46xrtwjJidLUkqd-XOYg7w', votes=Row(cool=0, funny=2, useful=0)),\n",
       " Row(business_id=u'FV16IeXJp2W6pnghTz2FAw', date=u'2015-12-30', review_id=u'yK8Cp5EgAT2zpeL45HP5hA', stars=5, text=u\"I always thought the name of this place was extremely funny I always thought shouldn't be called for her long laugh out loud five stars did a good\", type=u'review', user_id=u'46xrtwjJidLUkqd-XOYg7w', votes=Row(cool=0, funny=0, useful=0)),\n",
       " Row(business_id=u'A1hqUVCcjRJb3PB96QFY0w', date=u'2015-12-29', review_id=u'3qZgZiVKcmX1YBS4gRtPxA', stars=3, text=u\"I choose you this place 3 stars because the following reasons, when I ask for help for a produce the guy looked at me and rolled his eyes and walked off, the staff had poor customer service only a couple of them were kind and finally the manager after telling them about the poor customer service did nothing about it. Once you get past all of this the carne asada Ranchero preparado is amazing also other items they have so if you are cool with the poor customer service come here because the meat chicken and poultry is a good for barbecuing so yes I'll come back here and yes I don't mind the poor service to be expected nowadays\", type=u'review', user_id=u'46xrtwjJidLUkqd-XOYg7w', votes=Row(cool=0, funny=1, useful=1)),\n",
       " Row(business_id=u'k0E-z8DFUAZutzhb6Gfp_Q', date=u'2015-12-29', review_id=u'40Q7JzUwhDYzo0dtMa9-KA', stars=5, text=u'If you ever want to put your kid in a private school this is the place to put them very well organized the staff is extremely intelligent all around best in town', type=u'review', user_id=u'46xrtwjJidLUkqd-XOYg7w', votes=Row(cool=0, funny=0, useful=0))]"
      ]
     },
     "execution_count": 185,
     "metadata": {},
     "output_type": "execute_result"
    }
   ],
   "source": [
    "review.filter(review.user_id == '46xrtwjJidLUkqd-XOYg7w').take(5)"
   ]
  },
  {
   "cell_type": "code",
   "execution_count": 188,
   "metadata": {
    "collapsed": false
   },
   "outputs": [
    {
     "data": {
      "text/html": [
       "<div>\n",
       "<table border=\"1\" class=\"dataframe\">\n",
       "  <thead>\n",
       "    <tr style=\"text-align: right;\">\n",
       "      <th></th>\n",
       "      <th>user_id</th>\n",
       "      <th>cool</th>\n",
       "      <th>funny</th>\n",
       "      <th>useful</th>\n",
       "      <th>stars</th>\n",
       "      <th>review_count</th>\n",
       "      <th>name</th>\n",
       "      <th>fans</th>\n",
       "      <th>friends</th>\n",
       "      <th>vote_cool</th>\n",
       "      <th>vote_funny</th>\n",
       "      <th>vote_useful</th>\n",
       "      <th>yelp_age</th>\n",
       "      <th>FRE</th>\n",
       "    </tr>\n",
       "  </thead>\n",
       "  <tbody>\n",
       "    <tr>\n",
       "      <th>740</th>\n",
       "      <td>8IXV9otfU4bKiU-dvcxW-A</td>\n",
       "      <td>0.437500</td>\n",
       "      <td>0.296875</td>\n",
       "      <td>0.593750</td>\n",
       "      <td>4.812500</td>\n",
       "      <td>64</td>\n",
       "      <td>Caroline</td>\n",
       "      <td>0</td>\n",
       "      <td>10</td>\n",
       "      <td>41</td>\n",
       "      <td>23</td>\n",
       "      <td>70</td>\n",
       "      <td>90</td>\n",
       "      <td>80.483126</td>\n",
       "    </tr>\n",
       "    <tr>\n",
       "      <th>1168</th>\n",
       "      <td>EP2rKr6NsXal0Yy7lzm9sw</td>\n",
       "      <td>0.428571</td>\n",
       "      <td>0.174603</td>\n",
       "      <td>0.793651</td>\n",
       "      <td>4.825397</td>\n",
       "      <td>63</td>\n",
       "      <td>Bianca</td>\n",
       "      <td>3</td>\n",
       "      <td>11</td>\n",
       "      <td>35</td>\n",
       "      <td>17</td>\n",
       "      <td>77</td>\n",
       "      <td>56</td>\n",
       "      <td>80.864286</td>\n",
       "    </tr>\n",
       "    <tr>\n",
       "      <th>2146</th>\n",
       "      <td>Rro65XbBIgTc392wf4oAMg</td>\n",
       "      <td>3.698113</td>\n",
       "      <td>1.905660</td>\n",
       "      <td>3.981132</td>\n",
       "      <td>4.924528</td>\n",
       "      <td>53</td>\n",
       "      <td>Lesta</td>\n",
       "      <td>13</td>\n",
       "      <td>79</td>\n",
       "      <td>269</td>\n",
       "      <td>139</td>\n",
       "      <td>297</td>\n",
       "      <td>119</td>\n",
       "      <td>73.332265</td>\n",
       "    </tr>\n",
       "    <tr>\n",
       "      <th>2208</th>\n",
       "      <td>S_S06oA6xGAPr-HC1kLVlQ</td>\n",
       "      <td>0.615385</td>\n",
       "      <td>0.230769</td>\n",
       "      <td>0.923077</td>\n",
       "      <td>4.871795</td>\n",
       "      <td>78</td>\n",
       "      <td>Robert</td>\n",
       "      <td>1</td>\n",
       "      <td>2</td>\n",
       "      <td>86</td>\n",
       "      <td>38</td>\n",
       "      <td>115</td>\n",
       "      <td>67</td>\n",
       "      <td>70.890770</td>\n",
       "    </tr>\n",
       "    <tr>\n",
       "      <th>2328</th>\n",
       "      <td>UGxtR5-KuGLMqoGI0ICxfQ</td>\n",
       "      <td>0.250000</td>\n",
       "      <td>0.083333</td>\n",
       "      <td>0.444444</td>\n",
       "      <td>4.833333</td>\n",
       "      <td>108</td>\n",
       "      <td>Carlos</td>\n",
       "      <td>2</td>\n",
       "      <td>15</td>\n",
       "      <td>34</td>\n",
       "      <td>11</td>\n",
       "      <td>68</td>\n",
       "      <td>23</td>\n",
       "      <td>79.257130</td>\n",
       "    </tr>\n",
       "  </tbody>\n",
       "</table>\n",
       "</div>"
      ],
      "text/plain": [
       "                     user_id      cool     funny    useful     stars  \\\n",
       "740   8IXV9otfU4bKiU-dvcxW-A  0.437500  0.296875  0.593750  4.812500   \n",
       "1168  EP2rKr6NsXal0Yy7lzm9sw  0.428571  0.174603  0.793651  4.825397   \n",
       "2146  Rro65XbBIgTc392wf4oAMg  3.698113  1.905660  3.981132  4.924528   \n",
       "2208  S_S06oA6xGAPr-HC1kLVlQ  0.615385  0.230769  0.923077  4.871795   \n",
       "2328  UGxtR5-KuGLMqoGI0ICxfQ  0.250000  0.083333  0.444444  4.833333   \n",
       "\n",
       "      review_count      name  fans  friends  vote_cool  vote_funny  \\\n",
       "740             64  Caroline     0       10         41          23   \n",
       "1168            63    Bianca     3       11         35          17   \n",
       "2146            53     Lesta    13       79        269         139   \n",
       "2208            78    Robert     1        2         86          38   \n",
       "2328           108    Carlos     2       15         34          11   \n",
       "\n",
       "      vote_useful  yelp_age        FRE  \n",
       "740            70        90  80.483126  \n",
       "1168           77        56  80.864286  \n",
       "2146          297       119  73.332265  \n",
       "2208          115        67  70.890770  \n",
       "2328           68        23  79.257130  "
      ]
     },
     "execution_count": 188,
     "metadata": {},
     "output_type": "execute_result"
    }
   ],
   "source": [
    "df[df.stars > 4.8]"
   ]
  }
 ],
 "metadata": {
  "kernelspec": {
   "display_name": "Python 2",
   "language": "python",
   "name": "python2"
  },
  "language_info": {
   "codemirror_mode": {
    "name": "ipython",
    "version": 2
   },
   "file_extension": ".py",
   "mimetype": "text/x-python",
   "name": "python",
   "nbconvert_exporter": "python",
   "pygments_lexer": "ipython2",
   "version": "2.7.13"
  }
 },
 "nbformat": 4,
 "nbformat_minor": 2
}
