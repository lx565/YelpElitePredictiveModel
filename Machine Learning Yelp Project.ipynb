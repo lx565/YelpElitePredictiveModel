{
 "cells": [
  {
   "cell_type": "markdown",
   "metadata": {},
   "source": [
    "### This notebook is part of the final machine learning project for class : Machine Learning For Cities\n",
    "### Taught by Professor Daniel Neill \n",
    "\n",
    "## Title: Machine Learning On Yelp Dataset\n",
    "### The study on recognition of suspicious Five Stars reviews and optimization of Yelp Elite system"
   ]
  },
  {
   "cell_type": "code",
   "execution_count": 3,
   "metadata": {
    "collapsed": false
   },
   "outputs": [],
   "source": [
    "import pandas as pd\n",
    "from sklearn.cluster import KMeans\n",
    "from scipy.cluster import hierarchy\n",
    "from sklearn.metrics import silhouette_samples, silhouette_score\n",
    "from sklearn.mixture import GaussianMixture\n",
    "from pgmpy.estimators import HillClimbSearch\n",
    "from pgmpy.estimators import BdeuScore, K2Score, BicScore\n",
    "from pgmpy.inference import VariableElimination\n",
    "import matplotlib.pyplot as plt\n",
    "import numpy as np\n",
    "from sklearn.decomposition import PCA\n",
    "from sklearn import svm\n",
    "\n",
    "% matplotlib inline"
   ]
  },
  {
   "cell_type": "code",
   "execution_count": 4,
   "metadata": {
    "collapsed": false
   },
   "outputs": [],
   "source": [
    "home = pd.read_csv('../Machine Learning for City/yelp.csv', header=None)\n",
    "home.columns =  ['user_id', 'cool','funny', 'useful', 'stars']\n",
    "\n",
    "#train,test=train_test_split(home,random_state=9,test_size=0.4)"
   ]
  },
  {
   "cell_type": "code",
   "execution_count": 5,
   "metadata": {
    "collapsed": false
   },
   "outputs": [
    {
     "data": {
      "text/html": [
       "<div>\n",
       "<table border=\"1\" class=\"dataframe\">\n",
       "  <thead>\n",
       "    <tr style=\"text-align: right;\">\n",
       "      <th></th>\n",
       "      <th>user_id</th>\n",
       "      <th>cool</th>\n",
       "      <th>funny</th>\n",
       "      <th>useful</th>\n",
       "      <th>stars</th>\n",
       "    </tr>\n",
       "  </thead>\n",
       "  <tbody>\n",
       "    <tr>\n",
       "      <th>0</th>\n",
       "      <td>JPPhyFE-UE453zA6K0TVgw</td>\n",
       "      <td>0</td>\n",
       "      <td>0</td>\n",
       "      <td>0</td>\n",
       "      <td>4</td>\n",
       "    </tr>\n",
       "    <tr>\n",
       "      <th>1</th>\n",
       "      <td>fhNxoMwwTipzjO8A9LFe8Q</td>\n",
       "      <td>0</td>\n",
       "      <td>0</td>\n",
       "      <td>1</td>\n",
       "      <td>3</td>\n",
       "    </tr>\n",
       "    <tr>\n",
       "      <th>2</th>\n",
       "      <td>tAKjY3bQXH51msJbOHYPmQ</td>\n",
       "      <td>2</td>\n",
       "      <td>0</td>\n",
       "      <td>3</td>\n",
       "      <td>5</td>\n",
       "    </tr>\n",
       "    <tr>\n",
       "      <th>3</th>\n",
       "      <td>Sjb5e5-gKoLXueFDMc2R8Q</td>\n",
       "      <td>0</td>\n",
       "      <td>0</td>\n",
       "      <td>0</td>\n",
       "      <td>4</td>\n",
       "    </tr>\n",
       "    <tr>\n",
       "      <th>4</th>\n",
       "      <td>2rSeth60_CuWN3ZJ4k41lg</td>\n",
       "      <td>19</td>\n",
       "      <td>11</td>\n",
       "      <td>22</td>\n",
       "      <td>3</td>\n",
       "    </tr>\n",
       "  </tbody>\n",
       "</table>\n",
       "</div>"
      ],
      "text/plain": [
       "                  user_id  cool  funny  useful  stars\n",
       "0  JPPhyFE-UE453zA6K0TVgw     0      0       0      4\n",
       "1  fhNxoMwwTipzjO8A9LFe8Q     0      0       1      3\n",
       "2  tAKjY3bQXH51msJbOHYPmQ     2      0       3      5\n",
       "3  Sjb5e5-gKoLXueFDMc2R8Q     0      0       0      4\n",
       "4  2rSeth60_CuWN3ZJ4k41lg    19     11      22      3"
      ]
     },
     "execution_count": 5,
     "metadata": {},
     "output_type": "execute_result"
    }
   ],
   "source": [
    "home.head()"
   ]
  },
  {
   "cell_type": "code",
   "execution_count": 6,
   "metadata": {
    "collapsed": false
   },
   "outputs": [
    {
     "data": {
      "text/plain": [
       "<matplotlib.text.Text at 0x114dde610>"
      ]
     },
     "execution_count": 6,
     "metadata": {},
     "output_type": "execute_result"
    },
    {
     "data": {
      "image/png": "[encoded data removed]",
      "text/plain": [
       "<matplotlib.figure.Figure at 0x114d85190>"
      ]
     },
     "metadata": {},
     "output_type": "display_data"
    }
   ],
   "source": [
    "plt.figure(figsize=(6,4))\n",
    "plt.hist(home.stars, bins = 4)\n",
    "plt.title(\"The histogram of Yelp Ratings\", size = 20)\n",
    "plt.xlabel(\"Ratings\", size = 15)"
   ]
  },
  {
   "cell_type": "code",
   "execution_count": 6,
   "metadata": {
    "collapsed": false
   },
   "outputs": [
    {
     "data": {
      "text/plain": [
       "<matplotlib.text.Text at 0x116f09d50>"
      ]
     },
     "execution_count": 6,
     "metadata": {},
     "output_type": "execute_result"
    },
    {
     "data": {
      "image/png": "[encoded data removed]",
      "text/plain": [
       "<matplotlib.figure.Figure at 0x103b28c90>"
      ]
     },
     "metadata": {},
     "output_type": "display_data"
    }
   ],
   "source": [
    "plt.figure(figsize=(7,4))\n",
    "plt.scatter(home.stars, home.useful)\n",
    "plt.title(\"Usefulness of the Review vs. Rating of the Review\", size = 15)\n",
    "plt.xlabel(\"Ratings Stars\", size = 15)\n",
    "plt.ylabel(\"Useful counts\", size = 15)"
   ]
  },
  {
   "cell_type": "code",
   "execution_count": 7,
   "metadata": {
    "collapsed": false
   },
   "outputs": [
    {
     "data": {
      "text/plain": [
       "<matplotlib.text.Text at 0x117011590>"
      ]
     },
     "execution_count": 7,
     "metadata": {},
     "output_type": "execute_result"
    },
    {
     "data": {
      "image/png": "[encoded data removed]",
      "text/plain": [
       "<matplotlib.figure.Figure at 0x119fd2f50>"
      ]
     },
     "metadata": {},
     "output_type": "display_data"
    }
   ],
   "source": [
    "plt.figure(figsize=(7,4))\n",
    "plt.scatter(home.stars, home.cool, c=\"g\")\n",
    "plt.title(\"Usefulness of the Review vs. Rating of the Review\", size = 15)\n",
    "plt.xlabel(\"Ratings Stars\", size = 15)\n",
    "plt.ylabel(\"Useful counts\", size = 15)"
   ]
  },
  {
   "cell_type": "markdown",
   "metadata": {},
   "source": [
    "###  it is more likely that a person would give better scores than lower scores, for fake reviews, we assume people will leave good reviews in order to drive up sales in stead of degrade other competitors. "
   ]
  },
  {
   "cell_type": "markdown",
   "metadata": {},
   "source": [
    "## We will look into the data specifically for review stand"
   ]
  },
  {
   "cell_type": "code",
   "execution_count": 64,
   "metadata": {
    "collapsed": false
   },
   "outputs": [],
   "source": [
    "final_data = pd.read_excel('yelp_user.xlsx')\n",
    "final_data.drop(\"name\", axis = 1, inplace= True)"
   ]
  },
  {
   "cell_type": "code",
   "execution_count": 65,
   "metadata": {
    "collapsed": false
   },
   "outputs": [
    {
     "data": {
      "text/html": [
       "<div>\n",
       "<table border=\"1\" class=\"dataframe\">\n",
       "  <thead>\n",
       "    <tr style=\"text-align: right;\">\n",
       "      <th></th>\n",
       "      <th>user_id</th>\n",
       "      <th>cool</th>\n",
       "      <th>funny</th>\n",
       "      <th>useful</th>\n",
       "      <th>stars</th>\n",
       "      <th>review_count</th>\n",
       "      <th>fans</th>\n",
       "      <th>friends</th>\n",
       "      <th>vote_cool</th>\n",
       "      <th>vote_funny</th>\n",
       "      <th>vote_useful</th>\n",
       "      <th>yelp_age</th>\n",
       "      <th>FRE</th>\n",
       "      <th>elite</th>\n",
       "    </tr>\n",
       "  </thead>\n",
       "  <tbody>\n",
       "    <tr>\n",
       "      <th>0</th>\n",
       "      <td>--65q1FpAL_UQtVZ2PTGew</td>\n",
       "      <td>2.695364</td>\n",
       "      <td>1.907285</td>\n",
       "      <td>3.807947</td>\n",
       "      <td>4.046358</td>\n",
       "      <td>151</td>\n",
       "      <td>28</td>\n",
       "      <td>263</td>\n",
       "      <td>656</td>\n",
       "      <td>484</td>\n",
       "      <td>883</td>\n",
       "      <td>93</td>\n",
       "      <td>78.259934</td>\n",
       "      <td>5</td>\n",
       "    </tr>\n",
       "    <tr>\n",
       "      <th>1</th>\n",
       "      <td>-0itF0VWVBe3k2AdfUReGA</td>\n",
       "      <td>1.734043</td>\n",
       "      <td>1.500000</td>\n",
       "      <td>2.393617</td>\n",
       "      <td>3.670213</td>\n",
       "      <td>94</td>\n",
       "      <td>2</td>\n",
       "      <td>54</td>\n",
       "      <td>251</td>\n",
       "      <td>189</td>\n",
       "      <td>361</td>\n",
       "      <td>77</td>\n",
       "      <td>69.490000</td>\n",
       "      <td>5</td>\n",
       "    </tr>\n",
       "    <tr>\n",
       "      <th>2</th>\n",
       "      <td>-2PFmYGWB6rQhZtRh6PlPA</td>\n",
       "      <td>0.183333</td>\n",
       "      <td>0.166667</td>\n",
       "      <td>0.675000</td>\n",
       "      <td>3.283333</td>\n",
       "      <td>120</td>\n",
       "      <td>0</td>\n",
       "      <td>10</td>\n",
       "      <td>41</td>\n",
       "      <td>91</td>\n",
       "      <td>177</td>\n",
       "      <td>85</td>\n",
       "      <td>79.785834</td>\n",
       "      <td>0</td>\n",
       "    </tr>\n",
       "    <tr>\n",
       "      <th>3</th>\n",
       "      <td>-3akdU5UTDn6dwiTCO2cAw</td>\n",
       "      <td>0.736842</td>\n",
       "      <td>0.631579</td>\n",
       "      <td>1.447368</td>\n",
       "      <td>3.934211</td>\n",
       "      <td>76</td>\n",
       "      <td>7</td>\n",
       "      <td>133</td>\n",
       "      <td>83</td>\n",
       "      <td>62</td>\n",
       "      <td>165</td>\n",
       "      <td>82</td>\n",
       "      <td>77.291579</td>\n",
       "      <td>3</td>\n",
       "    </tr>\n",
       "    <tr>\n",
       "      <th>4</th>\n",
       "      <td>-4AMRN-7RtozD9s8ZsH04g</td>\n",
       "      <td>1.644068</td>\n",
       "      <td>2.745763</td>\n",
       "      <td>2.644068</td>\n",
       "      <td>3.593220</td>\n",
       "      <td>59</td>\n",
       "      <td>33</td>\n",
       "      <td>219</td>\n",
       "      <td>1325</td>\n",
       "      <td>1674</td>\n",
       "      <td>2067</td>\n",
       "      <td>81</td>\n",
       "      <td>75.822373</td>\n",
       "      <td>6</td>\n",
       "    </tr>\n",
       "  </tbody>\n",
       "</table>\n",
       "</div>"
      ],
      "text/plain": [
       "                  user_id      cool     funny    useful     stars  \\\n",
       "0  --65q1FpAL_UQtVZ2PTGew  2.695364  1.907285  3.807947  4.046358   \n",
       "1  -0itF0VWVBe3k2AdfUReGA  1.734043  1.500000  2.393617  3.670213   \n",
       "2  -2PFmYGWB6rQhZtRh6PlPA  0.183333  0.166667  0.675000  3.283333   \n",
       "3  -3akdU5UTDn6dwiTCO2cAw  0.736842  0.631579  1.447368  3.934211   \n",
       "4  -4AMRN-7RtozD9s8ZsH04g  1.644068  2.745763  2.644068  3.593220   \n",
       "\n",
       "   review_count  fans  friends  vote_cool  vote_funny  vote_useful  yelp_age  \\\n",
       "0           151    28      263        656         484          883        93   \n",
       "1            94     2       54        251         189          361        77   \n",
       "2           120     0       10         41          91          177        85   \n",
       "3            76     7      133         83          62          165        82   \n",
       "4            59    33      219       1325        1674         2067        81   \n",
       "\n",
       "         FRE  elite  \n",
       "0  78.259934      5  \n",
       "1  69.490000      5  \n",
       "2  79.785834      0  \n",
       "3  77.291579      3  \n",
       "4  75.822373      6  "
      ]
     },
     "execution_count": 65,
     "metadata": {},
     "output_type": "execute_result"
    }
   ],
   "source": [
    "final_data.head()"
   ]
  },
  {
   "cell_type": "code",
   "execution_count": 66,
   "metadata": {
    "collapsed": false
   },
   "outputs": [],
   "source": [
    "# binarize the data\n",
    "final_data.elite = pd.cut(final_data.elite, bins = [0,0.9,13], include_lowest=True, labels=[0,1])\n"
   ]
  },
  {
   "cell_type": "code",
   "execution_count": 67,
   "metadata": {
    "collapsed": false
   },
   "outputs": [
    {
     "data": {
      "text/html": [
       "<div>\n",
       "<table border=\"1\" class=\"dataframe\">\n",
       "  <thead>\n",
       "    <tr style=\"text-align: right;\">\n",
       "      <th></th>\n",
       "      <th>user_id</th>\n",
       "      <th>cool</th>\n",
       "      <th>funny</th>\n",
       "      <th>useful</th>\n",
       "      <th>stars</th>\n",
       "      <th>review_count</th>\n",
       "      <th>fans</th>\n",
       "      <th>friends</th>\n",
       "      <th>vote_cool</th>\n",
       "      <th>vote_funny</th>\n",
       "      <th>vote_useful</th>\n",
       "      <th>yelp_age</th>\n",
       "      <th>FRE</th>\n",
       "      <th>elite</th>\n",
       "    </tr>\n",
       "  </thead>\n",
       "  <tbody>\n",
       "    <tr>\n",
       "      <th>0</th>\n",
       "      <td>--65q1FpAL_UQtVZ2PTGew</td>\n",
       "      <td>2.695364</td>\n",
       "      <td>1.907285</td>\n",
       "      <td>3.807947</td>\n",
       "      <td>4.046358</td>\n",
       "      <td>151</td>\n",
       "      <td>28</td>\n",
       "      <td>263</td>\n",
       "      <td>656</td>\n",
       "      <td>484</td>\n",
       "      <td>883</td>\n",
       "      <td>93</td>\n",
       "      <td>78.259934</td>\n",
       "      <td>1</td>\n",
       "    </tr>\n",
       "    <tr>\n",
       "      <th>1</th>\n",
       "      <td>-0itF0VWVBe3k2AdfUReGA</td>\n",
       "      <td>1.734043</td>\n",
       "      <td>1.500000</td>\n",
       "      <td>2.393617</td>\n",
       "      <td>3.670213</td>\n",
       "      <td>94</td>\n",
       "      <td>2</td>\n",
       "      <td>54</td>\n",
       "      <td>251</td>\n",
       "      <td>189</td>\n",
       "      <td>361</td>\n",
       "      <td>77</td>\n",
       "      <td>69.490000</td>\n",
       "      <td>1</td>\n",
       "    </tr>\n",
       "    <tr>\n",
       "      <th>2</th>\n",
       "      <td>-2PFmYGWB6rQhZtRh6PlPA</td>\n",
       "      <td>0.183333</td>\n",
       "      <td>0.166667</td>\n",
       "      <td>0.675000</td>\n",
       "      <td>3.283333</td>\n",
       "      <td>120</td>\n",
       "      <td>0</td>\n",
       "      <td>10</td>\n",
       "      <td>41</td>\n",
       "      <td>91</td>\n",
       "      <td>177</td>\n",
       "      <td>85</td>\n",
       "      <td>79.785834</td>\n",
       "      <td>0</td>\n",
       "    </tr>\n",
       "    <tr>\n",
       "      <th>3</th>\n",
       "      <td>-3akdU5UTDn6dwiTCO2cAw</td>\n",
       "      <td>0.736842</td>\n",
       "      <td>0.631579</td>\n",
       "      <td>1.447368</td>\n",
       "      <td>3.934211</td>\n",
       "      <td>76</td>\n",
       "      <td>7</td>\n",
       "      <td>133</td>\n",
       "      <td>83</td>\n",
       "      <td>62</td>\n",
       "      <td>165</td>\n",
       "      <td>82</td>\n",
       "      <td>77.291579</td>\n",
       "      <td>1</td>\n",
       "    </tr>\n",
       "    <tr>\n",
       "      <th>4</th>\n",
       "      <td>-4AMRN-7RtozD9s8ZsH04g</td>\n",
       "      <td>1.644068</td>\n",
       "      <td>2.745763</td>\n",
       "      <td>2.644068</td>\n",
       "      <td>3.593220</td>\n",
       "      <td>59</td>\n",
       "      <td>33</td>\n",
       "      <td>219</td>\n",
       "      <td>1325</td>\n",
       "      <td>1674</td>\n",
       "      <td>2067</td>\n",
       "      <td>81</td>\n",
       "      <td>75.822373</td>\n",
       "      <td>1</td>\n",
       "    </tr>\n",
       "  </tbody>\n",
       "</table>\n",
       "</div>"
      ],
      "text/plain": [
       "                  user_id      cool     funny    useful     stars  \\\n",
       "0  --65q1FpAL_UQtVZ2PTGew  2.695364  1.907285  3.807947  4.046358   \n",
       "1  -0itF0VWVBe3k2AdfUReGA  1.734043  1.500000  2.393617  3.670213   \n",
       "2  -2PFmYGWB6rQhZtRh6PlPA  0.183333  0.166667  0.675000  3.283333   \n",
       "3  -3akdU5UTDn6dwiTCO2cAw  0.736842  0.631579  1.447368  3.934211   \n",
       "4  -4AMRN-7RtozD9s8ZsH04g  1.644068  2.745763  2.644068  3.593220   \n",
       "\n",
       "   review_count  fans  friends  vote_cool  vote_funny  vote_useful  yelp_age  \\\n",
       "0           151    28      263        656         484          883        93   \n",
       "1            94     2       54        251         189          361        77   \n",
       "2           120     0       10         41          91          177        85   \n",
       "3            76     7      133         83          62          165        82   \n",
       "4            59    33      219       1325        1674         2067        81   \n",
       "\n",
       "         FRE elite  \n",
       "0  78.259934     1  \n",
       "1  69.490000     1  \n",
       "2  79.785834     0  \n",
       "3  77.291579     1  \n",
       "4  75.822373     1  "
      ]
     },
     "execution_count": 67,
     "metadata": {},
     "output_type": "execute_result"
    }
   ],
   "source": [
    "final_data.head()"
   ]
  },
  {
   "cell_type": "code",
   "execution_count": 12,
   "metadata": {
    "collapsed": false
   },
   "outputs": [
    {
     "data": {
      "text/html": [
       "<div>\n",
       "<table border=\"1\" class=\"dataframe\">\n",
       "  <thead>\n",
       "    <tr style=\"text-align: right;\">\n",
       "      <th></th>\n",
       "      <th>user_id</th>\n",
       "      <th>cool</th>\n",
       "      <th>funny</th>\n",
       "      <th>useful</th>\n",
       "      <th>stars</th>\n",
       "      <th>review_count</th>\n",
       "      <th>fans</th>\n",
       "      <th>friends</th>\n",
       "      <th>vote_cool</th>\n",
       "      <th>vote_funny</th>\n",
       "      <th>vote_useful</th>\n",
       "      <th>yelp_age</th>\n",
       "      <th>FRE</th>\n",
       "      <th>elite</th>\n",
       "    </tr>\n",
       "  </thead>\n",
       "  <tbody>\n",
       "    <tr>\n",
       "      <th>7</th>\n",
       "      <td>-66ssufl05UYwJGSXfjKVg</td>\n",
       "      <td>0.600000</td>\n",
       "      <td>0.533333</td>\n",
       "      <td>1.283333</td>\n",
       "      <td>4.350000</td>\n",
       "      <td>60</td>\n",
       "      <td>2</td>\n",
       "      <td>7</td>\n",
       "      <td>142</td>\n",
       "      <td>135</td>\n",
       "      <td>277</td>\n",
       "      <td>41</td>\n",
       "      <td>81.564000</td>\n",
       "      <td>0</td>\n",
       "    </tr>\n",
       "    <tr>\n",
       "      <th>8</th>\n",
       "      <td>-8BqfYouq3o_UoazAQWwNw</td>\n",
       "      <td>1.687500</td>\n",
       "      <td>1.265625</td>\n",
       "      <td>1.890625</td>\n",
       "      <td>4.375000</td>\n",
       "      <td>64</td>\n",
       "      <td>3</td>\n",
       "      <td>370</td>\n",
       "      <td>124</td>\n",
       "      <td>93</td>\n",
       "      <td>146</td>\n",
       "      <td>52</td>\n",
       "      <td>77.702969</td>\n",
       "      <td>0</td>\n",
       "    </tr>\n",
       "    <tr>\n",
       "      <th>9</th>\n",
       "      <td>-8gRkiYaVm3zfoQ4pcg75w</td>\n",
       "      <td>0.462963</td>\n",
       "      <td>0.351852</td>\n",
       "      <td>0.759259</td>\n",
       "      <td>4.055556</td>\n",
       "      <td>54</td>\n",
       "      <td>3</td>\n",
       "      <td>15</td>\n",
       "      <td>36</td>\n",
       "      <td>29</td>\n",
       "      <td>75</td>\n",
       "      <td>72</td>\n",
       "      <td>82.220556</td>\n",
       "      <td>0</td>\n",
       "    </tr>\n",
       "    <tr>\n",
       "      <th>97</th>\n",
       "      <td>0NK3ZytUl8PznPx4JXelvw</td>\n",
       "      <td>0.067568</td>\n",
       "      <td>0.027027</td>\n",
       "      <td>0.189189</td>\n",
       "      <td>4.283784</td>\n",
       "      <td>74</td>\n",
       "      <td>1</td>\n",
       "      <td>2</td>\n",
       "      <td>17</td>\n",
       "      <td>8</td>\n",
       "      <td>45</td>\n",
       "      <td>40</td>\n",
       "      <td>82.632973</td>\n",
       "      <td>0</td>\n",
       "    </tr>\n",
       "    <tr>\n",
       "      <th>103</th>\n",
       "      <td>0RuJtJkpo4ntJ9Hc7VF-0g</td>\n",
       "      <td>0.322581</td>\n",
       "      <td>0.258065</td>\n",
       "      <td>1.580645</td>\n",
       "      <td>4.193548</td>\n",
       "      <td>62</td>\n",
       "      <td>2</td>\n",
       "      <td>5</td>\n",
       "      <td>35</td>\n",
       "      <td>21</td>\n",
       "      <td>144</td>\n",
       "      <td>66</td>\n",
       "      <td>75.334354</td>\n",
       "      <td>0</td>\n",
       "    </tr>\n",
       "  </tbody>\n",
       "</table>\n",
       "</div>"
      ],
      "text/plain": [
       "                    user_id      cool     funny    useful     stars  \\\n",
       "7    -66ssufl05UYwJGSXfjKVg  0.600000  0.533333  1.283333  4.350000   \n",
       "8    -8BqfYouq3o_UoazAQWwNw  1.687500  1.265625  1.890625  4.375000   \n",
       "9    -8gRkiYaVm3zfoQ4pcg75w  0.462963  0.351852  0.759259  4.055556   \n",
       "97   0NK3ZytUl8PznPx4JXelvw  0.067568  0.027027  0.189189  4.283784   \n",
       "103  0RuJtJkpo4ntJ9Hc7VF-0g  0.322581  0.258065  1.580645  4.193548   \n",
       "\n",
       "     review_count  fans  friends  vote_cool  vote_funny  vote_useful  \\\n",
       "7              60     2        7        142         135          277   \n",
       "8              64     3      370        124          93          146   \n",
       "9              54     3       15         36          29           75   \n",
       "97             74     1        2         17           8           45   \n",
       "103            62     2        5         35          21          144   \n",
       "\n",
       "     yelp_age        FRE elite  \n",
       "7          41  81.564000     0  \n",
       "8          52  77.702969     0  \n",
       "9          72  82.220556     0  \n",
       "97         40  82.632973     0  \n",
       "103        66  75.334354     0  "
      ]
     },
     "execution_count": 12,
     "metadata": {},
     "output_type": "execute_result"
    }
   ],
   "source": [
    "final_data[(final_data.elite == 0) & (final_data.stars > 4)].head()"
   ]
  },
  {
   "cell_type": "code",
   "execution_count": 13,
   "metadata": {
    "collapsed": false
   },
   "outputs": [
    {
     "data": {
      "text/html": [
       "<div>\n",
       "<table border=\"1\" class=\"dataframe\">\n",
       "  <thead>\n",
       "    <tr style=\"text-align: right;\">\n",
       "      <th></th>\n",
       "      <th>user_id</th>\n",
       "      <th>cool</th>\n",
       "      <th>funny</th>\n",
       "      <th>useful</th>\n",
       "      <th>stars</th>\n",
       "      <th>review_count</th>\n",
       "      <th>fans</th>\n",
       "      <th>friends</th>\n",
       "      <th>vote_cool</th>\n",
       "      <th>vote_funny</th>\n",
       "      <th>vote_useful</th>\n",
       "      <th>yelp_age</th>\n",
       "      <th>FRE</th>\n",
       "      <th>elite</th>\n",
       "    </tr>\n",
       "  </thead>\n",
       "  <tbody>\n",
       "    <tr>\n",
       "      <th>0</th>\n",
       "      <td>--65q1FpAL_UQtVZ2PTGew</td>\n",
       "      <td>2.695364</td>\n",
       "      <td>1.907285</td>\n",
       "      <td>3.807947</td>\n",
       "      <td>4.046358</td>\n",
       "      <td>151</td>\n",
       "      <td>28</td>\n",
       "      <td>263</td>\n",
       "      <td>656</td>\n",
       "      <td>484</td>\n",
       "      <td>883</td>\n",
       "      <td>93</td>\n",
       "      <td>78.259934</td>\n",
       "      <td>1</td>\n",
       "    </tr>\n",
       "    <tr>\n",
       "      <th>10</th>\n",
       "      <td>-8zhUSkiBdIRUfeXM1KM6Q</td>\n",
       "      <td>1.164179</td>\n",
       "      <td>0.567164</td>\n",
       "      <td>2.044776</td>\n",
       "      <td>4.044776</td>\n",
       "      <td>67</td>\n",
       "      <td>6</td>\n",
       "      <td>26</td>\n",
       "      <td>89</td>\n",
       "      <td>41</td>\n",
       "      <td>174</td>\n",
       "      <td>50</td>\n",
       "      <td>75.097761</td>\n",
       "      <td>1</td>\n",
       "    </tr>\n",
       "    <tr>\n",
       "      <th>16</th>\n",
       "      <td>-DLZvdwIXxpBKSV6YNsvdA</td>\n",
       "      <td>0.542169</td>\n",
       "      <td>0.361446</td>\n",
       "      <td>1.397590</td>\n",
       "      <td>4.144578</td>\n",
       "      <td>83</td>\n",
       "      <td>7</td>\n",
       "      <td>22</td>\n",
       "      <td>84</td>\n",
       "      <td>54</td>\n",
       "      <td>259</td>\n",
       "      <td>38</td>\n",
       "      <td>73.682410</td>\n",
       "      <td>1</td>\n",
       "    </tr>\n",
       "    <tr>\n",
       "      <th>25</th>\n",
       "      <td>-I7HB9_t2lqYF5Yq1pmpfQ</td>\n",
       "      <td>2.875000</td>\n",
       "      <td>1.569444</td>\n",
       "      <td>4.375000</td>\n",
       "      <td>4.138889</td>\n",
       "      <td>72</td>\n",
       "      <td>16</td>\n",
       "      <td>104</td>\n",
       "      <td>324</td>\n",
       "      <td>165</td>\n",
       "      <td>477</td>\n",
       "      <td>52</td>\n",
       "      <td>81.678612</td>\n",
       "      <td>1</td>\n",
       "    </tr>\n",
       "    <tr>\n",
       "      <th>30</th>\n",
       "      <td>-KCR0e2Nyc7a7qvqnr9njQ</td>\n",
       "      <td>0.271429</td>\n",
       "      <td>0.314286</td>\n",
       "      <td>0.771429</td>\n",
       "      <td>4.228571</td>\n",
       "      <td>70</td>\n",
       "      <td>5</td>\n",
       "      <td>21</td>\n",
       "      <td>69</td>\n",
       "      <td>131</td>\n",
       "      <td>191</td>\n",
       "      <td>77</td>\n",
       "      <td>77.314286</td>\n",
       "      <td>1</td>\n",
       "    </tr>\n",
       "  </tbody>\n",
       "</table>\n",
       "</div>"
      ],
      "text/plain": [
       "                   user_id      cool     funny    useful     stars  \\\n",
       "0   --65q1FpAL_UQtVZ2PTGew  2.695364  1.907285  3.807947  4.046358   \n",
       "10  -8zhUSkiBdIRUfeXM1KM6Q  1.164179  0.567164  2.044776  4.044776   \n",
       "16  -DLZvdwIXxpBKSV6YNsvdA  0.542169  0.361446  1.397590  4.144578   \n",
       "25  -I7HB9_t2lqYF5Yq1pmpfQ  2.875000  1.569444  4.375000  4.138889   \n",
       "30  -KCR0e2Nyc7a7qvqnr9njQ  0.271429  0.314286  0.771429  4.228571   \n",
       "\n",
       "    review_count  fans  friends  vote_cool  vote_funny  vote_useful  yelp_age  \\\n",
       "0            151    28      263        656         484          883        93   \n",
       "10            67     6       26         89          41          174        50   \n",
       "16            83     7       22         84          54          259        38   \n",
       "25            72    16      104        324         165          477        52   \n",
       "30            70     5       21         69         131          191        77   \n",
       "\n",
       "          FRE elite  \n",
       "0   78.259934     1  \n",
       "10  75.097761     1  \n",
       "16  73.682410     1  \n",
       "25  81.678612     1  \n",
       "30  77.314286     1  "
      ]
     },
     "execution_count": 13,
     "metadata": {},
     "output_type": "execute_result"
    }
   ],
   "source": [
    "final_data[(final_data.elite == 1) & (final_data.stars > 4)].head()"
   ]
  },
  {
   "cell_type": "code",
   "execution_count": 7,
   "metadata": {
    "collapsed": false
   },
   "outputs": [
    {
     "ename": "NameError",
     "evalue": "name 'data' is not defined",
     "output_type": "error",
     "traceback": [
      "\u001b[0;31m---------------------------------------------------------------------------\u001b[0m",
      "\u001b[0;31mNameError\u001b[0m                                 Traceback (most recent call last)",
      "\u001b[0;32m<ipython-input-7-6137cde4893c>\u001b[0m in \u001b[0;36m<module>\u001b[0;34m()\u001b[0m\n\u001b[0;32m----> 1\u001b[0;31m \u001b[0mdata\u001b[0m\u001b[0;34m\u001b[0m\u001b[0m\n\u001b[0m",
      "\u001b[0;31mNameError\u001b[0m: name 'data' is not defined"
     ]
    }
   ],
   "source": []
  },
  {
   "cell_type": "markdown",
   "metadata": {},
   "source": [
    "# PCA"
   ]
  },
  {
   "cell_type": "code",
   "execution_count": null,
   "metadata": {
    "collapsed": false
   },
   "outputs": [],
   "source": [
    "data = final_data.iloc[:,1:]\n",
    "pca = PCA(n_components=2, whiten=True).fit(final_data.iloc[:,1:])\n",
    "X_pca = pca.transform(final_data.iloc[:,1:])"
   ]
  },
  {
   "cell_type": "code",
   "execution_count": null,
   "metadata": {
    "collapsed": false
   },
   "outputs": [],
   "source": [
    "print pca.components_"
   ]
  },
  {
   "cell_type": "code",
   "execution_count": null,
   "metadata": {
    "collapsed": false
   },
   "outputs": [],
   "source": [
    "print pca.explained_variance_ratio_\n",
    "print sum(pca.explained_variance_ratio_)"
   ]
  },
  {
   "cell_type": "markdown",
   "metadata": {},
   "source": [
    "## That's pretty cool. Although we have thrown away many dimensions, PCA has chosen the remaining two dimensions well enough that we've captured 98% of the variance in our data in a single dimension alone!"
   ]
  },
  {
   "cell_type": "code",
   "execution_count": null,
   "metadata": {
    "collapsed": false
   },
   "outputs": [],
   "source": [
    "X_pca.shape"
   ]
  },
  {
   "cell_type": "code",
   "execution_count": null,
   "metadata": {
    "collapsed": false,
    "scrolled": true
   },
   "outputs": [],
   "source": [
    "#colors = cycle('rgb')\n",
    "target_ids = range(len(final_data))\n",
    "#plt.figure(figsize= (13,8))\n",
    "\n",
    "plt.scatter(X_pca[:, 0], X_pca[:, 1], c = final_data.elite, alpha = 0.6)"
   ]
  },
  {
   "cell_type": "markdown",
   "metadata": {},
   "source": [
    "# SVM(Poly and Gaussian)"
   ]
  },
  {
   "cell_type": "code",
   "execution_count": 12,
   "metadata": {
    "collapsed": false
   },
   "outputs": [
    {
     "name": "stderr",
     "output_type": "stream",
     "text": [
      "/Users/lexu/Library/Enthought/Canopy_64bit/User/lib/python2.7/site-packages/sklearn/cross_validation.py:44: DeprecationWarning: This module was deprecated in version 0.18 in favor of the model_selection module into which all the refactored classes and functions are moved. Also note that the interface of the new CV iterators are different from that of this module. This module will be removed in 0.20.\n",
      "  \"This module will be removed in 0.20.\", DeprecationWarning)\n"
     ]
    }
   ],
   "source": [
    "from sklearn import svm\n",
    "from sklearn.cross_validation import train_test_split"
   ]
  },
  {
   "cell_type": "code",
   "execution_count": 47,
   "metadata": {
    "collapsed": true
   },
   "outputs": [],
   "source": [
    "# binarize the data\n",
    "final_ = pd.read_excel('yelp_user.xlsx')\n",
    "final_data = final_.copy()\n",
    "final_data.drop(\"name\", axis = 1, inplace= True)\n",
    "final_data.elite = pd.cut(final_data.elite, bins = [0,0.9,13], include_lowest=True, labels=[0,1])"
   ]
  },
  {
   "cell_type": "code",
   "execution_count": 197,
   "metadata": {
    "collapsed": false
   },
   "outputs": [
    {
     "data": {
      "text/plain": [
       "78.627652964214889"
      ]
     },
     "execution_count": 197,
     "metadata": {},
     "output_type": "execute_result"
    }
   ],
   "source": [
    "final_.FRE.mean()"
   ]
  },
  {
   "cell_type": "code",
   "execution_count": 198,
   "metadata": {
    "collapsed": false
   },
   "outputs": [
    {
     "data": {
      "text/plain": [
       "100.67363683527169"
      ]
     },
     "execution_count": 198,
     "metadata": {},
     "output_type": "execute_result"
    }
   ],
   "source": [
    "final_.FRE.max()"
   ]
  },
  {
   "cell_type": "code",
   "execution_count": 199,
   "metadata": {
    "collapsed": false
   },
   "outputs": [
    {
     "data": {
      "text/plain": [
       "17.70836750220279"
      ]
     },
     "execution_count": 199,
     "metadata": {},
     "output_type": "execute_result"
    }
   ],
   "source": [
    "final_.FRE.min()"
   ]
  },
  {
   "cell_type": "code",
   "execution_count": 10,
   "metadata": {
    "collapsed": false
   },
   "outputs": [
    {
     "data": {
      "text/html": [
       "<div>\n",
       "<table border=\"1\" class=\"dataframe\">\n",
       "  <thead>\n",
       "    <tr style=\"text-align: right;\">\n",
       "      <th></th>\n",
       "      <th>user_id</th>\n",
       "      <th>cool</th>\n",
       "      <th>funny</th>\n",
       "      <th>useful</th>\n",
       "      <th>stars</th>\n",
       "      <th>review_count</th>\n",
       "      <th>fans</th>\n",
       "      <th>friends</th>\n",
       "      <th>vote_cool</th>\n",
       "      <th>vote_funny</th>\n",
       "      <th>vote_useful</th>\n",
       "      <th>yelp_age</th>\n",
       "      <th>FRE</th>\n",
       "      <th>elite</th>\n",
       "    </tr>\n",
       "  </thead>\n",
       "  <tbody>\n",
       "    <tr>\n",
       "      <th>0</th>\n",
       "      <td>--65q1FpAL_UQtVZ2PTGew</td>\n",
       "      <td>2.695364</td>\n",
       "      <td>1.907285</td>\n",
       "      <td>3.807947</td>\n",
       "      <td>4.046358</td>\n",
       "      <td>151</td>\n",
       "      <td>28</td>\n",
       "      <td>263</td>\n",
       "      <td>656</td>\n",
       "      <td>484</td>\n",
       "      <td>883</td>\n",
       "      <td>93</td>\n",
       "      <td>78.259934</td>\n",
       "      <td>1</td>\n",
       "    </tr>\n",
       "    <tr>\n",
       "      <th>1</th>\n",
       "      <td>-0itF0VWVBe3k2AdfUReGA</td>\n",
       "      <td>1.734043</td>\n",
       "      <td>1.500000</td>\n",
       "      <td>2.393617</td>\n",
       "      <td>3.670213</td>\n",
       "      <td>94</td>\n",
       "      <td>2</td>\n",
       "      <td>54</td>\n",
       "      <td>251</td>\n",
       "      <td>189</td>\n",
       "      <td>361</td>\n",
       "      <td>77</td>\n",
       "      <td>69.490000</td>\n",
       "      <td>1</td>\n",
       "    </tr>\n",
       "    <tr>\n",
       "      <th>2</th>\n",
       "      <td>-2PFmYGWB6rQhZtRh6PlPA</td>\n",
       "      <td>0.183333</td>\n",
       "      <td>0.166667</td>\n",
       "      <td>0.675000</td>\n",
       "      <td>3.283333</td>\n",
       "      <td>120</td>\n",
       "      <td>0</td>\n",
       "      <td>10</td>\n",
       "      <td>41</td>\n",
       "      <td>91</td>\n",
       "      <td>177</td>\n",
       "      <td>85</td>\n",
       "      <td>79.785834</td>\n",
       "      <td>0</td>\n",
       "    </tr>\n",
       "    <tr>\n",
       "      <th>3</th>\n",
       "      <td>-3akdU5UTDn6dwiTCO2cAw</td>\n",
       "      <td>0.736842</td>\n",
       "      <td>0.631579</td>\n",
       "      <td>1.447368</td>\n",
       "      <td>3.934211</td>\n",
       "      <td>76</td>\n",
       "      <td>7</td>\n",
       "      <td>133</td>\n",
       "      <td>83</td>\n",
       "      <td>62</td>\n",
       "      <td>165</td>\n",
       "      <td>82</td>\n",
       "      <td>77.291579</td>\n",
       "      <td>1</td>\n",
       "    </tr>\n",
       "    <tr>\n",
       "      <th>4</th>\n",
       "      <td>-4AMRN-7RtozD9s8ZsH04g</td>\n",
       "      <td>1.644068</td>\n",
       "      <td>2.745763</td>\n",
       "      <td>2.644068</td>\n",
       "      <td>3.593220</td>\n",
       "      <td>59</td>\n",
       "      <td>33</td>\n",
       "      <td>219</td>\n",
       "      <td>1325</td>\n",
       "      <td>1674</td>\n",
       "      <td>2067</td>\n",
       "      <td>81</td>\n",
       "      <td>75.822373</td>\n",
       "      <td>1</td>\n",
       "    </tr>\n",
       "  </tbody>\n",
       "</table>\n",
       "</div>"
      ],
      "text/plain": [
       "                  user_id      cool     funny    useful     stars  \\\n",
       "0  --65q1FpAL_UQtVZ2PTGew  2.695364  1.907285  3.807947  4.046358   \n",
       "1  -0itF0VWVBe3k2AdfUReGA  1.734043  1.500000  2.393617  3.670213   \n",
       "2  -2PFmYGWB6rQhZtRh6PlPA  0.183333  0.166667  0.675000  3.283333   \n",
       "3  -3akdU5UTDn6dwiTCO2cAw  0.736842  0.631579  1.447368  3.934211   \n",
       "4  -4AMRN-7RtozD9s8ZsH04g  1.644068  2.745763  2.644068  3.593220   \n",
       "\n",
       "   review_count  fans  friends  vote_cool  vote_funny  vote_useful  yelp_age  \\\n",
       "0           151    28      263        656         484          883        93   \n",
       "1            94     2       54        251         189          361        77   \n",
       "2           120     0       10         41          91          177        85   \n",
       "3            76     7      133         83          62          165        82   \n",
       "4            59    33      219       1325        1674         2067        81   \n",
       "\n",
       "         FRE elite  \n",
       "0  78.259934     1  \n",
       "1  69.490000     1  \n",
       "2  79.785834     0  \n",
       "3  77.291579     1  \n",
       "4  75.822373     1  "
      ]
     },
     "execution_count": 10,
     "metadata": {},
     "output_type": "execute_result"
    }
   ],
   "source": [
    "final_data.head()"
   ]
  },
  {
   "cell_type": "code",
   "execution_count": 13,
   "metadata": {
    "collapsed": false
   },
   "outputs": [],
   "source": [
    "## Normalization:\n",
    "data = final_data.iloc[:,1:-1]\n",
    "\n",
    "df_mean = data.mean(axis = 1) # for mean of row, add columns up , use axis 1\n",
    "df_std = data.std(axis = 1)\n",
    "\n",
    "final_data_scale = data.apply(lambda x: (x - df_mean)/df_std)"
   ]
  },
  {
   "cell_type": "code",
   "execution_count": 19,
   "metadata": {
    "collapsed": false
   },
   "outputs": [
    {
     "data": {
      "text/html": [
       "<div>\n",
       "<table border=\"1\" class=\"dataframe\">\n",
       "  <thead>\n",
       "    <tr style=\"text-align: right;\">\n",
       "      <th></th>\n",
       "      <th>cool</th>\n",
       "      <th>funny</th>\n",
       "      <th>useful</th>\n",
       "      <th>stars</th>\n",
       "      <th>review_count</th>\n",
       "      <th>fans</th>\n",
       "      <th>friends</th>\n",
       "      <th>vote_cool</th>\n",
       "      <th>vote_funny</th>\n",
       "      <th>vote_useful</th>\n",
       "      <th>yelp_age</th>\n",
       "      <th>FRE</th>\n",
       "    </tr>\n",
       "  </thead>\n",
       "  <tbody>\n",
       "    <tr>\n",
       "      <th>0</th>\n",
       "      <td>-0.735283</td>\n",
       "      <td>-0.737941</td>\n",
       "      <td>-0.731531</td>\n",
       "      <td>-0.730727</td>\n",
       "      <td>-0.235144</td>\n",
       "      <td>-0.649946</td>\n",
       "      <td>0.142563</td>\n",
       "      <td>1.467907</td>\n",
       "      <td>0.887858</td>\n",
       "      <td>2.233437</td>\n",
       "      <td>-0.430742</td>\n",
       "      <td>-0.480451</td>\n",
       "    </tr>\n",
       "    <tr>\n",
       "      <th>1</th>\n",
       "      <td>-0.776277</td>\n",
       "      <td>-0.778284</td>\n",
       "      <td>-0.770619</td>\n",
       "      <td>-0.759669</td>\n",
       "      <td>0.015163</td>\n",
       "      <td>-0.773995</td>\n",
       "      <td>-0.327949</td>\n",
       "      <td>1.361878</td>\n",
       "      <td>0.830054</td>\n",
       "      <td>2.305437</td>\n",
       "      <td>-0.130660</td>\n",
       "      <td>-0.195079</td>\n",
       "    </tr>\n",
       "    <tr>\n",
       "      <th>2</th>\n",
       "      <td>-0.852591</td>\n",
       "      <td>-0.852873</td>\n",
       "      <td>-0.844289</td>\n",
       "      <td>-0.800245</td>\n",
       "      <td>1.170626</td>\n",
       "      <td>-0.855687</td>\n",
       "      <td>-0.686828</td>\n",
       "      <td>-0.163363</td>\n",
       "      <td>0.680934</td>\n",
       "      <td>2.133125</td>\n",
       "      <td>0.579618</td>\n",
       "      <td>0.491572</td>\n",
       "    </tr>\n",
       "    <tr>\n",
       "      <th>3</th>\n",
       "      <td>-1.019888</td>\n",
       "      <td>-1.021774</td>\n",
       "      <td>-1.007160</td>\n",
       "      <td>-0.962611</td>\n",
       "      <td>0.328356</td>\n",
       "      <td>-0.907691</td>\n",
       "      <td>1.349440</td>\n",
       "      <td>0.453753</td>\n",
       "      <td>0.077564</td>\n",
       "      <td>1.922679</td>\n",
       "      <td>0.435839</td>\n",
       "      <td>0.351493</td>\n",
       "    </tr>\n",
       "    <tr>\n",
       "      <th>4</th>\n",
       "      <td>-0.606740</td>\n",
       "      <td>-0.605289</td>\n",
       "      <td>-0.605423</td>\n",
       "      <td>-0.604172</td>\n",
       "      <td>-0.531153</td>\n",
       "      <td>-0.565417</td>\n",
       "      <td>-0.320293</td>\n",
       "      <td>1.137276</td>\n",
       "      <td>1.597214</td>\n",
       "      <td>2.115138</td>\n",
       "      <td>-0.502159</td>\n",
       "      <td>-0.508983</td>\n",
       "    </tr>\n",
       "  </tbody>\n",
       "</table>\n",
       "</div>"
      ],
      "text/plain": [
       "       cool     funny    useful     stars  review_count      fans   friends  \\\n",
       "0 -0.735283 -0.737941 -0.731531 -0.730727     -0.235144 -0.649946  0.142563   \n",
       "1 -0.776277 -0.778284 -0.770619 -0.759669      0.015163 -0.773995 -0.327949   \n",
       "2 -0.852591 -0.852873 -0.844289 -0.800245      1.170626 -0.855687 -0.686828   \n",
       "3 -1.019888 -1.021774 -1.007160 -0.962611      0.328356 -0.907691  1.349440   \n",
       "4 -0.606740 -0.605289 -0.605423 -0.604172     -0.531153 -0.565417 -0.320293   \n",
       "\n",
       "   vote_cool  vote_funny  vote_useful  yelp_age       FRE  \n",
       "0   1.467907    0.887858     2.233437 -0.430742 -0.480451  \n",
       "1   1.361878    0.830054     2.305437 -0.130660 -0.195079  \n",
       "2  -0.163363    0.680934     2.133125  0.579618  0.491572  \n",
       "3   0.453753    0.077564     1.922679  0.435839  0.351493  \n",
       "4   1.137276    1.597214     2.115138 -0.502159 -0.508983  "
      ]
     },
     "execution_count": 19,
     "metadata": {},
     "output_type": "execute_result"
    }
   ],
   "source": [
    "final_data_scale.head() "
   ]
  },
  {
   "cell_type": "code",
   "execution_count": 20,
   "metadata": {
    "collapsed": false
   },
   "outputs": [],
   "source": [
    "X = final_data_scale\n",
    "Y = final_data.iloc[:,-1]\n",
    "\n",
    "X_train, X_test, Y_train, Y_test = train_test_split(\n",
    "    X, Y, test_size=0.3, random_state=1)"
   ]
  },
  {
   "cell_type": "markdown",
   "metadata": {},
   "source": [
    "### Polynomial Kernal SVM"
   ]
  },
  {
   "cell_type": "code",
   "execution_count": 22,
   "metadata": {
    "collapsed": false
   },
   "outputs": [
    {
     "name": "stdout",
     "output_type": "stream",
     "text": [
      "we successfully(IS) predict the 83.91 percent of data\n",
      "we successfully(OS) predict the 80.5 percent of data\n"
     ]
    }
   ],
   "source": [
    "\n",
    "######################\n",
    "\n",
    "clf = svm.SVC(kernel='poly', gamma = 2, degree=3, C=1)\n",
    "clf.fit(X_train, Y_train)\n",
    "\n",
    "#Report IS and OS result:\n",
    "correct_IS=1.0*(clf.predict(X_train)==np.asarray(Y_train)).sum()/len(Y_train)\n",
    "correct_OS=1.0*(clf.predict(X_test)==np.asarray(Y_test)).sum()/len(Y_test)\n",
    "\n",
    "print \"we successfully(IS) predict the {:.4} percent of data\".format((correct_IS)*100)\n",
    "print \"we successfully(OS) predict the {:.4} percent of data\".format((correct_OS)*100)"
   ]
  },
  {
   "cell_type": "code",
   "execution_count": null,
   "metadata": {
    "collapsed": true
   },
   "outputs": [],
   "source": []
  },
  {
   "cell_type": "markdown",
   "metadata": {},
   "source": [
    "### Gussian Kernal SVM"
   ]
  },
  {
   "cell_type": "code",
   "execution_count": 24,
   "metadata": {
    "collapsed": false
   },
   "outputs": [
    {
     "name": "stdout",
     "output_type": "stream",
     "text": [
      "we successfully(OS) predict the 79.5932678822 percent of data\n"
     ]
    }
   ],
   "source": [
    "# #Gussian Kernal SVM\n",
    "clf = svm.SVC(kernel='rbf',gamma=2, C=1,degree = 3) \n",
    "\n",
    "clf.fit(X_train, Y_train)\n",
    "\n",
    "#right_IS=1.0*(clf.predict(X_test)==np.asarray(Y_test)).sum()/len(Y_test)\n",
    "right_OS=1.0*(clf.predict(X_test)==np.asarray(Y_test)).sum()/len(Y_test)\n",
    "print \"we successfully(OS) predict the {} percent of data\".format((right_OS)*100)"
   ]
  },
  {
   "cell_type": "markdown",
   "metadata": {},
   "source": [
    "### Linear Kernal SVM"
   ]
  },
  {
   "cell_type": "code",
   "execution_count": 25,
   "metadata": {
    "collapsed": false
   },
   "outputs": [
    {
     "name": "stdout",
     "output_type": "stream",
     "text": [
      "we successfully(OS) predict the 78.6816269285 percent of data by linear\n"
     ]
    }
   ],
   "source": [
    "clf = svm.SVC(kernel='linear',C=1, gamma = 2)\n",
    "clf.fit(X_train, Y_train)\n",
    "correct=1.0*(clf.predict(X_test)==np.asarray(Y_test)).sum()/len(Y_test)\n",
    "print \"we successfully(OS) predict the {} percent of data by {}\".format((correct)*100,'linear')"
   ]
  },
  {
   "cell_type": "markdown",
   "metadata": {},
   "source": [
    "# Decision Tree"
   ]
  },
  {
   "cell_type": "code",
   "execution_count": 26,
   "metadata": {
    "collapsed": true
   },
   "outputs": [],
   "source": [
    "from sklearn.tree import DecisionTreeClassifier as DTC"
   ]
  },
  {
   "cell_type": "code",
   "execution_count": 27,
   "metadata": {
    "collapsed": true
   },
   "outputs": [],
   "source": [
    "## Control the complexity of the Decision Tree\n",
    "OS=[]\n",
    "for i in range(2,50,2):\n",
    "    rf=DTC(max_leaf_nodes=i)\n",
    "    rf.fit(X_train,Y_train)\n",
    "    OS.append(rf.score(X_test,Y_test))"
   ]
  },
  {
   "cell_type": "code",
   "execution_count": 205,
   "metadata": {
    "collapsed": false
   },
   "outputs": [
    {
     "data": {
      "text/plain": [
       "<matplotlib.text.Text at 0x124a706d0>"
      ]
     },
     "execution_count": 205,
     "metadata": {},
     "output_type": "execute_result"
    },
    {
     "data": {
      "image/png": "[encoded data removed]",
      "text/plain": [
       "<matplotlib.figure.Figure at 0x124a69710>"
      ]
     },
     "metadata": {},
     "output_type": "display_data"
    }
   ],
   "source": [
    "\n",
    "plt.plot(range(2,50,2),OS)\n",
    "plt.axvline(16,color='r',linestyle='--')\n",
    "plt.title(\"Decision Tree OS accurancy vs. numbers of Max leaf nodes\")\n",
    "plt.xlabel(\"Number of Max leaf nodes\")\n",
    "plt.ylabel('OS ACC')"
   ]
  },
  {
   "cell_type": "code",
   "execution_count": 29,
   "metadata": {
    "collapsed": false
   },
   "outputs": [
    {
     "data": {
      "text/plain": [
       "0.80084151472650766"
      ]
     },
     "execution_count": 29,
     "metadata": {},
     "output_type": "execute_result"
    }
   ],
   "source": [
    "rf=DTC(max_leaf_nodes=16)\n",
    "rf.fit(X_train,Y_train)\n",
    "rf.score(X_test,Y_test)"
   ]
  },
  {
   "cell_type": "markdown",
   "metadata": {},
   "source": [
    "### Let's use ROC AUC instead of accuracy."
   ]
  },
  {
   "cell_type": "code",
   "execution_count": 206,
   "metadata": {
    "collapsed": false
   },
   "outputs": [],
   "source": [
    "from sklearn.metrics import roc_auc_score as rs\n",
    "\n",
    "AUC_IS=[]\n",
    "AUC_OS=[]\n",
    "for i in range(10):\n",
    "    X_train,X_test,Y_train,Y_test=train_test_split(X, Y, test_size=0.3)\n",
    "    rf=DTC()\n",
    "    rf.fit(X_train,Y_train)\n",
    "    pred=rf.predict(X_test)\n",
    "    AUC_OS.append(rs(np.array(Y_test),pred))\n",
    "    AUC_IS.append(rs(np.array(Y_train),rf.predict(X_train)))"
   ]
  },
  {
   "cell_type": "code",
   "execution_count": 214,
   "metadata": {
    "collapsed": false
   },
   "outputs": [
    {
     "data": {
      "text/plain": [
       "<matplotlib.text.Text at 0x12168d950>"
      ]
     },
     "execution_count": 214,
     "metadata": {},
     "output_type": "execute_result"
    },
    {
     "data": {
      "image/png": "[encoded data removed]",
      "text/plain": [
       "<matplotlib.figure.Figure at 0x119c88510>"
      ]
     },
     "metadata": {},
     "output_type": "display_data"
    }
   ],
   "source": [
    "plt.plot(range(0,10,1), AUC_OS, c = 'g')\n",
    "plt.axvline(4,color='r',linestyle='--')\n",
    "plt.title(\"Decision Tree OS AUC score vs. numbers of Max leaf nodes\")\n",
    "plt.xlabel(\"Number of Max leaf nodes\")\n",
    "plt.ylabel('OS AUC')"
   ]
  },
  {
   "cell_type": "code",
   "execution_count": 31,
   "metadata": {
    "collapsed": false
   },
   "outputs": [
    {
     "name": "stdout",
     "output_type": "stream",
     "text": [
      "IS AUC: 1.0\n",
      "OS AUC: 0.727793356657\n"
     ]
    }
   ],
   "source": [
    "print \"IS AUC: {}\".format(np.mean(AUC_IS))\n",
    "print \"OS AUC: {}\".format(np.mean(AUC_OS))"
   ]
  },
  {
   "cell_type": "markdown",
   "metadata": {},
   "source": [
    "### The feature importances. The higher, the more important the feature. The importance of a feature is computed as the (normalized) total reduction of the criterion brought by that feature. It is also known as the Gini importance"
   ]
  },
  {
   "cell_type": "code",
   "execution_count": 32,
   "metadata": {
    "collapsed": false
   },
   "outputs": [
    {
     "data": {
      "text/html": [
       "<div>\n",
       "<table border=\"1\" class=\"dataframe\">\n",
       "  <thead>\n",
       "    <tr style=\"text-align: right;\">\n",
       "      <th></th>\n",
       "      <th>variables</th>\n",
       "      <th>importance</th>\n",
       "    </tr>\n",
       "  </thead>\n",
       "  <tbody>\n",
       "    <tr>\n",
       "      <th>7</th>\n",
       "      <td>vote_cool</td>\n",
       "      <td>0.372418</td>\n",
       "    </tr>\n",
       "    <tr>\n",
       "      <th>6</th>\n",
       "      <td>friends</td>\n",
       "      <td>0.155433</td>\n",
       "    </tr>\n",
       "    <tr>\n",
       "      <th>5</th>\n",
       "      <td>fans</td>\n",
       "      <td>0.11073</td>\n",
       "    </tr>\n",
       "  </tbody>\n",
       "</table>\n",
       "</div>"
      ],
      "text/plain": [
       "   variables importance\n",
       "7  vote_cool   0.372418\n",
       "6    friends   0.155433\n",
       "5       fans    0.11073"
      ]
     },
     "execution_count": 32,
     "metadata": {},
     "output_type": "execute_result"
    }
   ],
   "source": [
    "Feature_importance=pd.DataFrame([list(X_train.columns),list(rf.feature_importances_)]).T\n",
    "Feature_importance.columns=[\"variables\",\"importance\"]\n",
    "Feature_importance.sort_values(by=\"importance\",ascending=False).iloc[:3,:]"
   ]
  },
  {
   "cell_type": "code",
   "execution_count": 33,
   "metadata": {
    "collapsed": false
   },
   "outputs": [
    {
     "name": "stdout",
     "output_type": "stream",
     "text": [
      "The AUC score for this simple model with 3 features is : 0.792675732067\n"
     ]
    }
   ],
   "source": [
    "## USE THE FEATURES TO TRAIN THE MODEL:\n",
    "#Let's generate our new training and testing model by these three features.\n",
    "X_train_simple= X_train.loc[:,[\"vote_cool\",\"friends\",\"vote_useful\"]]\n",
    "X_test_simple= X_test.loc[:,[\"vote_cool\",\"friends\",\"vote_useful\"]]\n",
    "\n",
    "#Let's see the performance of this simple model:\n",
    "real=np.array(Y_test)\n",
    "rf = DTC(max_leaf_nodes=16) # Here of course we could remove this limit. But you could have a very \n",
    "                             #big graph for next question.\n",
    "rf.fit(X_train_simple, Y_train)\n",
    "pred=rf.predict(X_test_simple)\n",
    "print(\"The AUC score for this simple model with 3 features is : {}\".format(rs(real,pred)))"
   ]
  },
  {
   "cell_type": "markdown",
   "metadata": {},
   "source": [
    "# Random Forest"
   ]
  },
  {
   "cell_type": "code",
   "execution_count": 34,
   "metadata": {
    "collapsed": false
   },
   "outputs": [
    {
     "data": {
      "text/plain": [
       "RandomForestClassifier(bootstrap=True, class_weight=None, criterion='gini',\n",
       "            max_depth=None, max_features='auto', max_leaf_nodes=15,\n",
       "            min_impurity_split=1e-07, min_samples_leaf=1,\n",
       "            min_samples_split=2, min_weight_fraction_leaf=0.0,\n",
       "            n_estimators=30, n_jobs=-1, oob_score=False, random_state=None,\n",
       "            verbose=0, warm_start=False)"
      ]
     },
     "execution_count": 34,
     "metadata": {},
     "output_type": "execute_result"
    }
   ],
   "source": [
    "from sklearn.ensemble import RandomForestClassifier as RFC\n",
    "rf = RFC(n_estimators=30, n_jobs=-1, max_leaf_nodes=15)\n",
    "rf.fit(X_train, Y_train)"
   ]
  },
  {
   "cell_type": "code",
   "execution_count": 35,
   "metadata": {
    "collapsed": false
   },
   "outputs": [
    {
     "name": "stdout",
     "output_type": "stream",
     "text": [
      "0.797653479695\n"
     ]
    }
   ],
   "source": [
    "pred=rf.predict(X_test)\n",
    "pred.shape\n",
    "print rs(np.array(Y_test), pred)"
   ]
  },
  {
   "cell_type": "code",
   "execution_count": 36,
   "metadata": {
    "collapsed": false
   },
   "outputs": [
    {
     "data": {
      "text/html": [
       "<div>\n",
       "<table border=\"1\" class=\"dataframe\">\n",
       "  <thead>\n",
       "    <tr style=\"text-align: right;\">\n",
       "      <th></th>\n",
       "      <th>variables</th>\n",
       "      <th>importance</th>\n",
       "    </tr>\n",
       "  </thead>\n",
       "  <tbody>\n",
       "    <tr>\n",
       "      <th>7</th>\n",
       "      <td>vote_cool</td>\n",
       "      <td>0.249068</td>\n",
       "    </tr>\n",
       "    <tr>\n",
       "      <th>11</th>\n",
       "      <td>FRE</td>\n",
       "      <td>0.208194</td>\n",
       "    </tr>\n",
       "    <tr>\n",
       "      <th>9</th>\n",
       "      <td>vote_useful</td>\n",
       "      <td>0.169123</td>\n",
       "    </tr>\n",
       "  </tbody>\n",
       "</table>\n",
       "</div>"
      ],
      "text/plain": [
       "      variables importance\n",
       "7     vote_cool   0.249068\n",
       "11          FRE   0.208194\n",
       "9   vote_useful   0.169123"
      ]
     },
     "execution_count": 36,
     "metadata": {},
     "output_type": "execute_result"
    }
   ],
   "source": [
    "Feature_importance=pd.DataFrame([list(X_train.columns),list(rf.feature_importances_)]).T\n",
    "Feature_importance.columns=[\"variables\",\"importance\"]\n",
    "Feature_importance.sort_values(by=\"importance\",ascending=False).iloc[:3,:]"
   ]
  },
  {
   "cell_type": "code",
   "execution_count": 37,
   "metadata": {
    "collapsed": false
   },
   "outputs": [
    {
     "name": "stdout",
     "output_type": "stream",
     "text": [
      "The AUC score for this simple model with 3 features is : 0.789080406607\n"
     ]
    }
   ],
   "source": [
    "## USE THE FEATURES TO TRAIN THE MODEL:\n",
    "#Let's generate our new training and testing model by these three features.\n",
    "X_train_simple= X_train.loc[:,[\"vote_cool\",\"friends\",\"FRE\"]]\n",
    "X_test_simple= X_test.loc[:,[\"vote_cool\",\"friends\",\"FRE\"]]\n",
    "\n",
    "#Let's see the performance of this simple model:\n",
    "real=np.array(Y_test)\n",
    "rf = RFC(n_estimators=30, n_jobs=-1,max_leaf_nodes=15) # Here of course we could remove this limit. But you could have a very \n",
    "                             #big graph for next question.\n",
    "rf.fit(X_train_simple, Y_train)\n",
    "pred=rf.predict(X_test_simple)\n",
    "print(\"The AUC score for this simple model with 3 features is : {}\".format(rs(real,pred)))"
   ]
  },
  {
   "cell_type": "code",
   "execution_count": null,
   "metadata": {
    "collapsed": true
   },
   "outputs": [],
   "source": []
  },
  {
   "cell_type": "markdown",
   "metadata": {},
   "source": [
    "# K-means"
   ]
  },
  {
   "cell_type": "code",
   "execution_count": 168,
   "metadata": {
    "collapsed": false
   },
   "outputs": [],
   "source": [
    "data = final_\n",
    "more_4_star = data[data.stars > 4.5].sort_values(\"useful\", ascending = 0)"
   ]
  },
  {
   "cell_type": "code",
   "execution_count": 169,
   "metadata": {
    "collapsed": false
   },
   "outputs": [
    {
     "data": {
      "text/plain": [
       "(97, 14)"
      ]
     },
     "execution_count": 169,
     "metadata": {},
     "output_type": "execute_result"
    }
   ],
   "source": [
    "more_4_star.shape"
   ]
  },
  {
   "cell_type": "markdown",
   "metadata": {},
   "source": [
    "### more than 4 stars"
   ]
  },
  {
   "cell_type": "code",
   "execution_count": 170,
   "metadata": {
    "collapsed": false
   },
   "outputs": [],
   "source": [
    "## more 4 stars\n",
    "data = more_4_star.iloc[:,1:]\n",
    "\n",
    "df_mean = data.mean(axis = 1) # for mean of row, add columns up , use axis 1\n",
    "df_std = data.std(axis = 1)\n",
    "\n",
    "data_scale = data.apply(lambda x: (x - df_mean)/df_std)\n",
    "\n",
    "# kmeans \n",
    "model = KMeans(n_clusters=2).fit(data_scale)\n",
    "labels = model.labels_\n",
    "data_scale['kmean_label'] = labels\n",
    "\n",
    "data_scale[\"user_id\"] = more_4_star.iloc[:,0]"
   ]
  },
  {
   "cell_type": "code",
   "execution_count": 171,
   "metadata": {
    "collapsed": false
   },
   "outputs": [
    {
     "data": {
      "text/plain": [
       "<matplotlib.text.Text at 0x12295e110>"
      ]
     },
     "execution_count": 171,
     "metadata": {},
     "output_type": "execute_result"
    },
    {
     "data": {
      "image/png": "[encoded data removed]",
      "text/plain": [
       "<matplotlib.figure.Figure at 0x1227e1d90>"
      ]
     },
     "metadata": {},
     "output_type": "display_data"
    }
   ],
   "source": [
    "ax = data_scale.groupby(\"kmean_label\").mean().T.plot(figsize=(20,7))\n",
    "ax.set_ylabel(\"Values\", fontsize = 20)\n",
    "ax.set_xlabel(\"Features\",  fontsize = 20)\n",
    "\n",
    "ax.set_title (\"Normalized Numbers of Values VS Different Features with Three different cluster group\")"
   ]
  },
  {
   "cell_type": "markdown",
   "metadata": {},
   "source": [
    "## Comment From the plot: \n",
    "### 1. the more reviews the higher scores for the FRE\n",
    "### 2. the less the reviews, the higher cool vote count, the hight vote count. (those users reviews less, but vote more to others, they are more viewers, instead of reviews)\n",
    "### 3. the more reviews, the lower the vote for others, the less friends.\n"
   ]
  },
  {
   "cell_type": "markdown",
   "metadata": {},
   "source": [
    "## Gaussian Mixture"
   ]
  },
  {
   "cell_type": "code",
   "execution_count": 172,
   "metadata": {
    "collapsed": false
   },
   "outputs": [
    {
     "data": {
      "text/html": [
       "<div>\n",
       "<table border=\"1\" class=\"dataframe\">\n",
       "  <thead>\n",
       "    <tr style=\"text-align: right;\">\n",
       "      <th></th>\n",
       "      <th>user_id</th>\n",
       "      <th>cool</th>\n",
       "      <th>funny</th>\n",
       "      <th>useful</th>\n",
       "      <th>stars</th>\n",
       "      <th>review_count</th>\n",
       "      <th>fans</th>\n",
       "      <th>friends</th>\n",
       "      <th>vote_cool</th>\n",
       "      <th>vote_funny</th>\n",
       "      <th>vote_useful</th>\n",
       "      <th>yelp_age</th>\n",
       "      <th>FRE</th>\n",
       "      <th>elite</th>\n",
       "    </tr>\n",
       "  </thead>\n",
       "  <tbody>\n",
       "    <tr>\n",
       "      <th>2814</th>\n",
       "      <td>_pc89S47Dk-yp1VjrbVyJQ</td>\n",
       "      <td>38.041096</td>\n",
       "      <td>26.753425</td>\n",
       "      <td>40.712329</td>\n",
       "      <td>4.630137</td>\n",
       "      <td>73</td>\n",
       "      <td>232</td>\n",
       "      <td>1035</td>\n",
       "      <td>4842</td>\n",
       "      <td>3417</td>\n",
       "      <td>5111</td>\n",
       "      <td>81</td>\n",
       "      <td>66.910000</td>\n",
       "      <td>0</td>\n",
       "    </tr>\n",
       "    <tr>\n",
       "      <th>1445</th>\n",
       "      <td>IK-bpyw7JNVxkExX4eSHpA</td>\n",
       "      <td>6.445783</td>\n",
       "      <td>5.132530</td>\n",
       "      <td>9.024096</td>\n",
       "      <td>4.554217</td>\n",
       "      <td>83</td>\n",
       "      <td>100</td>\n",
       "      <td>390</td>\n",
       "      <td>799</td>\n",
       "      <td>628</td>\n",
       "      <td>1107</td>\n",
       "      <td>123</td>\n",
       "      <td>82.202170</td>\n",
       "      <td>6</td>\n",
       "    </tr>\n",
       "    <tr>\n",
       "      <th>3046</th>\n",
       "      <td>d9OpCGxR0RQTXwZc0DWBBw</td>\n",
       "      <td>6.215190</td>\n",
       "      <td>3.860759</td>\n",
       "      <td>6.898734</td>\n",
       "      <td>4.506329</td>\n",
       "      <td>79</td>\n",
       "      <td>36</td>\n",
       "      <td>166</td>\n",
       "      <td>670</td>\n",
       "      <td>409</td>\n",
       "      <td>749</td>\n",
       "      <td>40</td>\n",
       "      <td>85.324304</td>\n",
       "      <td>2</td>\n",
       "    </tr>\n",
       "    <tr>\n",
       "      <th>4598</th>\n",
       "      <td>xthFXWIoXm06OKgXj0ROCQ</td>\n",
       "      <td>5.727941</td>\n",
       "      <td>2.904412</td>\n",
       "      <td>5.970588</td>\n",
       "      <td>4.595588</td>\n",
       "      <td>136</td>\n",
       "      <td>104</td>\n",
       "      <td>324</td>\n",
       "      <td>1153</td>\n",
       "      <td>590</td>\n",
       "      <td>1250</td>\n",
       "      <td>79</td>\n",
       "      <td>71.699265</td>\n",
       "      <td>0</td>\n",
       "    </tr>\n",
       "    <tr>\n",
       "      <th>880</th>\n",
       "      <td>AZ-KneIf2C3csDftss2aDg</td>\n",
       "      <td>5.017391</td>\n",
       "      <td>3.043478</td>\n",
       "      <td>5.121739</td>\n",
       "      <td>4.773913</td>\n",
       "      <td>115</td>\n",
       "      <td>40</td>\n",
       "      <td>137</td>\n",
       "      <td>611</td>\n",
       "      <td>381</td>\n",
       "      <td>660</td>\n",
       "      <td>60</td>\n",
       "      <td>80.708087</td>\n",
       "      <td>1</td>\n",
       "    </tr>\n",
       "    <tr>\n",
       "      <th>2480</th>\n",
       "      <td>WTT0hi0IOO-zl_s5e-qQ4Q</td>\n",
       "      <td>4.931034</td>\n",
       "      <td>3.712644</td>\n",
       "      <td>5.034483</td>\n",
       "      <td>4.505747</td>\n",
       "      <td>87</td>\n",
       "      <td>22</td>\n",
       "      <td>137</td>\n",
       "      <td>1174</td>\n",
       "      <td>887</td>\n",
       "      <td>1265</td>\n",
       "      <td>45</td>\n",
       "      <td>75.615057</td>\n",
       "      <td>2</td>\n",
       "    </tr>\n",
       "    <tr>\n",
       "      <th>2146</th>\n",
       "      <td>Rro65XbBIgTc392wf4oAMg</td>\n",
       "      <td>3.698113</td>\n",
       "      <td>1.905660</td>\n",
       "      <td>3.981132</td>\n",
       "      <td>4.924528</td>\n",
       "      <td>53</td>\n",
       "      <td>13</td>\n",
       "      <td>79</td>\n",
       "      <td>269</td>\n",
       "      <td>139</td>\n",
       "      <td>297</td>\n",
       "      <td>119</td>\n",
       "      <td>73.332265</td>\n",
       "      <td>2</td>\n",
       "    </tr>\n",
       "    <tr>\n",
       "      <th>1523</th>\n",
       "      <td>JRdTRHchEWH_qba8Y8P6cQ</td>\n",
       "      <td>2.777778</td>\n",
       "      <td>2.537037</td>\n",
       "      <td>3.611111</td>\n",
       "      <td>4.666667</td>\n",
       "      <td>54</td>\n",
       "      <td>36</td>\n",
       "      <td>129</td>\n",
       "      <td>16778</td>\n",
       "      <td>13278</td>\n",
       "      <td>17897</td>\n",
       "      <td>98</td>\n",
       "      <td>75.558889</td>\n",
       "      <td>0</td>\n",
       "    </tr>\n",
       "    <tr>\n",
       "      <th>659</th>\n",
       "      <td>7G-n3IpqUDiBKD6t5unHkg</td>\n",
       "      <td>2.485294</td>\n",
       "      <td>1.713235</td>\n",
       "      <td>3.397059</td>\n",
       "      <td>4.566176</td>\n",
       "      <td>136</td>\n",
       "      <td>49</td>\n",
       "      <td>188</td>\n",
       "      <td>504</td>\n",
       "      <td>375</td>\n",
       "      <td>786</td>\n",
       "      <td>51</td>\n",
       "      <td>74.434118</td>\n",
       "      <td>3</td>\n",
       "    </tr>\n",
       "    <tr>\n",
       "      <th>652</th>\n",
       "      <td>7CjXfvnVxL1OJO1Tboq01Q</td>\n",
       "      <td>2.634328</td>\n",
       "      <td>2.358209</td>\n",
       "      <td>3.291045</td>\n",
       "      <td>4.776119</td>\n",
       "      <td>134</td>\n",
       "      <td>22</td>\n",
       "      <td>126</td>\n",
       "      <td>596</td>\n",
       "      <td>474</td>\n",
       "      <td>767</td>\n",
       "      <td>104</td>\n",
       "      <td>82.748135</td>\n",
       "      <td>2</td>\n",
       "    </tr>\n",
       "  </tbody>\n",
       "</table>\n",
       "</div>"
      ],
      "text/plain": [
       "                     user_id       cool      funny     useful     stars  \\\n",
       "2814  _pc89S47Dk-yp1VjrbVyJQ  38.041096  26.753425  40.712329  4.630137   \n",
       "1445  IK-bpyw7JNVxkExX4eSHpA   6.445783   5.132530   9.024096  4.554217   \n",
       "3046  d9OpCGxR0RQTXwZc0DWBBw   6.215190   3.860759   6.898734  4.506329   \n",
       "4598  xthFXWIoXm06OKgXj0ROCQ   5.727941   2.904412   5.970588  4.595588   \n",
       "880   AZ-KneIf2C3csDftss2aDg   5.017391   3.043478   5.121739  4.773913   \n",
       "2480  WTT0hi0IOO-zl_s5e-qQ4Q   4.931034   3.712644   5.034483  4.505747   \n",
       "2146  Rro65XbBIgTc392wf4oAMg   3.698113   1.905660   3.981132  4.924528   \n",
       "1523  JRdTRHchEWH_qba8Y8P6cQ   2.777778   2.537037   3.611111  4.666667   \n",
       "659   7G-n3IpqUDiBKD6t5unHkg   2.485294   1.713235   3.397059  4.566176   \n",
       "652   7CjXfvnVxL1OJO1Tboq01Q   2.634328   2.358209   3.291045  4.776119   \n",
       "\n",
       "      review_count  fans  friends  vote_cool  vote_funny  vote_useful  \\\n",
       "2814            73   232     1035       4842        3417         5111   \n",
       "1445            83   100      390        799         628         1107   \n",
       "3046            79    36      166        670         409          749   \n",
       "4598           136   104      324       1153         590         1250   \n",
       "880            115    40      137        611         381          660   \n",
       "2480            87    22      137       1174         887         1265   \n",
       "2146            53    13       79        269         139          297   \n",
       "1523            54    36      129      16778       13278        17897   \n",
       "659            136    49      188        504         375          786   \n",
       "652            134    22      126        596         474          767   \n",
       "\n",
       "      yelp_age        FRE  elite  \n",
       "2814        81  66.910000      0  \n",
       "1445       123  82.202170      6  \n",
       "3046        40  85.324304      2  \n",
       "4598        79  71.699265      0  \n",
       "880         60  80.708087      1  \n",
       "2480        45  75.615057      2  \n",
       "2146       119  73.332265      2  \n",
       "1523        98  75.558889      0  \n",
       "659         51  74.434118      3  \n",
       "652        104  82.748135      2  "
      ]
     },
     "execution_count": 172,
     "metadata": {},
     "output_type": "execute_result"
    }
   ],
   "source": [
    "more_4_star.head(10)"
   ]
  },
  {
   "cell_type": "code",
   "execution_count": 173,
   "metadata": {
    "collapsed": false
   },
   "outputs": [
    {
     "data": {
      "text/plain": [
       "78.08251653699331"
      ]
     },
     "execution_count": 173,
     "metadata": {},
     "output_type": "execute_result"
    }
   ],
   "source": [
    "more_4_star.FRE.mean()"
   ]
  },
  {
   "cell_type": "markdown",
   "metadata": {},
   "source": [
    "### Train the good data"
   ]
  },
  {
   "cell_type": "code",
   "execution_count": 174,
   "metadata": {
    "collapsed": false
   },
   "outputs": [],
   "source": [
    "train_data = more_4_star[(more_4_star.elite > 0) & (more_4_star.FRE < more_4_star.FRE.mean())]"
   ]
  },
  {
   "cell_type": "code",
   "execution_count": 175,
   "metadata": {
    "collapsed": false
   },
   "outputs": [],
   "source": [
    "data = train_data.iloc[:,1:]\n",
    "GM=GaussianMixture(n_components=5, random_state=220)\n",
    "\n",
    "GM.fit(data)\n",
    "df_gaussian = pd.DataFrame(\n",
    "    {'GM_Score': GM.score_samples(more_4_star.iloc[:,1:]),\n",
    "     'id': more_4_star.user_id})"
   ]
  },
  {
   "cell_type": "code",
   "execution_count": 176,
   "metadata": {
    "collapsed": false
   },
   "outputs": [
    {
     "data": {
      "text/html": [
       "<div>\n",
       "<table border=\"1\" class=\"dataframe\">\n",
       "  <thead>\n",
       "    <tr style=\"text-align: right;\">\n",
       "      <th></th>\n",
       "      <th>GM_Score</th>\n",
       "      <th>id</th>\n",
       "    </tr>\n",
       "  </thead>\n",
       "  <tbody>\n",
       "    <tr>\n",
       "      <th>1523</th>\n",
       "      <td>-1.077026e+12</td>\n",
       "      <td>JRdTRHchEWH_qba8Y8P6cQ</td>\n",
       "    </tr>\n",
       "    <tr>\n",
       "      <th>2814</th>\n",
       "      <td>-6.131002e+10</td>\n",
       "      <td>_pc89S47Dk-yp1VjrbVyJQ</td>\n",
       "    </tr>\n",
       "    <tr>\n",
       "      <th>1445</th>\n",
       "      <td>-7.900028e+09</td>\n",
       "      <td>IK-bpyw7JNVxkExX4eSHpA</td>\n",
       "    </tr>\n",
       "    <tr>\n",
       "      <th>2649</th>\n",
       "      <td>-5.825533e+09</td>\n",
       "      <td>YyavHs3U4XaX9shLcUV6bA</td>\n",
       "    </tr>\n",
       "    <tr>\n",
       "      <th>3262</th>\n",
       "      <td>-4.743987e+09</td>\n",
       "      <td>fvrJU4f7euDYwjHIURtFOA</td>\n",
       "    </tr>\n",
       "    <tr>\n",
       "      <th>652</th>\n",
       "      <td>-2.536743e+09</td>\n",
       "      <td>7CjXfvnVxL1OJO1Tboq01Q</td>\n",
       "    </tr>\n",
       "    <tr>\n",
       "      <th>4598</th>\n",
       "      <td>-2.074399e+09</td>\n",
       "      <td>xthFXWIoXm06OKgXj0ROCQ</td>\n",
       "    </tr>\n",
       "    <tr>\n",
       "      <th>1145</th>\n",
       "      <td>-2.034484e+09</td>\n",
       "      <td>EA4DUm9DW20r3No1sixMbg</td>\n",
       "    </tr>\n",
       "    <tr>\n",
       "      <th>2441</th>\n",
       "      <td>-1.534653e+09</td>\n",
       "      <td>VunWX7xcjm9iUJe7Ds9XFQ</td>\n",
       "    </tr>\n",
       "    <tr>\n",
       "      <th>880</th>\n",
       "      <td>-9.101151e+08</td>\n",
       "      <td>AZ-KneIf2C3csDftss2aDg</td>\n",
       "    </tr>\n",
       "  </tbody>\n",
       "</table>\n",
       "</div>"
      ],
      "text/plain": [
       "          GM_Score                      id\n",
       "1523 -1.077026e+12  JRdTRHchEWH_qba8Y8P6cQ\n",
       "2814 -6.131002e+10  _pc89S47Dk-yp1VjrbVyJQ\n",
       "1445 -7.900028e+09  IK-bpyw7JNVxkExX4eSHpA\n",
       "2649 -5.825533e+09  YyavHs3U4XaX9shLcUV6bA\n",
       "3262 -4.743987e+09  fvrJU4f7euDYwjHIURtFOA\n",
       "652  -2.536743e+09  7CjXfvnVxL1OJO1Tboq01Q\n",
       "4598 -2.074399e+09  xthFXWIoXm06OKgXj0ROCQ\n",
       "1145 -2.034484e+09  EA4DUm9DW20r3No1sixMbg\n",
       "2441 -1.534653e+09  VunWX7xcjm9iUJe7Ds9XFQ\n",
       "880  -9.101151e+08  AZ-KneIf2C3csDftss2aDg"
      ]
     },
     "execution_count": 176,
     "metadata": {},
     "output_type": "execute_result"
    }
   ],
   "source": [
    "df_gaussian.sort_values(\"GM_Score\", ascending=True)[:10]"
   ]
  },
  {
   "cell_type": "markdown",
   "metadata": {},
   "source": [
    "## Isolation Forest"
   ]
  },
  {
   "cell_type": "code",
   "execution_count": 177,
   "metadata": {
    "collapsed": false
   },
   "outputs": [],
   "source": [
    "import numpy as np\n",
    "import matplotlib.pyplot as plt\n",
    "from sklearn.ensemble import IsolationForest\n",
    "\n",
    "data = more_4_star.iloc[:,1:]\n",
    "\n",
    "# fit the model\n",
    "clf = IsolationForest(max_samples=100, random_state=220)\n",
    "clf.fit(data)\n",
    "\n",
    "df_isolation = pd.DataFrame(\n",
    "    {'Iso_Score': clf.decision_function(more_4_star.iloc[:,1:]),\n",
    "     'id': more_4_star.user_id})"
   ]
  },
  {
   "cell_type": "code",
   "execution_count": 218,
   "metadata": {
    "collapsed": false
   },
   "outputs": [
    {
     "data": {
      "text/html": [
       "<div>\n",
       "<table border=\"1\" class=\"dataframe\">\n",
       "  <thead>\n",
       "    <tr style=\"text-align: right;\">\n",
       "      <th></th>\n",
       "      <th>Iso_Score</th>\n",
       "      <th>id</th>\n",
       "    </tr>\n",
       "  </thead>\n",
       "  <tbody>\n",
       "    <tr>\n",
       "      <th>2814</th>\n",
       "      <td>-0.226861</td>\n",
       "      <td>_pc89S47Dk-yp1VjrbVyJQ</td>\n",
       "    </tr>\n",
       "    <tr>\n",
       "      <th>1523</th>\n",
       "      <td>-0.144194</td>\n",
       "      <td>JRdTRHchEWH_qba8Y8P6cQ</td>\n",
       "    </tr>\n",
       "    <tr>\n",
       "      <th>1445</th>\n",
       "      <td>-0.115229</td>\n",
       "      <td>IK-bpyw7JNVxkExX4eSHpA</td>\n",
       "    </tr>\n",
       "    <tr>\n",
       "      <th>4598</th>\n",
       "      <td>-0.066050</td>\n",
       "      <td>xthFXWIoXm06OKgXj0ROCQ</td>\n",
       "    </tr>\n",
       "    <tr>\n",
       "      <th>3046</th>\n",
       "      <td>-0.039082</td>\n",
       "      <td>d9OpCGxR0RQTXwZc0DWBBw</td>\n",
       "    </tr>\n",
       "    <tr>\n",
       "      <th>2480</th>\n",
       "      <td>-0.027772</td>\n",
       "      <td>WTT0hi0IOO-zl_s5e-qQ4Q</td>\n",
       "    </tr>\n",
       "    <tr>\n",
       "      <th>2146</th>\n",
       "      <td>-0.023888</td>\n",
       "      <td>Rro65XbBIgTc392wf4oAMg</td>\n",
       "    </tr>\n",
       "    <tr>\n",
       "      <th>880</th>\n",
       "      <td>-0.017411</td>\n",
       "      <td>AZ-KneIf2C3csDftss2aDg</td>\n",
       "    </tr>\n",
       "    <tr>\n",
       "      <th>226</th>\n",
       "      <td>0.003937</td>\n",
       "      <td>2AbBZM7n9EMwa0nK1yl0CA</td>\n",
       "    </tr>\n",
       "    <tr>\n",
       "      <th>652</th>\n",
       "      <td>0.004357</td>\n",
       "      <td>7CjXfvnVxL1OJO1Tboq01Q</td>\n",
       "    </tr>\n",
       "  </tbody>\n",
       "</table>\n",
       "</div>"
      ],
      "text/plain": [
       "      Iso_Score                      id\n",
       "2814  -0.226861  _pc89S47Dk-yp1VjrbVyJQ\n",
       "1523  -0.144194  JRdTRHchEWH_qba8Y8P6cQ\n",
       "1445  -0.115229  IK-bpyw7JNVxkExX4eSHpA\n",
       "4598  -0.066050  xthFXWIoXm06OKgXj0ROCQ\n",
       "3046  -0.039082  d9OpCGxR0RQTXwZc0DWBBw\n",
       "2480  -0.027772  WTT0hi0IOO-zl_s5e-qQ4Q\n",
       "2146  -0.023888  Rro65XbBIgTc392wf4oAMg\n",
       "880   -0.017411  AZ-KneIf2C3csDftss2aDg\n",
       "226    0.003937  2AbBZM7n9EMwa0nK1yl0CA\n",
       "652    0.004357  7CjXfvnVxL1OJO1Tboq01Q"
      ]
     },
     "execution_count": 218,
     "metadata": {},
     "output_type": "execute_result"
    }
   ],
   "source": [
    "df_isolation.sort_values(\"Iso_Score\")[:10]"
   ]
  },
  {
   "cell_type": "code",
   "execution_count": 216,
   "metadata": {
    "collapsed": false
   },
   "outputs": [
    {
     "data": {
      "text/html": [
       "<div>\n",
       "<table border=\"1\" class=\"dataframe\">\n",
       "  <thead>\n",
       "    <tr style=\"text-align: right;\">\n",
       "      <th></th>\n",
       "      <th>GM_Score</th>\n",
       "      <th>id</th>\n",
       "    </tr>\n",
       "  </thead>\n",
       "  <tbody>\n",
       "    <tr>\n",
       "      <th>1523</th>\n",
       "      <td>-1.077026e+12</td>\n",
       "      <td>JRdTRHchEWH_qba8Y8P6cQ</td>\n",
       "    </tr>\n",
       "    <tr>\n",
       "      <th>2814</th>\n",
       "      <td>-6.131002e+10</td>\n",
       "      <td>_pc89S47Dk-yp1VjrbVyJQ</td>\n",
       "    </tr>\n",
       "    <tr>\n",
       "      <th>1445</th>\n",
       "      <td>-7.900028e+09</td>\n",
       "      <td>IK-bpyw7JNVxkExX4eSHpA</td>\n",
       "    </tr>\n",
       "    <tr>\n",
       "      <th>2649</th>\n",
       "      <td>-5.825533e+09</td>\n",
       "      <td>YyavHs3U4XaX9shLcUV6bA</td>\n",
       "    </tr>\n",
       "    <tr>\n",
       "      <th>3262</th>\n",
       "      <td>-4.743987e+09</td>\n",
       "      <td>fvrJU4f7euDYwjHIURtFOA</td>\n",
       "    </tr>\n",
       "    <tr>\n",
       "      <th>652</th>\n",
       "      <td>-2.536743e+09</td>\n",
       "      <td>7CjXfvnVxL1OJO1Tboq01Q</td>\n",
       "    </tr>\n",
       "    <tr>\n",
       "      <th>4598</th>\n",
       "      <td>-2.074399e+09</td>\n",
       "      <td>xthFXWIoXm06OKgXj0ROCQ</td>\n",
       "    </tr>\n",
       "    <tr>\n",
       "      <th>1145</th>\n",
       "      <td>-2.034484e+09</td>\n",
       "      <td>EA4DUm9DW20r3No1sixMbg</td>\n",
       "    </tr>\n",
       "    <tr>\n",
       "      <th>2441</th>\n",
       "      <td>-1.534653e+09</td>\n",
       "      <td>VunWX7xcjm9iUJe7Ds9XFQ</td>\n",
       "    </tr>\n",
       "    <tr>\n",
       "      <th>880</th>\n",
       "      <td>-9.101151e+08</td>\n",
       "      <td>AZ-KneIf2C3csDftss2aDg</td>\n",
       "    </tr>\n",
       "  </tbody>\n",
       "</table>\n",
       "</div>"
      ],
      "text/plain": [
       "          GM_Score                      id\n",
       "1523 -1.077026e+12  JRdTRHchEWH_qba8Y8P6cQ\n",
       "2814 -6.131002e+10  _pc89S47Dk-yp1VjrbVyJQ\n",
       "1445 -7.900028e+09  IK-bpyw7JNVxkExX4eSHpA\n",
       "2649 -5.825533e+09  YyavHs3U4XaX9shLcUV6bA\n",
       "3262 -4.743987e+09  fvrJU4f7euDYwjHIURtFOA\n",
       "652  -2.536743e+09  7CjXfvnVxL1OJO1Tboq01Q\n",
       "4598 -2.074399e+09  xthFXWIoXm06OKgXj0ROCQ\n",
       "1145 -2.034484e+09  EA4DUm9DW20r3No1sixMbg\n",
       "2441 -1.534653e+09  VunWX7xcjm9iUJe7Ds9XFQ\n",
       "880  -9.101151e+08  AZ-KneIf2C3csDftss2aDg"
      ]
     },
     "execution_count": 216,
     "metadata": {},
     "output_type": "execute_result"
    }
   ],
   "source": [
    "# merge both lists see if anyone appears both list\n",
    "tem_ = df_gaussian.sort_values(\"GM_Score\", ascending=True).head(10)\n",
    "tem_"
   ]
  },
  {
   "cell_type": "markdown",
   "metadata": {},
   "source": [
    "## Train the model with good users and TEST ON the other USERS data"
   ]
  },
  {
   "cell_type": "markdown",
   "metadata": {},
   "source": [
    "## Total 6 out of 10 users "
   ]
  },
  {
   "cell_type": "code",
   "execution_count": 180,
   "metadata": {
    "collapsed": false
   },
   "outputs": [
    {
     "data": {
      "text/html": [
       "<div>\n",
       "<table border=\"1\" class=\"dataframe\">\n",
       "  <thead>\n",
       "    <tr style=\"text-align: right;\">\n",
       "      <th></th>\n",
       "      <th>user_id</th>\n",
       "      <th>cool</th>\n",
       "      <th>funny</th>\n",
       "      <th>useful</th>\n",
       "      <th>stars</th>\n",
       "      <th>review_count</th>\n",
       "      <th>fans</th>\n",
       "      <th>friends</th>\n",
       "      <th>vote_cool</th>\n",
       "      <th>vote_funny</th>\n",
       "      <th>vote_useful</th>\n",
       "      <th>yelp_age</th>\n",
       "      <th>FRE</th>\n",
       "      <th>elite</th>\n",
       "    </tr>\n",
       "  </thead>\n",
       "  <tbody>\n",
       "    <tr>\n",
       "      <th>2814</th>\n",
       "      <td>_pc89S47Dk-yp1VjrbVyJQ</td>\n",
       "      <td>38.041096</td>\n",
       "      <td>26.753425</td>\n",
       "      <td>40.712329</td>\n",
       "      <td>4.630137</td>\n",
       "      <td>73</td>\n",
       "      <td>232</td>\n",
       "      <td>1035</td>\n",
       "      <td>4842</td>\n",
       "      <td>3417</td>\n",
       "      <td>5111</td>\n",
       "      <td>81</td>\n",
       "      <td>66.910000</td>\n",
       "      <td>0</td>\n",
       "    </tr>\n",
       "    <tr>\n",
       "      <th>1523</th>\n",
       "      <td>JRdTRHchEWH_qba8Y8P6cQ</td>\n",
       "      <td>2.777778</td>\n",
       "      <td>2.537037</td>\n",
       "      <td>3.611111</td>\n",
       "      <td>4.666667</td>\n",
       "      <td>54</td>\n",
       "      <td>36</td>\n",
       "      <td>129</td>\n",
       "      <td>16778</td>\n",
       "      <td>13278</td>\n",
       "      <td>17897</td>\n",
       "      <td>98</td>\n",
       "      <td>75.558889</td>\n",
       "      <td>0</td>\n",
       "    </tr>\n",
       "    <tr>\n",
       "      <th>1445</th>\n",
       "      <td>IK-bpyw7JNVxkExX4eSHpA</td>\n",
       "      <td>6.445783</td>\n",
       "      <td>5.132530</td>\n",
       "      <td>9.024096</td>\n",
       "      <td>4.554217</td>\n",
       "      <td>83</td>\n",
       "      <td>100</td>\n",
       "      <td>390</td>\n",
       "      <td>799</td>\n",
       "      <td>628</td>\n",
       "      <td>1107</td>\n",
       "      <td>123</td>\n",
       "      <td>82.202170</td>\n",
       "      <td>6</td>\n",
       "    </tr>\n",
       "    <tr>\n",
       "      <th>4598</th>\n",
       "      <td>xthFXWIoXm06OKgXj0ROCQ</td>\n",
       "      <td>5.727941</td>\n",
       "      <td>2.904412</td>\n",
       "      <td>5.970588</td>\n",
       "      <td>4.595588</td>\n",
       "      <td>136</td>\n",
       "      <td>104</td>\n",
       "      <td>324</td>\n",
       "      <td>1153</td>\n",
       "      <td>590</td>\n",
       "      <td>1250</td>\n",
       "      <td>79</td>\n",
       "      <td>71.699265</td>\n",
       "      <td>0</td>\n",
       "    </tr>\n",
       "    <tr>\n",
       "      <th>880</th>\n",
       "      <td>AZ-KneIf2C3csDftss2aDg</td>\n",
       "      <td>5.017391</td>\n",
       "      <td>3.043478</td>\n",
       "      <td>5.121739</td>\n",
       "      <td>4.773913</td>\n",
       "      <td>115</td>\n",
       "      <td>40</td>\n",
       "      <td>137</td>\n",
       "      <td>611</td>\n",
       "      <td>381</td>\n",
       "      <td>660</td>\n",
       "      <td>60</td>\n",
       "      <td>80.708087</td>\n",
       "      <td>1</td>\n",
       "    </tr>\n",
       "    <tr>\n",
       "      <th>652</th>\n",
       "      <td>7CjXfvnVxL1OJO1Tboq01Q</td>\n",
       "      <td>2.634328</td>\n",
       "      <td>2.358209</td>\n",
       "      <td>3.291045</td>\n",
       "      <td>4.776119</td>\n",
       "      <td>134</td>\n",
       "      <td>22</td>\n",
       "      <td>126</td>\n",
       "      <td>596</td>\n",
       "      <td>474</td>\n",
       "      <td>767</td>\n",
       "      <td>104</td>\n",
       "      <td>82.748135</td>\n",
       "      <td>2</td>\n",
       "    </tr>\n",
       "  </tbody>\n",
       "</table>\n",
       "</div>"
      ],
      "text/plain": [
       "                     user_id       cool      funny     useful     stars  \\\n",
       "2814  _pc89S47Dk-yp1VjrbVyJQ  38.041096  26.753425  40.712329  4.630137   \n",
       "1523  JRdTRHchEWH_qba8Y8P6cQ   2.777778   2.537037   3.611111  4.666667   \n",
       "1445  IK-bpyw7JNVxkExX4eSHpA   6.445783   5.132530   9.024096  4.554217   \n",
       "4598  xthFXWIoXm06OKgXj0ROCQ   5.727941   2.904412   5.970588  4.595588   \n",
       "880   AZ-KneIf2C3csDftss2aDg   5.017391   3.043478   5.121739  4.773913   \n",
       "652   7CjXfvnVxL1OJO1Tboq01Q   2.634328   2.358209   3.291045  4.776119   \n",
       "\n",
       "      review_count  fans  friends  vote_cool  vote_funny  vote_useful  \\\n",
       "2814            73   232     1035       4842        3417         5111   \n",
       "1523            54    36      129      16778       13278        17897   \n",
       "1445            83   100      390        799         628         1107   \n",
       "4598           136   104      324       1153         590         1250   \n",
       "880            115    40      137        611         381          660   \n",
       "652            134    22      126        596         474          767   \n",
       "\n",
       "      yelp_age        FRE  elite  \n",
       "2814        81  66.910000      0  \n",
       "1523        98  75.558889      0  \n",
       "1445       123  82.202170      6  \n",
       "4598        79  71.699265      0  \n",
       "880         60  80.708087      1  \n",
       "652        104  82.748135      2  "
      ]
     },
     "execution_count": 180,
     "metadata": {},
     "output_type": "execute_result"
    }
   ],
   "source": [
    "more_4_star.loc[tem_.index]"
   ]
  },
  {
   "cell_type": "code",
   "execution_count": null,
   "metadata": {
    "collapsed": true
   },
   "outputs": [],
   "source": []
  },
  {
   "cell_type": "code",
   "execution_count": null,
   "metadata": {
    "collapsed": true
   },
   "outputs": [],
   "source": []
  },
  {
   "cell_type": "code",
   "execution_count": null,
   "metadata": {
    "collapsed": true
   },
   "outputs": [],
   "source": []
  },
  {
   "cell_type": "code",
   "execution_count": null,
   "metadata": {
    "collapsed": true
   },
   "outputs": [],
   "source": []
  },
  {
   "cell_type": "code",
   "execution_count": null,
   "metadata": {
    "collapsed": true
   },
   "outputs": [],
   "source": []
  },
  {
   "cell_type": "code",
   "execution_count": null,
   "metadata": {
    "collapsed": true
   },
   "outputs": [],
   "source": []
  },
  {
   "cell_type": "markdown",
   "metadata": {},
   "source": [
    "## Anomaly Detection with Bayesian Models (TOO EXPENSIVE TO COMPUTE!!!!)"
   ]
  },
  {
   "cell_type": "code",
   "execution_count": 190,
   "metadata": {
    "collapsed": false
   },
   "outputs": [],
   "source": [
    "train_data_baye = more_4_star[(more_4_star.elite > 0)]"
   ]
  },
  {
   "cell_type": "code",
   "execution_count": 191,
   "metadata": {
    "collapsed": true
   },
   "outputs": [],
   "source": [
    "## Normalization:\n",
    "data = train_data_baye.iloc[:,1:]\n",
    "\n",
    "df_mean = data.mean(axis = 1) # for mean of row, add columns up , use axis 1\n",
    "df_std = data.std(axis = 1)\n",
    "\n",
    "data_scale = data.apply(lambda x: (x - df_mean)/df_std)"
   ]
  },
  {
   "cell_type": "code",
   "execution_count": 192,
   "metadata": {
    "collapsed": false
   },
   "outputs": [
    {
     "data": {
      "text/html": [
       "<div>\n",
       "<table border=\"1\" class=\"dataframe\">\n",
       "  <thead>\n",
       "    <tr style=\"text-align: right;\">\n",
       "      <th></th>\n",
       "      <th>cool</th>\n",
       "      <th>funny</th>\n",
       "      <th>useful</th>\n",
       "      <th>stars</th>\n",
       "      <th>review_count</th>\n",
       "      <th>fans</th>\n",
       "      <th>friends</th>\n",
       "      <th>vote_cool</th>\n",
       "      <th>vote_funny</th>\n",
       "      <th>vote_useful</th>\n",
       "      <th>yelp_age</th>\n",
       "      <th>FRE</th>\n",
       "      <th>elite</th>\n",
       "    </tr>\n",
       "  </thead>\n",
       "  <tbody>\n",
       "    <tr>\n",
       "      <th>1445</th>\n",
       "      <td>-0.688940</td>\n",
       "      <td>-0.692548</td>\n",
       "      <td>-0.681855</td>\n",
       "      <td>-0.694137</td>\n",
       "      <td>-0.478594</td>\n",
       "      <td>-0.431883</td>\n",
       "      <td>0.364942</td>\n",
       "      <td>1.488740</td>\n",
       "      <td>1.018888</td>\n",
       "      <td>2.335024</td>\n",
       "      <td>-0.368687</td>\n",
       "      <td>-0.480786</td>\n",
       "      <td>-0.690165</td>\n",
       "    </tr>\n",
       "    <tr>\n",
       "      <th>3046</th>\n",
       "      <td>-0.637075</td>\n",
       "      <td>-0.646032</td>\n",
       "      <td>-0.634474</td>\n",
       "      <td>-0.643576</td>\n",
       "      <td>-0.360180</td>\n",
       "      <td>-0.523765</td>\n",
       "      <td>-0.029207</td>\n",
       "      <td>1.888156</td>\n",
       "      <td>0.895236</td>\n",
       "      <td>2.188695</td>\n",
       "      <td>-0.508548</td>\n",
       "      <td>-0.336121</td>\n",
       "      <td>-0.653111</td>\n",
       "    </tr>\n",
       "    <tr>\n",
       "      <th>880</th>\n",
       "      <td>-0.669901</td>\n",
       "      <td>-0.678334</td>\n",
       "      <td>-0.669455</td>\n",
       "      <td>-0.670941</td>\n",
       "      <td>-0.200028</td>\n",
       "      <td>-0.520447</td>\n",
       "      <td>-0.106039</td>\n",
       "      <td>1.919007</td>\n",
       "      <td>0.936390</td>\n",
       "      <td>2.128347</td>\n",
       "      <td>-0.435002</td>\n",
       "      <td>-0.346532</td>\n",
       "      <td>-0.687064</td>\n",
       "    </tr>\n",
       "    <tr>\n",
       "      <th>2480</th>\n",
       "      <td>-0.587416</td>\n",
       "      <td>-0.589966</td>\n",
       "      <td>-0.587199</td>\n",
       "      <td>-0.588306</td>\n",
       "      <td>-0.415652</td>\n",
       "      <td>-0.551692</td>\n",
       "      <td>-0.311007</td>\n",
       "      <td>1.859344</td>\n",
       "      <td>1.258678</td>\n",
       "      <td>2.049799</td>\n",
       "      <td>-0.503555</td>\n",
       "      <td>-0.439480</td>\n",
       "      <td>-0.593550</td>\n",
       "    </tr>\n",
       "    <tr>\n",
       "      <th>2146</th>\n",
       "      <td>-0.769638</td>\n",
       "      <td>-0.787381</td>\n",
       "      <td>-0.766837</td>\n",
       "      <td>-0.757498</td>\n",
       "      <td>-0.281612</td>\n",
       "      <td>-0.677561</td>\n",
       "      <td>-0.024246</td>\n",
       "      <td>1.856512</td>\n",
       "      <td>0.569678</td>\n",
       "      <td>2.133676</td>\n",
       "      <td>0.371703</td>\n",
       "      <td>-0.080349</td>\n",
       "      <td>-0.786447</td>\n",
       "    </tr>\n",
       "  </tbody>\n",
       "</table>\n",
       "</div>"
      ],
      "text/plain": [
       "          cool     funny    useful     stars  review_count      fans  \\\n",
       "1445 -0.688940 -0.692548 -0.681855 -0.694137     -0.478594 -0.431883   \n",
       "3046 -0.637075 -0.646032 -0.634474 -0.643576     -0.360180 -0.523765   \n",
       "880  -0.669901 -0.678334 -0.669455 -0.670941     -0.200028 -0.520447   \n",
       "2480 -0.587416 -0.589966 -0.587199 -0.588306     -0.415652 -0.551692   \n",
       "2146 -0.769638 -0.787381 -0.766837 -0.757498     -0.281612 -0.677561   \n",
       "\n",
       "       friends  vote_cool  vote_funny  vote_useful  yelp_age       FRE  \\\n",
       "1445  0.364942   1.488740    1.018888     2.335024 -0.368687 -0.480786   \n",
       "3046 -0.029207   1.888156    0.895236     2.188695 -0.508548 -0.336121   \n",
       "880  -0.106039   1.919007    0.936390     2.128347 -0.435002 -0.346532   \n",
       "2480 -0.311007   1.859344    1.258678     2.049799 -0.503555 -0.439480   \n",
       "2146 -0.024246   1.856512    0.569678     2.133676  0.371703 -0.080349   \n",
       "\n",
       "         elite  \n",
       "1445 -0.690165  \n",
       "3046 -0.653111  \n",
       "880  -0.687064  \n",
       "2480 -0.593550  \n",
       "2146 -0.786447  "
      ]
     },
     "execution_count": 192,
     "metadata": {},
     "output_type": "execute_result"
    }
   ],
   "source": [
    "data_scale.head()"
   ]
  },
  {
   "cell_type": "code",
   "execution_count": 195,
   "metadata": {
    "collapsed": false
   },
   "outputs": [
    {
     "name": "stderr",
     "output_type": "stream",
     "text": [
      "/Users/lexu/Library/Enthought/Canopy_64bit/User/lib/python2.7/site-packages/pgmpy-0.1.3-py2.7.egg/pgmpy/estimators/ExhaustiveSearch.py:87: UserWarning: Generating all DAGs of n nodes likely not feasible for n>6!\n",
      "  warn(\"Generating all DAGs of n nodes likely not feasible for n>6!\")\n",
      "/Users/lexu/Library/Enthought/Canopy_64bit/User/lib/python2.7/site-packages/pgmpy-0.1.3-py2.7.egg/pgmpy/estimators/ExhaustiveSearch.py:88: UserWarning: Attempting to search through 91343852333181432387730302044767688728495783936 graphs\n",
      "  warn(\"Attempting to search through {0} graphs\".format(2**(len(nodes)*(len(nodes)-1))))\n"
     ]
    },
    {
     "ename": "KeyboardInterrupt",
     "evalue": "",
     "output_type": "error",
     "traceback": [
      "\u001b[0;31m---------------------------------------------------------------------------\u001b[0m",
      "\u001b[0;31mKeyboardInterrupt\u001b[0m                         Traceback (most recent call last)",
      "\u001b[0;32m<ipython-input-195-2e9f390aaedd>\u001b[0m in \u001b[0;36m<module>\u001b[0;34m()\u001b[0m\n\u001b[1;32m      2\u001b[0m \u001b[0mbic\u001b[0m \u001b[0;34m=\u001b[0m \u001b[0mBicScore\u001b[0m\u001b[0;34m(\u001b[0m\u001b[0mdata_scale\u001b[0m\u001b[0;34m)\u001b[0m\u001b[0;34m\u001b[0m\u001b[0m\n\u001b[1;32m      3\u001b[0m \u001b[0mes\u001b[0m \u001b[0;34m=\u001b[0m \u001b[0mExhaustiveSearch\u001b[0m\u001b[0;34m(\u001b[0m\u001b[0mdata_scale\u001b[0m\u001b[0;34m,\u001b[0m \u001b[0mscoring_method\u001b[0m\u001b[0;34m=\u001b[0m\u001b[0mbic\u001b[0m\u001b[0;34m)\u001b[0m\u001b[0;34m\u001b[0m\u001b[0m\n\u001b[0;32m----> 4\u001b[0;31m \u001b[0mbest_model\u001b[0m \u001b[0;34m=\u001b[0m \u001b[0mes\u001b[0m\u001b[0;34m.\u001b[0m\u001b[0mestimate\u001b[0m\u001b[0;34m(\u001b[0m\u001b[0;34m)\u001b[0m\u001b[0;34m\u001b[0m\u001b[0m\n\u001b[0m\u001b[1;32m      5\u001b[0m \u001b[0;32mprint\u001b[0m\u001b[0;34m(\u001b[0m\u001b[0mbest_model\u001b[0m\u001b[0;34m.\u001b[0m\u001b[0medges\u001b[0m\u001b[0;34m(\u001b[0m\u001b[0;34m)\u001b[0m\u001b[0;34m)\u001b[0m\u001b[0;34m\u001b[0m\u001b[0m\n",
      "\u001b[0;32m/Users/lexu/Library/Enthought/Canopy_64bit/User/lib/python2.7/site-packages/pgmpy-0.1.3-py2.7.egg/pgmpy/estimators/ExhaustiveSearch.pyc\u001b[0m in \u001b[0;36mestimate\u001b[0;34m(self)\u001b[0m\n\u001b[1;32m    178\u001b[0m         \"\"\"\n\u001b[1;32m    179\u001b[0m \u001b[0;34m\u001b[0m\u001b[0m\n\u001b[0;32m--> 180\u001b[0;31m         \u001b[0mbest_dag\u001b[0m \u001b[0;34m=\u001b[0m \u001b[0mmax\u001b[0m\u001b[0;34m(\u001b[0m\u001b[0mself\u001b[0m\u001b[0;34m.\u001b[0m\u001b[0mall_dags\u001b[0m\u001b[0;34m(\u001b[0m\u001b[0;34m)\u001b[0m\u001b[0;34m,\u001b[0m \u001b[0mkey\u001b[0m\u001b[0;34m=\u001b[0m\u001b[0mself\u001b[0m\u001b[0;34m.\u001b[0m\u001b[0mscoring_method\u001b[0m\u001b[0;34m.\u001b[0m\u001b[0mscore\u001b[0m\u001b[0;34m)\u001b[0m\u001b[0;34m\u001b[0m\u001b[0m\n\u001b[0m\u001b[1;32m    181\u001b[0m \u001b[0;34m\u001b[0m\u001b[0m\n\u001b[1;32m    182\u001b[0m         \u001b[0mbest_model\u001b[0m \u001b[0;34m=\u001b[0m \u001b[0mBayesianModel\u001b[0m\u001b[0;34m(\u001b[0m\u001b[0;34m)\u001b[0m\u001b[0;34m\u001b[0m\u001b[0m\n",
      "\u001b[0;32m/Users/lexu/Library/Enthought/Canopy_64bit/User/lib/python2.7/site-packages/pgmpy-0.1.3-py2.7.egg/pgmpy/estimators/StructureScore.pyc\u001b[0m in \u001b[0;36mscore\u001b[0;34m(self, model)\u001b[0m\n\u001b[1;32m     68\u001b[0m         \u001b[0mscore\u001b[0m \u001b[0;34m=\u001b[0m \u001b[0;36m0\u001b[0m\u001b[0;34m\u001b[0m\u001b[0m\n\u001b[1;32m     69\u001b[0m         \u001b[0;32mfor\u001b[0m \u001b[0mnode\u001b[0m \u001b[0;32min\u001b[0m \u001b[0mmodel\u001b[0m\u001b[0;34m.\u001b[0m\u001b[0mnodes\u001b[0m\u001b[0;34m(\u001b[0m\u001b[0;34m)\u001b[0m\u001b[0;34m:\u001b[0m\u001b[0;34m\u001b[0m\u001b[0m\n\u001b[0;32m---> 70\u001b[0;31m             \u001b[0mscore\u001b[0m \u001b[0;34m+=\u001b[0m \u001b[0mself\u001b[0m\u001b[0;34m.\u001b[0m\u001b[0mlocal_score\u001b[0m\u001b[0;34m(\u001b[0m\u001b[0mnode\u001b[0m\u001b[0;34m,\u001b[0m \u001b[0mmodel\u001b[0m\u001b[0;34m.\u001b[0m\u001b[0mpredecessors\u001b[0m\u001b[0;34m(\u001b[0m\u001b[0mnode\u001b[0m\u001b[0;34m)\u001b[0m\u001b[0;34m)\u001b[0m\u001b[0;34m\u001b[0m\u001b[0m\n\u001b[0m\u001b[1;32m     71\u001b[0m         \u001b[0mscore\u001b[0m \u001b[0;34m+=\u001b[0m \u001b[0mself\u001b[0m\u001b[0;34m.\u001b[0m\u001b[0mstructure_prior\u001b[0m\u001b[0;34m(\u001b[0m\u001b[0mmodel\u001b[0m\u001b[0;34m)\u001b[0m\u001b[0;34m\u001b[0m\u001b[0m\n\u001b[1;32m     72\u001b[0m         \u001b[0;32mreturn\u001b[0m \u001b[0mscore\u001b[0m\u001b[0;34m\u001b[0m\u001b[0m\n",
      "\u001b[0;32m/Users/lexu/Library/Enthought/Canopy_64bit/User/lib/python2.7/site-packages/pgmpy-0.1.3-py2.7.egg/pgmpy/estimators/BicScore.pyc\u001b[0m in \u001b[0;36mlocal_score\u001b[0;34m(self, variable, parents)\u001b[0m\n\u001b[1;32m     47\u001b[0m         \u001b[0mvar_states\u001b[0m \u001b[0;34m=\u001b[0m \u001b[0mself\u001b[0m\u001b[0;34m.\u001b[0m\u001b[0mstate_names\u001b[0m\u001b[0;34m[\u001b[0m\u001b[0mvariable\u001b[0m\u001b[0;34m]\u001b[0m\u001b[0;34m\u001b[0m\u001b[0m\n\u001b[1;32m     48\u001b[0m         \u001b[0mvar_cardinality\u001b[0m \u001b[0;34m=\u001b[0m \u001b[0mlen\u001b[0m\u001b[0;34m(\u001b[0m\u001b[0mvar_states\u001b[0m\u001b[0;34m)\u001b[0m\u001b[0;34m\u001b[0m\u001b[0m\n\u001b[0;32m---> 49\u001b[0;31m         \u001b[0mstate_counts\u001b[0m \u001b[0;34m=\u001b[0m \u001b[0mself\u001b[0m\u001b[0;34m.\u001b[0m\u001b[0mstate_counts\u001b[0m\u001b[0;34m(\u001b[0m\u001b[0mvariable\u001b[0m\u001b[0;34m,\u001b[0m \u001b[0mparents\u001b[0m\u001b[0;34m)\u001b[0m\u001b[0;34m\u001b[0m\u001b[0m\n\u001b[0m\u001b[1;32m     50\u001b[0m         \u001b[0msample_size\u001b[0m \u001b[0;34m=\u001b[0m \u001b[0mlen\u001b[0m\u001b[0;34m(\u001b[0m\u001b[0mself\u001b[0m\u001b[0;34m.\u001b[0m\u001b[0mdata\u001b[0m\u001b[0;34m)\u001b[0m\u001b[0;34m\u001b[0m\u001b[0m\n\u001b[1;32m     51\u001b[0m         \u001b[0mnum_parents_states\u001b[0m \u001b[0;34m=\u001b[0m \u001b[0mfloat\u001b[0m\u001b[0;34m(\u001b[0m\u001b[0mlen\u001b[0m\u001b[0;34m(\u001b[0m\u001b[0mstate_counts\u001b[0m\u001b[0;34m.\u001b[0m\u001b[0mcolumns\u001b[0m\u001b[0;34m)\u001b[0m\u001b[0;34m)\u001b[0m\u001b[0;34m\u001b[0m\u001b[0m\n",
      "\u001b[0;32m/Users/lexu/Library/Enthought/Canopy_64bit/User/lib/python2.7/site-packages/pgmpy-0.1.3-py2.7.egg/pgmpy/estimators/base.pyc\u001b[0m in \u001b[0;36mstate_counts\u001b[0;34m(self, variable, parents, complete_samples_only)\u001b[0m\n\u001b[1;32m    109\u001b[0m         \u001b[0;32mif\u001b[0m \u001b[0;32mnot\u001b[0m \u001b[0mparents\u001b[0m\u001b[0;34m:\u001b[0m\u001b[0;34m\u001b[0m\u001b[0m\n\u001b[1;32m    110\u001b[0m             \u001b[0;31m# count how often each state of 'variable' occured\u001b[0m\u001b[0;34m\u001b[0m\u001b[0;34m\u001b[0m\u001b[0m\n\u001b[0;32m--> 111\u001b[0;31m             \u001b[0mstate_count_data\u001b[0m \u001b[0;34m=\u001b[0m \u001b[0mdata\u001b[0m\u001b[0;34m.\u001b[0m\u001b[0mix\u001b[0m\u001b[0;34m[\u001b[0m\u001b[0;34m:\u001b[0m\u001b[0;34m,\u001b[0m \u001b[0mvariable\u001b[0m\u001b[0;34m]\u001b[0m\u001b[0;34m.\u001b[0m\u001b[0mvalue_counts\u001b[0m\u001b[0;34m(\u001b[0m\u001b[0;34m)\u001b[0m\u001b[0;34m\u001b[0m\u001b[0m\n\u001b[0m\u001b[1;32m    112\u001b[0m             \u001b[0mstate_counts\u001b[0m \u001b[0;34m=\u001b[0m \u001b[0mstate_count_data\u001b[0m\u001b[0;34m.\u001b[0m\u001b[0mreindex\u001b[0m\u001b[0;34m(\u001b[0m\u001b[0mself\u001b[0m\u001b[0;34m.\u001b[0m\u001b[0mstate_names\u001b[0m\u001b[0;34m[\u001b[0m\u001b[0mvariable\u001b[0m\u001b[0;34m]\u001b[0m\u001b[0;34m)\u001b[0m\u001b[0;34m.\u001b[0m\u001b[0mfillna\u001b[0m\u001b[0;34m(\u001b[0m\u001b[0;36m0\u001b[0m\u001b[0;34m)\u001b[0m\u001b[0;34m.\u001b[0m\u001b[0mto_frame\u001b[0m\u001b[0;34m(\u001b[0m\u001b[0;34m)\u001b[0m\u001b[0;34m\u001b[0m\u001b[0m\n\u001b[1;32m    113\u001b[0m \u001b[0;34m\u001b[0m\u001b[0m\n",
      "\u001b[0;32m/Users/lexu/Library/Enthought/Canopy_64bit/User/lib/python2.7/site-packages/pandas/core/base.pyc\u001b[0m in \u001b[0;36mvalue_counts\u001b[0;34m(self, normalize, sort, ascending, bins, dropna)\u001b[0m\n\u001b[1;32m    949\u001b[0m         \u001b[0;32mfrom\u001b[0m \u001b[0mpandas\u001b[0m\u001b[0;34m.\u001b[0m\u001b[0mcore\u001b[0m\u001b[0;34m.\u001b[0m\u001b[0malgorithms\u001b[0m \u001b[0;32mimport\u001b[0m \u001b[0mvalue_counts\u001b[0m\u001b[0;34m\u001b[0m\u001b[0m\n\u001b[1;32m    950\u001b[0m         result = value_counts(self, sort=sort, ascending=ascending,\n\u001b[0;32m--> 951\u001b[0;31m                               normalize=normalize, bins=bins, dropna=dropna)\n\u001b[0m\u001b[1;32m    952\u001b[0m         \u001b[0;32mreturn\u001b[0m \u001b[0mresult\u001b[0m\u001b[0;34m\u001b[0m\u001b[0m\n\u001b[1;32m    953\u001b[0m \u001b[0;34m\u001b[0m\u001b[0m\n",
      "\u001b[0;32m/Users/lexu/Library/Enthought/Canopy_64bit/User/lib/python2.7/site-packages/pandas/core/algorithms.pyc\u001b[0m in \u001b[0;36mvalue_counts\u001b[0;34m(values, sort, ascending, normalize, bins, dropna)\u001b[0m\n\u001b[1;32m    381\u001b[0m         \u001b[0;32mif\u001b[0m \u001b[0;32mnot\u001b[0m \u001b[0misinstance\u001b[0m\u001b[0;34m(\u001b[0m\u001b[0mkeys\u001b[0m\u001b[0;34m,\u001b[0m \u001b[0mIndex\u001b[0m\u001b[0;34m)\u001b[0m\u001b[0;34m:\u001b[0m\u001b[0;34m\u001b[0m\u001b[0m\n\u001b[1;32m    382\u001b[0m             \u001b[0mkeys\u001b[0m \u001b[0;34m=\u001b[0m \u001b[0mIndex\u001b[0m\u001b[0;34m(\u001b[0m\u001b[0mkeys\u001b[0m\u001b[0;34m)\u001b[0m\u001b[0;34m\u001b[0m\u001b[0m\n\u001b[0;32m--> 383\u001b[0;31m         \u001b[0mresult\u001b[0m \u001b[0;34m=\u001b[0m \u001b[0mSeries\u001b[0m\u001b[0;34m(\u001b[0m\u001b[0mcounts\u001b[0m\u001b[0;34m,\u001b[0m \u001b[0mindex\u001b[0m\u001b[0;34m=\u001b[0m\u001b[0mkeys\u001b[0m\u001b[0;34m,\u001b[0m \u001b[0mname\u001b[0m\u001b[0;34m=\u001b[0m\u001b[0mname\u001b[0m\u001b[0;34m)\u001b[0m\u001b[0;34m\u001b[0m\u001b[0m\n\u001b[0m\u001b[1;32m    384\u001b[0m \u001b[0;34m\u001b[0m\u001b[0m\n\u001b[1;32m    385\u001b[0m     \u001b[0;32mif\u001b[0m \u001b[0mbins\u001b[0m \u001b[0;32mis\u001b[0m \u001b[0;32mnot\u001b[0m \u001b[0mNone\u001b[0m\u001b[0;34m:\u001b[0m\u001b[0;34m\u001b[0m\u001b[0m\n",
      "\u001b[0;32m/Users/lexu/Library/Enthought/Canopy_64bit/User/lib/python2.7/site-packages/pandas/core/series.pyc\u001b[0m in \u001b[0;36m__init__\u001b[0;34m(self, data, index, dtype, name, copy, fastpath)\u001b[0m\n\u001b[1;32m    241\u001b[0m             \u001b[0;32melse\u001b[0m\u001b[0;34m:\u001b[0m\u001b[0;34m\u001b[0m\u001b[0m\n\u001b[1;32m    242\u001b[0m                 data = _sanitize_array(data, index, dtype, copy,\n\u001b[0;32m--> 243\u001b[0;31m                                        raise_cast_failure=True)\n\u001b[0m\u001b[1;32m    244\u001b[0m \u001b[0;34m\u001b[0m\u001b[0m\n\u001b[1;32m    245\u001b[0m                 \u001b[0mdata\u001b[0m \u001b[0;34m=\u001b[0m \u001b[0mSingleBlockManager\u001b[0m\u001b[0;34m(\u001b[0m\u001b[0mdata\u001b[0m\u001b[0;34m,\u001b[0m \u001b[0mindex\u001b[0m\u001b[0;34m,\u001b[0m \u001b[0mfastpath\u001b[0m\u001b[0;34m=\u001b[0m\u001b[0mTrue\u001b[0m\u001b[0;34m)\u001b[0m\u001b[0;34m\u001b[0m\u001b[0m\n",
      "\u001b[0;32m/Users/lexu/Library/Enthought/Canopy_64bit/User/lib/python2.7/site-packages/pandas/core/series.pyc\u001b[0m in \u001b[0;36m_sanitize_array\u001b[0;34m(data, index, dtype, copy, raise_cast_failure)\u001b[0m\n\u001b[1;32m   2873\u001b[0m             \u001b[0msubarr\u001b[0m \u001b[0;34m=\u001b[0m \u001b[0m_sanitize_index\u001b[0m\u001b[0;34m(\u001b[0m\u001b[0mdata\u001b[0m\u001b[0;34m,\u001b[0m \u001b[0mindex\u001b[0m\u001b[0;34m,\u001b[0m \u001b[0mcopy\u001b[0m\u001b[0;34m=\u001b[0m\u001b[0mTrue\u001b[0m\u001b[0;34m)\u001b[0m\u001b[0;34m\u001b[0m\u001b[0m\n\u001b[1;32m   2874\u001b[0m         \u001b[0;32melse\u001b[0m\u001b[0;34m:\u001b[0m\u001b[0;34m\u001b[0m\u001b[0m\n\u001b[0;32m-> 2875\u001b[0;31m             \u001b[0msubarr\u001b[0m \u001b[0;34m=\u001b[0m \u001b[0m_try_cast\u001b[0m\u001b[0;34m(\u001b[0m\u001b[0mdata\u001b[0m\u001b[0;34m,\u001b[0m \u001b[0mTrue\u001b[0m\u001b[0;34m)\u001b[0m\u001b[0;34m\u001b[0m\u001b[0m\n\u001b[0m\u001b[1;32m   2876\u001b[0m \u001b[0;34m\u001b[0m\u001b[0m\n\u001b[1;32m   2877\u001b[0m         \u001b[0;32mif\u001b[0m \u001b[0mcopy\u001b[0m\u001b[0;34m:\u001b[0m\u001b[0;34m\u001b[0m\u001b[0m\n",
      "\u001b[0;32m/Users/lexu/Library/Enthought/Canopy_64bit/User/lib/python2.7/site-packages/pandas/core/series.pyc\u001b[0m in \u001b[0;36m_try_cast\u001b[0;34m(arr, take_fast_path)\u001b[0m\n\u001b[1;32m   2841\u001b[0m         \u001b[0;32mtry\u001b[0m\u001b[0;34m:\u001b[0m\u001b[0;34m\u001b[0m\u001b[0m\n\u001b[1;32m   2842\u001b[0m             \u001b[0msubarr\u001b[0m \u001b[0;34m=\u001b[0m \u001b[0m_possibly_cast_to_datetime\u001b[0m\u001b[0;34m(\u001b[0m\u001b[0marr\u001b[0m\u001b[0;34m,\u001b[0m \u001b[0mdtype\u001b[0m\u001b[0;34m)\u001b[0m\u001b[0;34m\u001b[0m\u001b[0m\n\u001b[0;32m-> 2843\u001b[0;31m             \u001b[0;32mif\u001b[0m \u001b[0;32mnot\u001b[0m \u001b[0mis_extension_type\u001b[0m\u001b[0;34m(\u001b[0m\u001b[0msubarr\u001b[0m\u001b[0;34m)\u001b[0m\u001b[0;34m:\u001b[0m\u001b[0;34m\u001b[0m\u001b[0m\n\u001b[0m\u001b[1;32m   2844\u001b[0m                 \u001b[0msubarr\u001b[0m \u001b[0;34m=\u001b[0m \u001b[0mnp\u001b[0m\u001b[0;34m.\u001b[0m\u001b[0marray\u001b[0m\u001b[0;34m(\u001b[0m\u001b[0msubarr\u001b[0m\u001b[0;34m,\u001b[0m \u001b[0mdtype\u001b[0m\u001b[0;34m=\u001b[0m\u001b[0mdtype\u001b[0m\u001b[0;34m,\u001b[0m \u001b[0mcopy\u001b[0m\u001b[0;34m=\u001b[0m\u001b[0mcopy\u001b[0m\u001b[0;34m)\u001b[0m\u001b[0;34m\u001b[0m\u001b[0m\n\u001b[1;32m   2845\u001b[0m         \u001b[0;32mexcept\u001b[0m \u001b[0;34m(\u001b[0m\u001b[0mValueError\u001b[0m\u001b[0;34m,\u001b[0m \u001b[0mTypeError\u001b[0m\u001b[0;34m)\u001b[0m\u001b[0;34m:\u001b[0m\u001b[0;34m\u001b[0m\u001b[0m\n",
      "\u001b[0;32m/Users/lexu/Library/Enthought/Canopy_64bit/User/lib/python2.7/site-packages/pandas/types/common.pyc\u001b[0m in \u001b[0;36mis_extension_type\u001b[0;34m(value)\u001b[0m\n\u001b[1;32m    306\u001b[0m     \u001b[0;32mif\u001b[0m \u001b[0mis_categorical\u001b[0m\u001b[0;34m(\u001b[0m\u001b[0mvalue\u001b[0m\u001b[0;34m)\u001b[0m\u001b[0;34m:\u001b[0m\u001b[0;34m\u001b[0m\u001b[0m\n\u001b[1;32m    307\u001b[0m         \u001b[0;32mreturn\u001b[0m \u001b[0mTrue\u001b[0m\u001b[0;34m\u001b[0m\u001b[0m\n\u001b[0;32m--> 308\u001b[0;31m     \u001b[0;32melif\u001b[0m \u001b[0mis_sparse\u001b[0m\u001b[0;34m(\u001b[0m\u001b[0mvalue\u001b[0m\u001b[0;34m)\u001b[0m\u001b[0;34m:\u001b[0m\u001b[0;34m\u001b[0m\u001b[0m\n\u001b[0m\u001b[1;32m    309\u001b[0m         \u001b[0;32mreturn\u001b[0m \u001b[0mTrue\u001b[0m\u001b[0;34m\u001b[0m\u001b[0m\n\u001b[1;32m    310\u001b[0m     \u001b[0;32melif\u001b[0m \u001b[0mis_datetimetz\u001b[0m\u001b[0;34m(\u001b[0m\u001b[0mvalue\u001b[0m\u001b[0;34m)\u001b[0m\u001b[0;34m:\u001b[0m\u001b[0;34m\u001b[0m\u001b[0m\n",
      "\u001b[0;32m/Users/lexu/Library/Enthought/Canopy_64bit/User/lib/python2.7/site-packages/pandas/types/common.pyc\u001b[0m in \u001b[0;36mis_sparse\u001b[0;34m(array)\u001b[0m\n\u001b[1;32m     59\u001b[0m \u001b[0;32mdef\u001b[0m \u001b[0mis_sparse\u001b[0m\u001b[0;34m(\u001b[0m\u001b[0marray\u001b[0m\u001b[0;34m)\u001b[0m\u001b[0;34m:\u001b[0m\u001b[0;34m\u001b[0m\u001b[0m\n\u001b[1;32m     60\u001b[0m     \u001b[0;34m\"\"\" return if we are a sparse array \"\"\"\u001b[0m\u001b[0;34m\u001b[0m\u001b[0m\n\u001b[0;32m---> 61\u001b[0;31m     \u001b[0;32mreturn\u001b[0m \u001b[0misinstance\u001b[0m\u001b[0;34m(\u001b[0m\u001b[0marray\u001b[0m\u001b[0;34m,\u001b[0m \u001b[0;34m(\u001b[0m\u001b[0mABCSparseArray\u001b[0m\u001b[0;34m,\u001b[0m \u001b[0mABCSparseSeries\u001b[0m\u001b[0;34m)\u001b[0m\u001b[0;34m)\u001b[0m\u001b[0;34m\u001b[0m\u001b[0m\n\u001b[0m\u001b[1;32m     62\u001b[0m \u001b[0;34m\u001b[0m\u001b[0m\n\u001b[1;32m     63\u001b[0m \u001b[0;34m\u001b[0m\u001b[0m\n",
      "\u001b[0;31mKeyboardInterrupt\u001b[0m: "
     ]
    }
   ],
   "source": [
    "from pgmpy.estimators import ExhaustiveSearch\n",
    "bic = BicScore(data_scale)\n",
    "es = ExhaustiveSearch(data_scale, scoring_method=bic)\n",
    "best_model = es.estimate()\n",
    "print(best_model.edges())\n"
   ]
  },
  {
   "cell_type": "code",
   "execution_count": 193,
   "metadata": {
    "collapsed": false
   },
   "outputs": [
    {
     "name": "stdout",
     "output_type": "stream",
     "text": [
      "[]\n"
     ]
    }
   ],
   "source": [
    "hc = HillClimbSearch(data_scale, scoring_method=BicScore(data_scale))\n",
    "best_model = hc.estimate()\n",
    "print(best_model.edges())\n"
   ]
  },
  {
   "cell_type": "code",
   "execution_count": null,
   "metadata": {
    "collapsed": false
   },
   "outputs": [],
   "source": [
    "model = BayesianModel(best_model.edges())\n",
    "model.fit(data, estimator=BayesianEstimator)\n",
    "\n",
    "infer = VariableElimination(model)"
   ]
  },
  {
   "cell_type": "code",
   "execution_count": null,
   "metadata": {
    "collapsed": true
   },
   "outputs": [],
   "source": [
    "def logLiklihood(x,infer):\n",
    "    a=x.cool\n",
    "    b=x.funny\n",
    "    c=x.useful\n",
    "    d=x.stars\n",
    "    print (a,b,c,d)\n",
    "    return np.log((infer.query([\"cool\"], evidence={'funny': b})['cool']).values[a])\\\n",
    "            +np.log((infer.query([\"funny\"])['funny']).values[b])\\\n",
    "            +np.log((infer.query([\"useful\"], evidence={'cool': a})['useful']).values[c])\\\n",
    "            +np.log((infer.query([\"stars\"], evidence={'cool': a})['stars']).values[d])"
   ]
  },
  {
   "cell_type": "code",
   "execution_count": null,
   "metadata": {
    "collapsed": true
   },
   "outputs": [],
   "source": [
    "exmp= data.apply(lambda x: logLiklihood(x,infer),axis=1)"
   ]
  }
 ],
 "metadata": {
  "kernelspec": {
   "display_name": "Python 2",
   "language": "python",
   "name": "python2"
  },
  "language_info": {
   "codemirror_mode": {
    "name": "ipython",
    "version": 2
   },
   "file_extension": ".py",
   "mimetype": "text/x-python",
   "name": "python",
   "nbconvert_exporter": "python",
   "pygments_lexer": "ipython2",
   "version": "2.7.11"
  }
 },
 "nbformat": 4,
 "nbformat_minor": 0
}
